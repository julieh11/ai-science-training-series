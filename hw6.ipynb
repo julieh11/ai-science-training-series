{
  "cells": [
    {
      "cell_type": "markdown",
      "metadata": {
        "id": "view-in-github",
        "colab_type": "text"
      },
      "source": [
        "<a href=\"https://colab.research.google.com/github/julieh11/ai-science-training-series/blob/main/hw6.ipynb\" target=\"_parent\"><img src=\"https://colab.research.google.com/assets/colab-badge.svg\" alt=\"Open In Colab\"/></a>"
      ]
    },
    {
      "cell_type": "markdown",
      "id": "1fc5d004-5e6f-4bb3-938e-fb44f919cec3",
      "metadata": {
        "execution": {
          "iopub.status.busy": "2023-11-11T07:14:30.136832+00:00",
          "iopub.status.idle": "2023-11-11T07:14:30.175293+00:00"
        },
        "id": "1fc5d004-5e6f-4bb3-938e-fb44f919cec3",
        "jupyter": {
          "source_hidden": false
        }
      },
      "source": [
        "# [`wordplay` 🎮 💬](https://github.com/saforem2/wordplay): Shakespeare ✍️\n",
        "\n",
        "We will be using the [Shakespeare dataset](https://github.com/saforem2/wordplay/blob/main/data/shakespeare/readme.md) to train a (~ small) 10M param LLM _from scratch_.\n",
        "\n",
        "<div>\n",
        "\n",
        "<div align=\"center\" style=\"text-align:center;\">\n",
        "\n",
        "<img src=\"https://github.com/saforem2/wordplay/blob/main/assets/shakespeare.jpeg?raw=true\" width=\"45%\" align=\"center\" /><br>\n",
        "\n",
        "Image generated from [stabilityai/stable-diffusion](https://huggingface.co/spaces/stabilityai/stable-diffusion) on [🤗 Spaces](https://huggingface.co/spaces).<br>\n",
        "\n",
        "</div>\n",
        "\n",
        "<details closed><summary>Prompt Details</summary>\n",
        "\n",
        "<ul>\n",
        "<li>Prompt:</li>\n",
        "<t><q>\n",
        "Shakespeare himself, dressed in full Shakespearean garb,\n",
        "writing code at a modern workstation with multiple monitors, hacking away profusely,\n",
        "backlit, high quality for publication\n",
        "</q></t>\n",
        "\n",
        "<li>Negative Prompt:</li>\n",
        "<t><q>\n",
        "low quality, 3d, photorealistic, ugly\n",
        "</q></t>\n",
        "</ul>\n",
        "\n",
        "</details>\n",
        "\n",
        "</div>"
      ]
    },
    {
      "cell_type": "markdown",
      "id": "bd994b32-ca5f-4e00-81d3-89dbbf7b2093",
      "metadata": {
        "id": "bd994b32-ca5f-4e00-81d3-89dbbf7b2093",
        "jupyter": {
          "source_hidden": false
        }
      },
      "source": [
        "## Install / Setup"
      ]
    },
    {
      "cell_type": "markdown",
      "id": "71c38d27-5acb-4e5d-87c8-dbb2739cf277",
      "metadata": {
        "id": "71c38d27-5acb-4e5d-87c8-dbb2739cf277",
        "jupyter": {
          "source_hidden": false
        }
      },
      "source": [
        "<div class=\"alert alert-block alert-warning\">\n",
        "<b>Warning!</b><br>  \n",
        "\n",
        "**IF YOU ARE EXECUTING ON GOOGLE COLAB**:  \n",
        "\n",
        "You will need to restart your runtime (`Runtime` $\\rightarrow\\,$ `Restart runtime`)  \n",
        "_after_ executing the following cell:\n",
        "\n",
        "</div>"
      ]
    },
    {
      "cell_type": "code",
      "execution_count": null,
      "id": "31e60f3e",
      "metadata": {
        "colab": {
          "base_uri": "https://localhost:8080/"
        },
        "execution": {
          "iopub.execute_input": "2023-11-30T16:35:09.547786Z",
          "iopub.status.busy": "2023-11-30T16:35:09.547243Z",
          "iopub.status.idle": "2023-11-30T16:35:09.697821Z",
          "shell.execute_reply": "2023-11-30T16:35:09.697442Z",
          "shell.execute_reply.started": "2023-11-30T16:35:09.547769Z"
        },
        "id": "31e60f3e",
        "jupyter": {
          "outputs_hidden": false,
          "source_hidden": false
        },
        "outputId": "12cb2220-3261-4328-9fbf-5ffa3119c6e8"
      },
      "outputs": [
        {
          "output_type": "stream",
          "name": "stdout",
          "text": [
            "None\n",
            "Has wordplay installed. Nothing to do.\n"
          ]
        }
      ],
      "source": [
        "%%bash\n",
        "\n",
        "python3 -c 'import wordplay; print(wordplay.__file__)' 2> '/dev/null'\n",
        "\n",
        "if [[ $? -eq 0 ]]; then\n",
        "    echo \"Has wordplay installed. Nothing to do.\"\n",
        "else\n",
        "    echo \"Does not have wordplay installed. Installing...\"\n",
        "    git clone 'https://github.com/saforem2/wordplay'\n",
        "    python3 wordplay/data/shakespeare_char/prepare.py\n",
        "    python3 wordplay/data/shakespeare/prepare.py\n",
        "    python3 -m pip install deepspeed\n",
        "    python3 -m pip install -e wordplay\n",
        "fi"
      ]
    },
    {
      "cell_type": "code",
      "source": [
        "!git clone 'https://github.com/saforem2/wordplay'\n",
        "!python3 wordplay/data/shakespeare_char/prepare.py\n",
        "!python3 wordplay/data/shakespeare/prepare.py\n",
        "!python3 -m pip install deepspeed\n",
        "!python3 -m pip install -e wordplay"
      ],
      "metadata": {
        "colab": {
          "base_uri": "https://localhost:8080/"
        },
        "id": "ppEiXoDEwjUz",
        "outputId": "ff21f138-edd3-46e8-dd71-241f1b645770"
      },
      "id": "ppEiXoDEwjUz",
      "execution_count": null,
      "outputs": [
        {
          "output_type": "stream",
          "name": "stdout",
          "text": [
            "fatal: destination path 'wordplay' already exists and is not an empty directory.\n",
            "Using HF_DATASETS_CACHE=/content/wordplay/data/shakespeare_char/.cache/huggingface\n",
            "length of dataset in characters: 1,115,394\n",
            "all the unique characters: \n",
            " !$&',-.3:;?ABCDEFGHIJKLMNOPQRSTUVWXYZabcdefghijklmnopqrstuvwxyz\n",
            "vocab size: 65\n",
            "train has 1,003,854 tokens\n",
            "val has 111,540 tokens\n",
            "Traceback (most recent call last):\n",
            "  File \"/content/wordplay/data/shakespeare/prepare.py\", line 7, in <module>\n",
            "    import tiktoken\n",
            "ModuleNotFoundError: No module named 'tiktoken'\n",
            "Requirement already satisfied: deepspeed in /usr/local/lib/python3.10/dist-packages (0.16.0)\n",
            "Requirement already satisfied: hjson in /usr/local/lib/python3.10/dist-packages (from deepspeed) (3.1.0)\n",
            "Requirement already satisfied: msgpack in /usr/local/lib/python3.10/dist-packages (from deepspeed) (1.1.0)\n",
            "Requirement already satisfied: ninja in /usr/local/lib/python3.10/dist-packages (from deepspeed) (1.11.1.2)\n",
            "Requirement already satisfied: numpy in /usr/local/lib/python3.10/dist-packages (from deepspeed) (1.26.4)\n",
            "Requirement already satisfied: packaging>=20.0 in /usr/local/lib/python3.10/dist-packages (from deepspeed) (24.2)\n",
            "Requirement already satisfied: psutil in /usr/local/lib/python3.10/dist-packages (from deepspeed) (5.9.5)\n",
            "Requirement already satisfied: py-cpuinfo in /usr/local/lib/python3.10/dist-packages (from deepspeed) (9.0.0)\n",
            "Requirement already satisfied: pydantic>=2.0.0 in /usr/local/lib/python3.10/dist-packages (from deepspeed) (2.9.2)\n",
            "Requirement already satisfied: torch in /usr/local/lib/python3.10/dist-packages (from deepspeed) (2.5.1+cu121)\n",
            "Requirement already satisfied: tqdm in /usr/local/lib/python3.10/dist-packages (from deepspeed) (4.66.6)\n",
            "Requirement already satisfied: nvidia-ml-py in /usr/local/lib/python3.10/dist-packages (from deepspeed) (12.560.30)\n",
            "Requirement already satisfied: annotated-types>=0.6.0 in /usr/local/lib/python3.10/dist-packages (from pydantic>=2.0.0->deepspeed) (0.7.0)\n",
            "Requirement already satisfied: pydantic-core==2.23.4 in /usr/local/lib/python3.10/dist-packages (from pydantic>=2.0.0->deepspeed) (2.23.4)\n",
            "Requirement already satisfied: typing-extensions>=4.6.1 in /usr/local/lib/python3.10/dist-packages (from pydantic>=2.0.0->deepspeed) (4.12.2)\n",
            "Requirement already satisfied: filelock in /usr/local/lib/python3.10/dist-packages (from torch->deepspeed) (3.16.1)\n",
            "Requirement already satisfied: networkx in /usr/local/lib/python3.10/dist-packages (from torch->deepspeed) (3.4.2)\n",
            "Requirement already satisfied: jinja2 in /usr/local/lib/python3.10/dist-packages (from torch->deepspeed) (3.1.4)\n",
            "Requirement already satisfied: fsspec in /usr/local/lib/python3.10/dist-packages (from torch->deepspeed) (2024.10.0)\n",
            "Requirement already satisfied: sympy==1.13.1 in /usr/local/lib/python3.10/dist-packages (from torch->deepspeed) (1.13.1)\n",
            "Requirement already satisfied: mpmath<1.4,>=1.1.0 in /usr/local/lib/python3.10/dist-packages (from sympy==1.13.1->torch->deepspeed) (1.3.0)\n",
            "Requirement already satisfied: MarkupSafe>=2.0 in /usr/local/lib/python3.10/dist-packages (from jinja2->torch->deepspeed) (3.0.2)\n",
            "Obtaining file:///content/wordplay\n",
            "  Installing build dependencies ... \u001b[?25l\u001b[?25hdone\n",
            "  Checking if build backend supports build_editable ... \u001b[?25l\u001b[?25hdone\n",
            "  Getting requirements to build editable ... \u001b[?25l\u001b[?25hdone\n",
            "  Installing backend dependencies ... \u001b[?25l\u001b[?25hdone\n",
            "  \u001b[1;31merror\u001b[0m: \u001b[1msubprocess-exited-with-error\u001b[0m\n",
            "  \n",
            "  \u001b[31m×\u001b[0m \u001b[32mPreparing editable metadata \u001b[0m\u001b[1;32m(\u001b[0m\u001b[32mpyproject.toml\u001b[0m\u001b[1;32m)\u001b[0m did not run successfully.\n",
            "  \u001b[31m│\u001b[0m exit code: \u001b[1;36m1\u001b[0m\n",
            "  \u001b[31m╰─>\u001b[0m See above for output.\n",
            "  \n",
            "  \u001b[1;35mnote\u001b[0m: This error originates from a subprocess, and is likely not a problem with pip.\n",
            "  Preparing editable metadata (pyproject.toml) ... \u001b[?25l\u001b[?25herror\n",
            "\u001b[1;31merror\u001b[0m: \u001b[1mmetadata-generation-failed\u001b[0m\n",
            "\n",
            "\u001b[31m×\u001b[0m Encountered error while generating package metadata.\n",
            "\u001b[31m╰─>\u001b[0m See above for output.\n",
            "\n",
            "\u001b[1;35mnote\u001b[0m: This is an issue with the package mentioned above, not pip.\n",
            "\u001b[1;36mhint\u001b[0m: See above for details.\n"
          ]
        }
      ]
    },
    {
      "source": [
        "!pip install --upgrade setuptools"
      ],
      "cell_type": "code",
      "metadata": {
        "colab": {
          "base_uri": "https://localhost:8080/"
        },
        "id": "9mFtxzFCya3Z",
        "outputId": "ef5f373d-a13c-4ca7-8b84-ec19c2e9e002"
      },
      "id": "9mFtxzFCya3Z",
      "execution_count": null,
      "outputs": [
        {
          "output_type": "stream",
          "name": "stdout",
          "text": [
            "Requirement already satisfied: setuptools in /usr/local/lib/python3.10/dist-packages (75.6.0)\n"
          ]
        }
      ]
    },
    {
      "source": [
        "!python3 -m pip uninstall ezpz\n",
        "!python3 -m pip install -e ."
      ],
      "cell_type": "code",
      "metadata": {
        "colab": {
          "base_uri": "https://localhost:8080/"
        },
        "id": "yBKyFdJAycUs",
        "outputId": "2399d545-a770-46e3-d6b0-7d727e113582"
      },
      "id": "yBKyFdJAycUs",
      "execution_count": null,
      "outputs": [
        {
          "output_type": "stream",
          "name": "stdout",
          "text": [
            "Found existing installation: ezpz 0.2\n",
            "Uninstalling ezpz-0.2:\n",
            "  Would remove:\n",
            "    /usr/local/lib/python3.10/dist-packages/_ezpz.pth\n",
            "    /usr/local/lib/python3.10/dist-packages/ezpz-0.2.dist-info/*\n",
            "Proceed (Y/n)? Y\n",
            "  Successfully uninstalled ezpz-0.2\n",
            "Obtaining file:///content\n",
            "\u001b[31mERROR: file:///content does not appear to be a Python project: neither 'setup.py' nor 'pyproject.toml' found.\u001b[0m\u001b[31m\n",
            "\u001b[0m"
          ]
        }
      ]
    },
    {
      "cell_type": "code",
      "source": [
        "# prompt: is wordplay installed?\n",
        "\n",
        "%%bash\n",
        "\n",
        "python3 -c 'import wordplay; print(wordplay.__file__)' 2> '/dev/null'\n",
        "\n",
        "if [[ $? -eq 0 ]]; then\n",
        "    echo \"Has wordplay installed. Nothing to do.\"\n",
        "else\n",
        "    echo \"Does not have wordplay installed. Installing...\"\n",
        "    git clone 'https://github.com/saforem2/wordplay'\n",
        "    python3 wordplay/data/shakespeare_char/prepare.py\n",
        "    python3 wordplay/data/shakespeare/prepare.py\n",
        "    python3 -m pip install deepspeed\n",
        "    python3 -m pip install -e wordplay\n",
        "fi"
      ],
      "metadata": {
        "colab": {
          "base_uri": "https://localhost:8080/"
        },
        "id": "zdXeFWOjxM4i",
        "outputId": "02d07040-6b6a-4bea-98b0-ac0ce05127a6"
      },
      "id": "zdXeFWOjxM4i",
      "execution_count": null,
      "outputs": [
        {
          "output_type": "stream",
          "name": "stdout",
          "text": [
            "wordplay directory not found.\n"
          ]
        }
      ]
    },
    {
      "cell_type": "code",
      "source": [
        "# prompt: using content/wordplay delete wordplay\n",
        "\n",
        "!rm -rf /content/wordplay"
      ],
      "metadata": {
        "id": "qSU5mb0pxdKt"
      },
      "id": "qSU5mb0pxdKt",
      "execution_count": null,
      "outputs": []
    },
    {
      "source": [
        "%%bash\n",
        "\n",
        "python3 -c 'import wordplay; print(wordplay.__file__)' 2> '/dev/null'\n",
        "\n",
        "if [[ $? -eq 0 ]]; then\n",
        "    echo \"Has wordplay installed. Nothing to do.\"\n",
        "else\n",
        "    echo \"Does not have wordplay installed. Installing...\"\n",
        "    git clone 'https://github.com/saforem2/wordplay'\n",
        "    # Add this line to install the necessary dependencies before running prepare.py scripts\n",
        "    pip install -r wordplay/requirements.txt\n",
        "    python3 wordplay/data/shakespeare_char/prepare.py\n",
        "    python3 wordplay/data/shakespeare/prepare.py\n",
        "    python3 -m pip install deepspeed\n",
        "    python3 -m pip install -e wordplay\n",
        "fi"
      ],
      "cell_type": "code",
      "metadata": {
        "colab": {
          "base_uri": "https://localhost:8080/"
        },
        "id": "NT79pX3ephZZ",
        "outputId": "e88920c0-024e-465b-c3c0-c89246cc8685"
      },
      "id": "NT79pX3ephZZ",
      "execution_count": null,
      "outputs": [
        {
          "output_type": "stream",
          "name": "stdout",
          "text": [
            "None\n",
            "Has wordplay installed. Nothing to do.\n"
          ]
        }
      ]
    },
    {
      "cell_type": "markdown",
      "id": "c14a8da7-72fe-4839-a14d-f01606285fc3",
      "metadata": {
        "id": "c14a8da7-72fe-4839-a14d-f01606285fc3",
        "jupyter": {
          "source_hidden": false
        }
      },
      "source": [
        "## Post Install\n",
        "\n",
        "If installed correctly, you should be able to:\n",
        "\n",
        "```python\n",
        ">>> import wordplay\n",
        ">>> wordplay.__file__\n",
        "'/path/to/wordplay/src/wordplay/__init__.py'\n",
        "```"
      ]
    },
    {
      "cell_type": "code",
      "source": [
        "import wordplay\n",
        "wordplay.__file__"
      ],
      "metadata": {
        "id": "SY_DKqZWqTWB"
      },
      "id": "SY_DKqZWqTWB",
      "execution_count": null,
      "outputs": []
    },
    {
      "cell_type": "code",
      "source": [
        "# prompt: uninstall wordplay\n",
        "\n",
        "!pip uninstall wordplay\n"
      ],
      "metadata": {
        "colab": {
          "base_uri": "https://localhost:8080/"
        },
        "id": "gm_A8O3nv2oW",
        "outputId": "1f084354-e05d-47e3-8aa6-c82615fbb279"
      },
      "id": "gm_A8O3nv2oW",
      "execution_count": null,
      "outputs": [
        {
          "output_type": "stream",
          "name": "stdout",
          "text": [
            "Found existing installation: wordplay 1.0.0a4\n",
            "Uninstalling wordplay-1.0.0a4:\n",
            "  Would remove:\n",
            "    /usr/local/lib/python3.10/dist-packages/wordplay-1.0.0a4.dist-info/*\n",
            "    /usr/local/lib/python3.10/dist-packages/wordplay/*\n",
            "Proceed (Y/n)? Y\n",
            "  Successfully uninstalled wordplay-1.0.0a4\n"
          ]
        }
      ]
    },
    {
      "cell_type": "code",
      "source": [
        "!git clone 'https://github.com/saforem2/ezpz'"
      ],
      "metadata": {
        "colab": {
          "base_uri": "https://localhost:8080/"
        },
        "id": "4QJVfAcosVV2",
        "outputId": "5adf47f8-81be-4ed0-ef82-0146ac50b54a"
      },
      "id": "4QJVfAcosVV2",
      "execution_count": null,
      "outputs": [
        {
          "output_type": "stream",
          "name": "stdout",
          "text": [
            "fatal: destination path 'ezpz' already exists and is not an empty directory.\n"
          ]
        }
      ]
    },
    {
      "cell_type": "code",
      "source": [
        "!python3 -m pip install -e ezpz"
      ],
      "metadata": {
        "colab": {
          "base_uri": "https://localhost:8080/"
        },
        "id": "x5xP95Fish8_",
        "outputId": "717a41b1-8f6c-4fb3-de2a-b49bd046d6a7"
      },
      "id": "x5xP95Fish8_",
      "execution_count": null,
      "outputs": [
        {
          "output_type": "stream",
          "name": "stdout",
          "text": [
            "Obtaining file:///content/ezpz\n",
            "  Installing build dependencies ... \u001b[?25l\u001b[?25hdone\n",
            "  Checking if build backend supports build_editable ... \u001b[?25l\u001b[?25hdone\n",
            "  Getting requirements to build editable ... \u001b[?25l\u001b[?25hdone\n",
            "  Installing backend dependencies ... \u001b[?25l\u001b[?25hdone\n",
            "  Preparing editable metadata (pyproject.toml) ... \u001b[?25l\u001b[?25hdone\n",
            "Collecting ambivalent@ git+https://github.com/saforem2/ambivalent (from ezpz==0.2)\n",
            "  Cloning https://github.com/saforem2/ambivalent to /tmp/pip-install-vq699quj/ambivalent_b18fb33fb8c844b2be83503993b51334\n",
            "  Running command git clone --filter=blob:none --quiet https://github.com/saforem2/ambivalent /tmp/pip-install-vq699quj/ambivalent_b18fb33fb8c844b2be83503993b51334\n",
            "  Resolved https://github.com/saforem2/ambivalent to commit eac43ada80b6d4b2f71bf45cee9329993f622e87\n",
            "  Installing build dependencies ... \u001b[?25l\u001b[?25hdone\n",
            "  Getting requirements to build wheel ... \u001b[?25l\u001b[?25hdone\n",
            "  Preparing metadata (pyproject.toml) ... \u001b[?25l\u001b[?25hdone\n",
            "Requirement already satisfied: h5py in /usr/local/lib/python3.10/dist-packages (from ezpz==0.2) (3.12.1)\n",
            "Requirement already satisfied: hydra-colorlog in /usr/local/lib/python3.10/dist-packages (from ezpz==0.2) (1.2.0)\n",
            "Requirement already satisfied: hydra-core in /usr/local/lib/python3.10/dist-packages (from ezpz==0.2) (1.3.2)\n",
            "Requirement already satisfied: ipython in /usr/local/lib/python3.10/dist-packages (from ezpz==0.2) (7.34.0)\n",
            "Requirement already satisfied: jax in /usr/local/lib/python3.10/dist-packages (from ezpz==0.2) (0.4.33)\n",
            "Requirement already satisfied: jaxlib in /usr/local/lib/python3.10/dist-packages (from ezpz==0.2) (0.4.33)\n",
            "Requirement already satisfied: jaxtyping in /usr/local/lib/python3.10/dist-packages (from ezpz==0.2) (0.2.36)\n",
            "Requirement already satisfied: joblib in /usr/local/lib/python3.10/dist-packages (from ezpz==0.2) (1.4.2)\n",
            "Requirement already satisfied: ml-dtypes in /usr/local/lib/python3.10/dist-packages (from ezpz==0.2) (0.4.1)\n",
            "Requirement already satisfied: mpi4py in /usr/local/lib/python3.10/dist-packages (from ezpz==0.2) (4.0.1)\n",
            "Requirement already satisfied: omegaconf in /usr/local/lib/python3.10/dist-packages (from ezpz==0.2) (2.3.0)\n",
            "Requirement already satisfied: plotext in /usr/local/lib/python3.10/dist-packages (from ezpz==0.2) (5.3.2)\n",
            "Requirement already satisfied: pyinstrument in /usr/local/lib/python3.10/dist-packages (from ezpz==0.2) (5.0.0)\n",
            "Requirement already satisfied: rich in /usr/local/lib/python3.10/dist-packages (from ezpz==0.2) (13.9.4)\n",
            "Requirement already satisfied: seaborn in /usr/local/lib/python3.10/dist-packages (from ezpz==0.2) (0.13.2)\n",
            "Requirement already satisfied: sentencepiece in /usr/local/lib/python3.10/dist-packages (from ezpz==0.2) (0.2.0)\n",
            "Requirement already satisfied: sh in /usr/local/lib/python3.10/dist-packages (from ezpz==0.2) (2.1.0)\n",
            "Requirement already satisfied: tensorboard in /usr/local/lib/python3.10/dist-packages (from ezpz==0.2) (2.17.1)\n",
            "Requirement already satisfied: torch in /usr/local/lib/python3.10/dist-packages (from ezpz==0.2) (2.5.1+cu121)\n",
            "Requirement already satisfied: tqdm in /usr/local/lib/python3.10/dist-packages (from ezpz==0.2) (4.66.6)\n",
            "Requirement already satisfied: wandb in /usr/local/lib/python3.10/dist-packages (from ezpz==0.2) (0.18.7)\n",
            "Requirement already satisfied: xarray in /usr/local/lib/python3.10/dist-packages (from ezpz==0.2) (2024.10.0)\n",
            "Requirement already satisfied: colormaps in /usr/local/lib/python3.10/dist-packages (from ambivalent@ git+https://github.com/saforem2/ambivalent->ezpz==0.2) (0.4.2)\n",
            "Requirement already satisfied: matplotlib in /usr/local/lib/python3.10/dist-packages (from ambivalent@ git+https://github.com/saforem2/ambivalent->ezpz==0.2) (3.8.0)\n",
            "Requirement already satisfied: requests in /usr/local/lib/python3.10/dist-packages (from ambivalent@ git+https://github.com/saforem2/ambivalent->ezpz==0.2) (2.32.3)\n",
            "Requirement already satisfied: numpy>=1.19.3 in /usr/local/lib/python3.10/dist-packages (from h5py->ezpz==0.2) (1.26.4)\n",
            "Requirement already satisfied: colorlog in /usr/local/lib/python3.10/dist-packages (from hydra-colorlog->ezpz==0.2) (6.9.0)\n",
            "Requirement already satisfied: antlr4-python3-runtime==4.9.* in /usr/local/lib/python3.10/dist-packages (from hydra-core->ezpz==0.2) (4.9.3)\n",
            "Requirement already satisfied: packaging in /usr/local/lib/python3.10/dist-packages (from hydra-core->ezpz==0.2) (24.2)\n",
            "Requirement already satisfied: PyYAML>=5.1.0 in /usr/local/lib/python3.10/dist-packages (from omegaconf->ezpz==0.2) (6.0.2)\n",
            "Requirement already satisfied: setuptools>=18.5 in /usr/local/lib/python3.10/dist-packages (from ipython->ezpz==0.2) (75.6.0)\n",
            "Requirement already satisfied: jedi>=0.16 in /usr/local/lib/python3.10/dist-packages (from ipython->ezpz==0.2) (0.19.2)\n",
            "Requirement already satisfied: decorator in /usr/local/lib/python3.10/dist-packages (from ipython->ezpz==0.2) (4.4.2)\n",
            "Requirement already satisfied: pickleshare in /usr/local/lib/python3.10/dist-packages (from ipython->ezpz==0.2) (0.7.5)\n",
            "Requirement already satisfied: traitlets>=4.2 in /usr/local/lib/python3.10/dist-packages (from ipython->ezpz==0.2) (5.7.1)\n",
            "Requirement already satisfied: prompt-toolkit!=3.0.0,!=3.0.1,<3.1.0,>=2.0.0 in /usr/local/lib/python3.10/dist-packages (from ipython->ezpz==0.2) (3.0.48)\n",
            "Requirement already satisfied: pygments in /usr/local/lib/python3.10/dist-packages (from ipython->ezpz==0.2) (2.18.0)\n",
            "Requirement already satisfied: backcall in /usr/local/lib/python3.10/dist-packages (from ipython->ezpz==0.2) (0.2.0)\n",
            "Requirement already satisfied: matplotlib-inline in /usr/local/lib/python3.10/dist-packages (from ipython->ezpz==0.2) (0.1.7)\n",
            "Requirement already satisfied: pexpect>4.3 in /usr/local/lib/python3.10/dist-packages (from ipython->ezpz==0.2) (4.9.0)\n",
            "Requirement already satisfied: opt-einsum in /usr/local/lib/python3.10/dist-packages (from jax->ezpz==0.2) (3.4.0)\n",
            "Requirement already satisfied: scipy>=1.10 in /usr/local/lib/python3.10/dist-packages (from jax->ezpz==0.2) (1.13.1)\n",
            "Requirement already satisfied: markdown-it-py>=2.2.0 in /usr/local/lib/python3.10/dist-packages (from rich->ezpz==0.2) (3.0.0)\n",
            "Requirement already satisfied: typing-extensions<5.0,>=4.0.0 in /usr/local/lib/python3.10/dist-packages (from rich->ezpz==0.2) (4.12.2)\n",
            "Requirement already satisfied: pandas>=1.2 in /usr/local/lib/python3.10/dist-packages (from seaborn->ezpz==0.2) (2.2.2)\n",
            "Requirement already satisfied: absl-py>=0.4 in /usr/local/lib/python3.10/dist-packages (from tensorboard->ezpz==0.2) (1.4.0)\n",
            "Requirement already satisfied: grpcio>=1.48.2 in /usr/local/lib/python3.10/dist-packages (from tensorboard->ezpz==0.2) (1.68.0)\n",
            "Requirement already satisfied: markdown>=2.6.8 in /usr/local/lib/python3.10/dist-packages (from tensorboard->ezpz==0.2) (3.7)\n",
            "Requirement already satisfied: protobuf!=4.24.0,>=3.19.6 in /usr/local/lib/python3.10/dist-packages (from tensorboard->ezpz==0.2) (4.25.5)\n",
            "Requirement already satisfied: six>1.9 in /usr/local/lib/python3.10/dist-packages (from tensorboard->ezpz==0.2) (1.16.0)\n",
            "Requirement already satisfied: tensorboard-data-server<0.8.0,>=0.7.0 in /usr/local/lib/python3.10/dist-packages (from tensorboard->ezpz==0.2) (0.7.2)\n",
            "Requirement already satisfied: werkzeug>=1.0.1 in /usr/local/lib/python3.10/dist-packages (from tensorboard->ezpz==0.2) (3.1.3)\n",
            "Requirement already satisfied: filelock in /usr/local/lib/python3.10/dist-packages (from torch->ezpz==0.2) (3.16.1)\n",
            "Requirement already satisfied: networkx in /usr/local/lib/python3.10/dist-packages (from torch->ezpz==0.2) (3.4.2)\n",
            "Requirement already satisfied: jinja2 in /usr/local/lib/python3.10/dist-packages (from torch->ezpz==0.2) (3.1.4)\n",
            "Requirement already satisfied: fsspec in /usr/local/lib/python3.10/dist-packages (from torch->ezpz==0.2) (2024.10.0)\n",
            "Requirement already satisfied: sympy==1.13.1 in /usr/local/lib/python3.10/dist-packages (from torch->ezpz==0.2) (1.13.1)\n",
            "Requirement already satisfied: mpmath<1.4,>=1.1.0 in /usr/local/lib/python3.10/dist-packages (from sympy==1.13.1->torch->ezpz==0.2) (1.3.0)\n",
            "Requirement already satisfied: click!=8.0.0,>=7.1 in /usr/local/lib/python3.10/dist-packages (from wandb->ezpz==0.2) (8.1.7)\n",
            "Requirement already satisfied: docker-pycreds>=0.4.0 in /usr/local/lib/python3.10/dist-packages (from wandb->ezpz==0.2) (0.4.0)\n",
            "Requirement already satisfied: gitpython!=3.1.29,>=1.0.0 in /usr/local/lib/python3.10/dist-packages (from wandb->ezpz==0.2) (3.1.43)\n",
            "Requirement already satisfied: platformdirs in /usr/local/lib/python3.10/dist-packages (from wandb->ezpz==0.2) (4.3.6)\n",
            "Requirement already satisfied: psutil>=5.0.0 in /usr/local/lib/python3.10/dist-packages (from wandb->ezpz==0.2) (5.9.5)\n",
            "Requirement already satisfied: sentry-sdk>=2.0.0 in /usr/local/lib/python3.10/dist-packages (from wandb->ezpz==0.2) (2.18.0)\n",
            "Requirement already satisfied: setproctitle in /usr/local/lib/python3.10/dist-packages (from wandb->ezpz==0.2) (1.3.4)\n",
            "Requirement already satisfied: gitdb<5,>=4.0.1 in /usr/local/lib/python3.10/dist-packages (from gitpython!=3.1.29,>=1.0.0->wandb->ezpz==0.2) (4.0.11)\n",
            "Requirement already satisfied: parso<0.9.0,>=0.8.4 in /usr/local/lib/python3.10/dist-packages (from jedi>=0.16->ipython->ezpz==0.2) (0.8.4)\n",
            "Requirement already satisfied: mdurl~=0.1 in /usr/local/lib/python3.10/dist-packages (from markdown-it-py>=2.2.0->rich->ezpz==0.2) (0.1.2)\n",
            "Requirement already satisfied: contourpy>=1.0.1 in /usr/local/lib/python3.10/dist-packages (from matplotlib->ambivalent@ git+https://github.com/saforem2/ambivalent->ezpz==0.2) (1.3.1)\n",
            "Requirement already satisfied: cycler>=0.10 in /usr/local/lib/python3.10/dist-packages (from matplotlib->ambivalent@ git+https://github.com/saforem2/ambivalent->ezpz==0.2) (0.12.1)\n",
            "Requirement already satisfied: fonttools>=4.22.0 in /usr/local/lib/python3.10/dist-packages (from matplotlib->ambivalent@ git+https://github.com/saforem2/ambivalent->ezpz==0.2) (4.55.0)\n",
            "Requirement already satisfied: kiwisolver>=1.0.1 in /usr/local/lib/python3.10/dist-packages (from matplotlib->ambivalent@ git+https://github.com/saforem2/ambivalent->ezpz==0.2) (1.4.7)\n",
            "Requirement already satisfied: pillow>=6.2.0 in /usr/local/lib/python3.10/dist-packages (from matplotlib->ambivalent@ git+https://github.com/saforem2/ambivalent->ezpz==0.2) (11.0.0)\n",
            "Requirement already satisfied: pyparsing>=2.3.1 in /usr/local/lib/python3.10/dist-packages (from matplotlib->ambivalent@ git+https://github.com/saforem2/ambivalent->ezpz==0.2) (3.2.0)\n",
            "Requirement already satisfied: python-dateutil>=2.7 in /usr/local/lib/python3.10/dist-packages (from matplotlib->ambivalent@ git+https://github.com/saforem2/ambivalent->ezpz==0.2) (2.8.2)\n",
            "Requirement already satisfied: pytz>=2020.1 in /usr/local/lib/python3.10/dist-packages (from pandas>=1.2->seaborn->ezpz==0.2) (2024.2)\n",
            "Requirement already satisfied: tzdata>=2022.7 in /usr/local/lib/python3.10/dist-packages (from pandas>=1.2->seaborn->ezpz==0.2) (2024.2)\n",
            "Requirement already satisfied: ptyprocess>=0.5 in /usr/local/lib/python3.10/dist-packages (from pexpect>4.3->ipython->ezpz==0.2) (0.7.0)\n",
            "Requirement already satisfied: wcwidth in /usr/local/lib/python3.10/dist-packages (from prompt-toolkit!=3.0.0,!=3.0.1,<3.1.0,>=2.0.0->ipython->ezpz==0.2) (0.2.13)\n",
            "Requirement already satisfied: charset-normalizer<4,>=2 in /usr/local/lib/python3.10/dist-packages (from requests->ambivalent@ git+https://github.com/saforem2/ambivalent->ezpz==0.2) (3.4.0)\n",
            "Requirement already satisfied: idna<4,>=2.5 in /usr/local/lib/python3.10/dist-packages (from requests->ambivalent@ git+https://github.com/saforem2/ambivalent->ezpz==0.2) (3.10)\n",
            "Requirement already satisfied: urllib3<3,>=1.21.1 in /usr/local/lib/python3.10/dist-packages (from requests->ambivalent@ git+https://github.com/saforem2/ambivalent->ezpz==0.2) (2.2.3)\n",
            "Requirement already satisfied: certifi>=2017.4.17 in /usr/local/lib/python3.10/dist-packages (from requests->ambivalent@ git+https://github.com/saforem2/ambivalent->ezpz==0.2) (2024.8.30)\n",
            "Requirement already satisfied: MarkupSafe>=2.1.1 in /usr/local/lib/python3.10/dist-packages (from werkzeug>=1.0.1->tensorboard->ezpz==0.2) (3.0.2)\n",
            "Requirement already satisfied: smmap<6,>=3.0.1 in /usr/local/lib/python3.10/dist-packages (from gitdb<5,>=4.0.1->gitpython!=3.1.29,>=1.0.0->wandb->ezpz==0.2) (5.0.1)\n",
            "Building wheels for collected packages: ezpz\n",
            "  Building editable for ezpz (pyproject.toml) ... \u001b[?25l\u001b[?25hdone\n",
            "  Created wheel for ezpz: filename=ezpz-0.2-py3-none-any.whl size=10696 sha256=9bd5d23646ccfd886326ef8e74b80e8109abc39cbe6f804e8439d7b6ba3e3cd1\n",
            "  Stored in directory: /tmp/pip-ephem-wheel-cache-fc3giy79/wheels/6d/9a/21/1f72be0b7411ab50c4a3e2e2f17a9b9a2d384c75fc91422211\n",
            "Successfully built ezpz\n",
            "Installing collected packages: ezpz\n",
            "Successfully installed ezpz-0.2\n"
          ]
        }
      ]
    },
    {
      "cell_type": "code",
      "source": [
        "import logging\n",
        "log = logging.getLogger(\"test\")\n",
        "log.setLevel('INFO')\n",
        "log.info(\"testing\")\n"
      ],
      "metadata": {
        "colab": {
          "base_uri": "https://localhost:8080/"
        },
        "id": "ZI4yuWOAuYnm",
        "outputId": "b4d5e21c-18bd-420f-add5-84b308bf9903"
      },
      "id": "ZI4yuWOAuYnm",
      "execution_count": null,
      "outputs": [
        {
          "output_type": "stream",
          "name": "stderr",
          "text": [
            "INFO:test:testing\n"
          ]
        }
      ]
    },
    {
      "cell_type": "code",
      "execution_count": null,
      "id": "9fbf22d1-34ba-48ae-a78e-fc447fc9a0de",
      "metadata": {
        "execution": {
          "iopub.execute_input": "2023-11-30T16:35:09.818095Z",
          "iopub.status.busy": "2023-11-30T16:35:09.817884Z",
          "iopub.status.idle": "2023-11-30T16:35:10.193029Z",
          "shell.execute_reply": "2023-11-30T16:35:10.192647Z",
          "shell.execute_reply.started": "2023-11-30T16:35:09.818079Z"
        },
        "id": "9fbf22d1-34ba-48ae-a78e-fc447fc9a0de",
        "jupyter": {
          "outputs_hidden": false,
          "source_hidden": false
        }
      },
      "outputs": [],
      "source": [
        "%load_ext autoreload\n",
        "%autoreload 2\n",
        "import os\n",
        "\n",
        "os.environ['COLORTERM'] = 'truecolor'\n",
        "# If running on MacOS:\n",
        "# os.environ['PYTORCH_ENABLE_MPS_FALLBACK'] = '1'\n",
        "# -----------------------------------------------\n",
        "\n",
        "\n",
        "#log = logging.getLogger(level='INFO')\n",
        "log = logging.getLogger(\"INFO\")\n",
        "\n",
        "import wordplay\n",
        "log.info(wordplay.__file__)"
      ]
    },
    {
      "cell_type": "markdown",
      "id": "e329ed94-582e-4aa8-bbe0-ba56782fe9e9",
      "metadata": {
        "id": "e329ed94-582e-4aa8-bbe0-ba56782fe9e9",
        "jupyter": {
          "source_hidden": false
        }
      },
      "source": [
        "## Build Trainer\n",
        "\n",
        "Explicitly, we:\n",
        "\n",
        "1. `setup_torch(...)`\n",
        "2. Build `cfg: DictConfig = get_config(...)`\n",
        "3. Instnatiate `config: ExperimentConfig = instantiate(cfg)`\n",
        "4. Build `trainer = Trainer(config)`"
      ]
    },
    {
      "cell_type": "code",
      "source": [
        "!pip install tiktoken\n",
        "from wordplay.src.wordplay import configs"
      ],
      "metadata": {
        "colab": {
          "base_uri": "https://localhost:8080/",
          "height": 291
        },
        "id": "zns2u7dD1vbP",
        "outputId": "76140aa1-2371-4b76-f07e-e4b22988557d"
      },
      "id": "zns2u7dD1vbP",
      "execution_count": null,
      "outputs": [
        {
          "output_type": "stream",
          "name": "stdout",
          "text": [
            "Collecting tiktoken\n",
            "  Downloading tiktoken-0.8.0-cp310-cp310-manylinux_2_17_x86_64.manylinux2014_x86_64.whl.metadata (6.6 kB)\n",
            "Requirement already satisfied: regex>=2022.1.18 in /usr/local/lib/python3.10/dist-packages (from tiktoken) (2024.9.11)\n",
            "Requirement already satisfied: requests>=2.26.0 in /usr/local/lib/python3.10/dist-packages (from tiktoken) (2.32.3)\n",
            "Requirement already satisfied: charset-normalizer<4,>=2 in /usr/local/lib/python3.10/dist-packages (from requests>=2.26.0->tiktoken) (3.4.0)\n",
            "Requirement already satisfied: idna<4,>=2.5 in /usr/local/lib/python3.10/dist-packages (from requests>=2.26.0->tiktoken) (3.10)\n",
            "Requirement already satisfied: urllib3<3,>=1.21.1 in /usr/local/lib/python3.10/dist-packages (from requests>=2.26.0->tiktoken) (2.2.3)\n",
            "Requirement already satisfied: certifi>=2017.4.17 in /usr/local/lib/python3.10/dist-packages (from requests>=2.26.0->tiktoken) (2024.8.30)\n",
            "Downloading tiktoken-0.8.0-cp310-cp310-manylinux_2_17_x86_64.manylinux2014_x86_64.whl (1.2 MB)\n",
            "\u001b[?25l   \u001b[38;5;237m━━━━━━━━━━━━━━━━━━━━━━━━━━━━━━━━━━━━━━━━\u001b[0m \u001b[32m0.0/1.2 MB\u001b[0m \u001b[31m?\u001b[0m eta \u001b[36m-:--:--\u001b[0m\r\u001b[2K   \u001b[38;2;249;38;114m━━━━━━━━━━\u001b[0m\u001b[38;5;237m╺\u001b[0m\u001b[38;5;237m━━━━━━━━━━━━━━━━━━━━━━━━━━━━━\u001b[0m \u001b[32m0.3/1.2 MB\u001b[0m \u001b[31m9.5 MB/s\u001b[0m eta \u001b[36m0:00:01\u001b[0m\r\u001b[2K   \u001b[38;2;114;156;31m━━━━━━━━━━━━━━━━━━━━━━━━━━━━━━━━━━━━━━━━\u001b[0m \u001b[32m1.2/1.2 MB\u001b[0m \u001b[31m18.2 MB/s\u001b[0m eta \u001b[36m0:00:00\u001b[0m\n",
            "\u001b[?25hInstalling collected packages: tiktoken\n",
            "Successfully installed tiktoken-0.8.0\n"
          ]
        },
        {
          "output_type": "display_data",
          "data": {
            "text/plain": [
              "\u001b[30m[\u001b[0m\u001b[30m2024-11-26 \u001b[0m\u001b[90m19:35:47.134586\u001b[0m\u001b[30m]\u001b[0m\u001b[30m[\u001b[0m\u001b[1;32mINFO\u001b[0m\u001b[30m]\u001b[0m\u001b[30m[\u001b[0m\u001b[3;34mconfigs.py\u001b[0m\u001b[94m:\u001b[0m\u001b[30m86\u001b[0m\u001b[30m]\u001b[0m\u001b[38;2;131;131;131m - \u001b[0mCaught \u001b[3;94mHF_DATASETS_CACHE\u001b[0m=\u001b[3;92m'/content/ezpz/.cache/huggingface'\u001b[0m from env\n"
            ],
            "text/html": [
              "<pre style=\"white-space:pre;overflow-x:auto;line-height:normal;font-family:Menlo,'DejaVu Sans Mono',consolas,'Courier New',monospace\"><span style=\"color: #000000; text-decoration-color: #000000\">[</span><span style=\"color: #000000; text-decoration-color: #000000\">2024-11-26 </span><span style=\"color: #808080; text-decoration-color: #808080\">19:35:47.134586</span><span style=\"color: #000000; text-decoration-color: #000000\">][</span><span style=\"color: #008000; text-decoration-color: #008000; font-weight: bold\">INFO</span><span style=\"color: #000000; text-decoration-color: #000000\">][</span><span style=\"color: #000080; text-decoration-color: #000080; font-style: italic\">configs.py</span><span style=\"color: #0000ff; text-decoration-color: #0000ff\">:</span><span style=\"color: #000000; text-decoration-color: #000000\">86</span><span style=\"color: #000000; text-decoration-color: #000000\">]</span><span style=\"color: #838383; text-decoration-color: #838383\"> - </span>Caught <span style=\"color: #0000ff; text-decoration-color: #0000ff; font-style: italic\">HF_DATASETS_CACHE</span>=<span style=\"color: #00ff00; text-decoration-color: #00ff00; font-style: italic\">'/content/ezpz/.cache/huggingface'</span> from env\n",
              "</pre>\n"
            ]
          },
          "metadata": {}
        }
      ]
    },
    {
      "cell_type": "code",
      "source": [
        "# prompt: import the class ExperimentConfig from the file configs.py found on the path content.wordplay.src.wordplay\n",
        "\n",
        "import logging\n",
        "import os\n",
        "from wordplay.src.wordplay import configs\n",
        "\n",
        "# Assuming configs.py contains the ExperimentConfig class\n",
        "# and that wordplay is correctly installed in your environment.\n",
        "\n",
        "# Example usage\n",
        "config = configs.ExperimentConfig()\n",
        "# ... further use of config object"
      ],
      "metadata": {
        "colab": {
          "base_uri": "https://localhost:8080/",
          "height": 254
        },
        "id": "I1cTipYOCS-k",
        "outputId": "912e70e4-cc6e-41e7-9f19-59e3b55b0698"
      },
      "id": "I1cTipYOCS-k",
      "execution_count": null,
      "outputs": [
        {
          "output_type": "display_data",
          "data": {
            "text/plain": [
              "\u001b[30m[\u001b[0m\u001b[30m2024-11-26 \u001b[0m\u001b[90m19:57:03.621181\u001b[0m\u001b[30m]\u001b[0m\u001b[30m[\u001b[0m\u001b[1;32mINFO\u001b[0m\u001b[30m]\u001b[0m\u001b[30m[\u001b[0m\u001b[3;34mconfigs.py\u001b[0m\u001b[94m:\u001b[0m\u001b[30m81\u001b[0m\u001b[30m]\u001b[0m\u001b[38;2;131;131;131m - \u001b[0mSetting HF_DATASETS_CACHE to \u001b[32m/content/wordplay/.cache/huggingface/\u001b[0m\u001b[35mdatasets\u001b[0m\n"
            ],
            "text/html": [
              "<pre style=\"white-space:pre;overflow-x:auto;line-height:normal;font-family:Menlo,'DejaVu Sans Mono',consolas,'Courier New',monospace\"><span style=\"color: #000000; text-decoration-color: #000000\">[</span><span style=\"color: #000000; text-decoration-color: #000000\">2024-11-26 </span><span style=\"color: #808080; text-decoration-color: #808080\">19:57:03.621181</span><span style=\"color: #000000; text-decoration-color: #000000\">][</span><span style=\"color: #008000; text-decoration-color: #008000; font-weight: bold\">INFO</span><span style=\"color: #000000; text-decoration-color: #000000\">][</span><span style=\"color: #000080; text-decoration-color: #000080; font-style: italic\">configs.py</span><span style=\"color: #0000ff; text-decoration-color: #0000ff\">:</span><span style=\"color: #000000; text-decoration-color: #000000\">81</span><span style=\"color: #000000; text-decoration-color: #000000\">]</span><span style=\"color: #838383; text-decoration-color: #838383\"> - </span>Setting HF_DATASETS_CACHE to <span style=\"color: #008000; text-decoration-color: #008000\">/content/wordplay/.cache/huggingface/</span><span style=\"color: #800080; text-decoration-color: #800080\">datasets</span>\n",
              "</pre>\n"
            ]
          },
          "metadata": {}
        },
        {
          "output_type": "error",
          "ename": "TypeError",
          "evalue": "ExperimentConfig.__init__() missing 4 required positional arguments: 'train', 'model', 'data', and 'optimizer'",
          "traceback": [
            "\u001b[0;31m---------------------------------------------------------------------------\u001b[0m",
            "\u001b[0;31mTypeError\u001b[0m                                 Traceback (most recent call last)",
            "\u001b[0;32m<ipython-input-4-f73f2f39f151>\u001b[0m in \u001b[0;36m<cell line: 11>\u001b[0;34m()\u001b[0m\n\u001b[1;32m      9\u001b[0m \u001b[0;34m\u001b[0m\u001b[0m\n\u001b[1;32m     10\u001b[0m \u001b[0;31m# Example usage\u001b[0m\u001b[0;34m\u001b[0m\u001b[0;34m\u001b[0m\u001b[0m\n\u001b[0;32m---> 11\u001b[0;31m \u001b[0mconfig\u001b[0m \u001b[0;34m=\u001b[0m \u001b[0mconfigs\u001b[0m\u001b[0;34m.\u001b[0m\u001b[0mExperimentConfig\u001b[0m\u001b[0;34m(\u001b[0m\u001b[0;34m)\u001b[0m\u001b[0;34m\u001b[0m\u001b[0;34m\u001b[0m\u001b[0m\n\u001b[0m\u001b[1;32m     12\u001b[0m \u001b[0;31m# ... further use of config object\u001b[0m\u001b[0;34m\u001b[0m\u001b[0;34m\u001b[0m\u001b[0m\n",
            "\u001b[0;31mTypeError\u001b[0m: ExperimentConfig.__init__() missing 4 required positional arguments: 'train', 'model', 'data', and 'optimizer'"
          ]
        }
      ]
    },
    {
      "cell_type": "code",
      "source": [
        "# prompt: what is the syntax for importing a class from a python file\n",
        "\n",
        "from wordplay.src.wordplay.configs import ExperimentConfig"
      ],
      "metadata": {
        "id": "zG4JpaabCwDc"
      },
      "id": "zG4JpaabCwDc",
      "execution_count": null,
      "outputs": []
    },
    {
      "cell_type": "code",
      "source": [
        "# prompt: import the function get_rank() from the file dist.py found on the path ezpz.src.ezpz\n",
        "\n",
        "import sys\n",
        "sys.path.append('/content/ezpz/src/ezpz') # Replace with the actual path if different\n",
        "from dist import get_rank, get_world_size, get_torch_device, get_local_rank, timeitlogit\n",
        "sys.path.append('/content/wordplay/src/wordplay')\n",
        "from configs import  PROJECT_ROOT\n",
        "sys.path.append('/content/wordplay/src/wordplay')\n",
        "from wordplay.src.wordplay.trainer import  Trainer"
      ],
      "metadata": {
        "id": "IgfUzro64Hpc"
      },
      "id": "IgfUzro64Hpc",
      "execution_count": null,
      "outputs": []
    },
    {
      "cell_type": "code",
      "source": [
        "# prompt: how can I refresh sys.path.append to use different from configs\n",
        "\n",
        "import sys\n",
        "# ... (rest of your imports and code)\n",
        "\n",
        "# Dynamically determine the correct paths\n",
        "ezpz_path = '/content/ezpz/src/ezpz'\n",
        "wordplay_path = '/content/wordplay/src/wordplay'\n",
        "\n",
        "# Check if the paths exist before appending.  This is crucial for robustness.\n",
        "if os.path.exists(ezpz_path):\n",
        "  sys.path.append(ezpz_path)\n",
        "else:\n",
        "  print(f\"Warning: Path '{ezpz_path}' does not exist.  ezpz modules may not be found.\")\n",
        "\n",
        "if os.path.exists(wordplay_path):\n",
        "  sys.path.append(wordplay_path)\n",
        "else:\n",
        "  print(f\"Warning: Path '{wordplay_path}' does not exist. wordplay modules may not be found.\")\n",
        "\n",
        "\n",
        "# ... (rest of your code)"
      ],
      "metadata": {
        "id": "VXwugOaBDniT"
      },
      "id": "VXwugOaBDniT",
      "execution_count": null,
      "outputs": []
    },
    {
      "cell_type": "code",
      "source": [
        "def get_config():\n",
        "    from hydra import (\n",
        "        initialize_config_dir,\n",
        "        compose\n",
        "    )\n",
        "    from hydra.core.global_hydra import GlobalHydra\n",
        "    GlobalHydra.instance().clear()\n",
        "    overrides = [] if overrides is None else overrides\n",
        "    with initialize_config_dir(\n",
        "            CONF_DIR.absolute().as_posix(),\n",
        "            version_base=None,\n",
        "    ):\n",
        "        cfg = compose('config', overrides=overrides)\n",
        "\n",
        "    return cfg"
      ],
      "metadata": {
        "id": "zF0JEzh45Nix"
      },
      "id": "zF0JEzh45Nix",
      "execution_count": null,
      "outputs": []
    },
    {
      "cell_type": "code",
      "execution_count": null,
      "id": "f827bd82",
      "metadata": {
        "colab": {
          "base_uri": "https://localhost:8080/",
          "height": 219
        },
        "id": "f827bd82",
        "jupyter": {
          "outputs_hidden": false,
          "source_hidden": false
        },
        "outputId": "e64c37be-6e32-4612-8e87-fe989a7ef2e7"
      },
      "outputs": [
        {
          "output_type": "error",
          "ename": "TypeError",
          "evalue": "'module' object is not callable",
          "traceback": [
            "\u001b[0;31m---------------------------------------------------------------------------\u001b[0m",
            "\u001b[0;31mTypeError\u001b[0m                                 Traceback (most recent call last)",
            "\u001b[0;32m<ipython-input-21-04a56e9b16b3>\u001b[0m in \u001b[0;36m<cell line: 16>\u001b[0;34m()\u001b[0m\n\u001b[1;32m     14\u001b[0m \u001b[0mBACKEND\u001b[0m \u001b[0;34m=\u001b[0m \u001b[0;34m'DDP'\u001b[0m\u001b[0;34m\u001b[0m\u001b[0;34m\u001b[0m\u001b[0m\n\u001b[1;32m     15\u001b[0m \u001b[0;34m\u001b[0m\u001b[0m\n\u001b[0;32m---> 16\u001b[0;31m rank = setup(\n\u001b[0m\u001b[1;32m     17\u001b[0m     \u001b[0mframework\u001b[0m\u001b[0;34m=\u001b[0m\u001b[0;34m'pytorch'\u001b[0m\u001b[0;34m,\u001b[0m\u001b[0;34m\u001b[0m\u001b[0;34m\u001b[0m\u001b[0m\n\u001b[1;32m     18\u001b[0m     \u001b[0mbackend\u001b[0m\u001b[0;34m=\u001b[0m\u001b[0mBACKEND\u001b[0m\u001b[0;34m,\u001b[0m\u001b[0;34m\u001b[0m\u001b[0;34m\u001b[0m\u001b[0m\n",
            "\u001b[0;31mTypeError\u001b[0m: 'module' object is not callable"
          ]
        }
      ],
      "source": [
        "import os\n",
        "import numpy as np\n",
        "#import setup\n",
        "import setup as setup\n",
        "from hydra.utils import instantiate\n",
        "#from wordplay.configs import get_config, PROJECT_ROOT\n",
        "#from wordplay.trainer import Trainer\n",
        "\n",
        "HF_DATASETS_CACHE = PROJECT_ROOT.joinpath('.cache', 'huggingface')\n",
        "HF_DATASETS_CACHE.mkdir(exist_ok=True, parents=True)\n",
        "\n",
        "os.environ['HF_DATASETS_CACHE'] = HF_DATASETS_CACHE.as_posix()\n",
        "\n",
        "BACKEND = 'DDP'\n",
        "\n",
        "rank = setup(\n",
        "    framework='pytorch',\n",
        "    backend=BACKEND,\n",
        "    seed=1234,\n",
        ")\n",
        "\n",
        "cfg = get_config(\n",
        "    [\n",
        "        'data=shakespeare',\n",
        "        'model=shakespeare',\n",
        "        'optimizer=shakespeare',\n",
        "        'train=shakespeare',\n",
        "        f'train.backend={BACKEND}',\n",
        "        'train.compile=false',\n",
        "        'train.dtype=float16',\n",
        "        'train.max_iters=1000',\n",
        "        'train.log_interval=50',\n",
        "        'train.eval_interval=500',\n",
        "    ]\n",
        ")\n",
        "config = instantiate(cfg)"
      ]
    },
    {
      "source": [
        "import os\n",
        "import numpy as np\n",
        "#import setup\n",
        "#import setup as setup   <-- This imports the module setup, NOT the function setup\n",
        "# Instead of importing the setup module, import a function named setup from the setup module. If it exists, it would solve the issue.\n",
        "from setup import setup   # Assuming there is a function named \"setup\" in the setup module. If not, correct this line accordingly.\n",
        "from hydra.utils import instantiate\n",
        "#from wordplay.configs import get_config, PROJECT_ROOT\n",
        "#from wordplay.trainer import Trainer\n",
        "\n",
        "HF_DATASETS_CACHE = PROJECT_ROOT.joinpath('.cache', 'huggingface')\n",
        "HF_DATASETS_CACHE.mkdir(exist_ok=True, parents=True)\n",
        "\n",
        "os.environ['HF_DATASETS_CACHE'] = HF_DATASETS_CACHE.as_posix()\n",
        "\n",
        "BACKEND = 'DDP'\n",
        "\n",
        "rank = setup(\n",
        "    framework='pytorch',\n",
        "    backend=BACKEND,\n",
        "    seed=1234,\n",
        ")\n",
        "\n",
        "cfg = get_config(\n",
        "    [\n",
        "        'data=shakespeare',\n",
        "        'model=shakespeare',\n",
        "        'optimizer=shakespeare',\n",
        "        'train=shakespeare',\n",
        "        f'train.backend={BACKEND}',\n",
        "        'train.compile=false',\n",
        "        'train.dtype=float16',\n",
        "        'train.max_iters=1000',\n",
        "        'train.log_interval=50',\n",
        "        'train.eval_interval=500',\n",
        "    ]\n",
        ")\n",
        "config = instantiate(cfg)"
      ],
      "cell_type": "code",
      "metadata": {
        "colab": {
          "base_uri": "https://localhost:8080/",
          "height": 473
        },
        "id": "0yCGpUo4Gg0y",
        "outputId": "02ab94c7-56ce-46b8-f9e4-0c7c4b615b73"
      },
      "id": "0yCGpUo4Gg0y",
      "execution_count": null,
      "outputs": [
        {
          "output_type": "error",
          "ename": "ImportError",
          "evalue": "cannot import name 'setup' from 'setup' (/usr/local/lib/python3.10/dist-packages/setup/__init__.py)",
          "traceback": [
            "\u001b[0;31m---------------------------------------------------------------------------\u001b[0m",
            "\u001b[0;31mImportError\u001b[0m                               Traceback (most recent call last)",
            "\u001b[0;32m<ipython-input-22-e3cc426fb249>\u001b[0m in \u001b[0;36m<cell line: 6>\u001b[0;34m()\u001b[0m\n\u001b[1;32m      4\u001b[0m \u001b[0;31m#import setup as setup   <-- This imports the module setup, NOT the function setup\u001b[0m\u001b[0;34m\u001b[0m\u001b[0;34m\u001b[0m\u001b[0m\n\u001b[1;32m      5\u001b[0m \u001b[0;31m# Instead of importing the setup module, import a function named setup from the setup module. If it exists, it would solve the issue.\u001b[0m\u001b[0;34m\u001b[0m\u001b[0;34m\u001b[0m\u001b[0m\n\u001b[0;32m----> 6\u001b[0;31m \u001b[0;32mfrom\u001b[0m \u001b[0msetup\u001b[0m \u001b[0;32mimport\u001b[0m \u001b[0msetup\u001b[0m   \u001b[0;31m# Assuming there is a function named \"setup\" in the setup module. If not, correct this line accordingly.\u001b[0m\u001b[0;34m\u001b[0m\u001b[0;34m\u001b[0m\u001b[0m\n\u001b[0m\u001b[1;32m      7\u001b[0m \u001b[0;32mfrom\u001b[0m \u001b[0mhydra\u001b[0m\u001b[0;34m.\u001b[0m\u001b[0mutils\u001b[0m \u001b[0;32mimport\u001b[0m \u001b[0minstantiate\u001b[0m\u001b[0;34m\u001b[0m\u001b[0;34m\u001b[0m\u001b[0m\n\u001b[1;32m      8\u001b[0m \u001b[0;31m#from wordplay.configs import get_config, PROJECT_ROOT\u001b[0m\u001b[0;34m\u001b[0m\u001b[0;34m\u001b[0m\u001b[0m\n",
            "\u001b[0;31mImportError\u001b[0m: cannot import name 'setup' from 'setup' (/usr/local/lib/python3.10/dist-packages/setup/__init__.py)",
            "",
            "\u001b[0;31m---------------------------------------------------------------------------\u001b[0;32m\nNOTE: If your import is failing due to a missing package, you can\nmanually install dependencies using either !pip or !apt.\n\nTo view examples of installing some common dependencies, click the\n\"Open Examples\" button below.\n\u001b[0;31m---------------------------------------------------------------------------\u001b[0m\n"
          ],
          "errorDetails": {
            "actions": [
              {
                "action": "open_url",
                "actionText": "Open Examples",
                "url": "/notebooks/snippets/importing_libraries.ipynb"
              }
            ]
          }
        }
      ]
    },
    {
      "cell_type": "code",
      "source": [
        "!pip install setup_func"
      ],
      "metadata": {
        "colab": {
          "base_uri": "https://localhost:8080/"
        },
        "id": "RG0LXRPdG11e",
        "outputId": "832d671a-6e31-4b42-9a95-e63488ce185b"
      },
      "id": "RG0LXRPdG11e",
      "execution_count": null,
      "outputs": [
        {
          "output_type": "stream",
          "name": "stdout",
          "text": [
            "\u001b[31mERROR: Could not find a version that satisfies the requirement setup_func (from versions: none)\u001b[0m\u001b[31m\n",
            "\u001b[0m\u001b[31mERROR: No matching distribution found for setup_func\u001b[0m\u001b[31m\n",
            "\u001b[0m"
          ]
        }
      ]
    },
    {
      "source": [
        "import os\n",
        "import numpy as np\n",
        "# Assuming setup is a module with a function named 'setup_func'\n",
        "from setup import setup_func  # Import setup_func instead of the whole module\n",
        "from hydra.utils import instantiate\n",
        "#from wordplay.configs import get_config, PROJECT_ROOT\n",
        "#from wordplay.trainer import Trainer\n",
        "\n",
        "HF_DATASETS_CACHE = PROJECT_ROOT.joinpath('.cache', 'huggingface')\n",
        "HF_DATASETS_CACHE.mkdir(exist_ok=True, parents=True)\n",
        "\n",
        "os.environ['HF_DATASETS_CACHE'] = HF_DATASETS_CACHE.as_posix()\n",
        "\n",
        "BACKEND = 'DDP'\n",
        "\n",
        "# Call setup_func instead of setup\n",
        "rank = setup_func(\n",
        "    framework='pytorch',\n",
        "    backend=BACKEND,\n",
        "    seed=1234,\n",
        ")\n",
        "\n",
        "cfg = get_config(\n",
        "    [\n",
        "        'data=shakespeare',\n",
        "        'model=shakespeare',\n",
        "        'optimizer=shakespeare',\n",
        "        'train=shakespeare',\n",
        "        f'train.backend={BACKEND}',\n",
        "        'train.compile=false',\n",
        "        'train.dtype=float16',\n",
        "        'train.max_iters=1000',\n",
        "        'train.log_interval=50',\n",
        "        'train.eval_interval=500',\n",
        "    ]\n",
        ")\n",
        "config = instantiate(cfg)"
      ],
      "cell_type": "code",
      "metadata": {
        "colab": {
          "base_uri": "https://localhost:8080/",
          "height": 436
        },
        "id": "rieqnREV9vg7",
        "outputId": "0fd4fd5f-af75-4a93-c7fb-52fd83434e68"
      },
      "id": "rieqnREV9vg7",
      "execution_count": null,
      "outputs": [
        {
          "output_type": "error",
          "ename": "ImportError",
          "evalue": "cannot import name 'setup_func' from 'setup' (/usr/local/lib/python3.10/dist-packages/setup/__init__.py)",
          "traceback": [
            "\u001b[0;31m---------------------------------------------------------------------------\u001b[0m",
            "\u001b[0;31mImportError\u001b[0m                               Traceback (most recent call last)",
            "\u001b[0;32m<ipython-input-5-d89e704a1cd6>\u001b[0m in \u001b[0;36m<cell line: 4>\u001b[0;34m()\u001b[0m\n\u001b[1;32m      2\u001b[0m \u001b[0;32mimport\u001b[0m \u001b[0mnumpy\u001b[0m \u001b[0;32mas\u001b[0m \u001b[0mnp\u001b[0m\u001b[0;34m\u001b[0m\u001b[0;34m\u001b[0m\u001b[0m\n\u001b[1;32m      3\u001b[0m \u001b[0;31m# Assuming setup is a module with a function named 'setup_func'\u001b[0m\u001b[0;34m\u001b[0m\u001b[0;34m\u001b[0m\u001b[0m\n\u001b[0;32m----> 4\u001b[0;31m \u001b[0;32mfrom\u001b[0m \u001b[0msetup\u001b[0m \u001b[0;32mimport\u001b[0m \u001b[0msetup_func\u001b[0m  \u001b[0;31m# Import setup_func instead of the whole module\u001b[0m\u001b[0;34m\u001b[0m\u001b[0;34m\u001b[0m\u001b[0m\n\u001b[0m\u001b[1;32m      5\u001b[0m \u001b[0;32mfrom\u001b[0m \u001b[0mhydra\u001b[0m\u001b[0;34m.\u001b[0m\u001b[0mutils\u001b[0m \u001b[0;32mimport\u001b[0m \u001b[0minstantiate\u001b[0m\u001b[0;34m\u001b[0m\u001b[0;34m\u001b[0m\u001b[0m\n\u001b[1;32m      6\u001b[0m \u001b[0;31m#from wordplay.configs import get_config, PROJECT_ROOT\u001b[0m\u001b[0;34m\u001b[0m\u001b[0;34m\u001b[0m\u001b[0m\n",
            "\u001b[0;31mImportError\u001b[0m: cannot import name 'setup_func' from 'setup' (/usr/local/lib/python3.10/dist-packages/setup/__init__.py)",
            "",
            "\u001b[0;31m---------------------------------------------------------------------------\u001b[0;32m\nNOTE: If your import is failing due to a missing package, you can\nmanually install dependencies using either !pip or !apt.\n\nTo view examples of installing some common dependencies, click the\n\"Open Examples\" button below.\n\u001b[0;31m---------------------------------------------------------------------------\u001b[0m\n"
          ],
          "errorDetails": {
            "actions": [
              {
                "action": "open_url",
                "actionText": "Open Examples",
                "url": "/notebooks/snippets/importing_libraries.ipynb"
              }
            ]
          }
        }
      ]
    },
    {
      "cell_type": "code",
      "source": [
        "!pip install wordplay"
      ],
      "metadata": {
        "colab": {
          "base_uri": "https://localhost:8080/",
          "height": 280
        },
        "id": "Usx6ohjwu72r",
        "outputId": "41032eff-0731-4e84-800f-cb6ca03277c3"
      },
      "id": "Usx6ohjwu72r",
      "execution_count": null,
      "outputs": [
        {
          "output_type": "stream",
          "name": "stdout",
          "text": [
            "Collecting wordplay\n",
            "  Downloading wordplay-1.0.0a4-py2.py3-none-any.whl.metadata (4.5 kB)\n",
            "Collecting enum34 (from wordplay)\n",
            "  Downloading enum34-1.1.10-py3-none-any.whl.metadata (1.6 kB)\n",
            "Downloading wordplay-1.0.0a4-py2.py3-none-any.whl (2.5 MB)\n",
            "\u001b[2K   \u001b[38;2;114;156;31m━━━━━━━━━━━━━━━━━━━━━━━━━━━━━━━━━━━━━━━━\u001b[0m \u001b[32m2.5/2.5 MB\u001b[0m \u001b[31m13.0 MB/s\u001b[0m eta \u001b[36m0:00:00\u001b[0m\n",
            "\u001b[?25hDownloading enum34-1.1.10-py3-none-any.whl (11 kB)\n",
            "Installing collected packages: enum34, wordplay\n",
            "Successfully installed enum34-1.1.10 wordplay-1.0.0a4\n"
          ]
        },
        {
          "output_type": "display_data",
          "data": {
            "application/vnd.colab-display-data+json": {
              "pip_warning": {
                "packages": [
                  "enum",
                  "wordplay"
                ]
              },
              "id": "63c6ad0a8214403284c0e6d7b2e1f906"
            }
          },
          "metadata": {}
        }
      ]
    },
    {
      "source": [
        "!pip install -e . # Install a package in editable mode from the current working directory\n",
        "\n",
        "# Add the project root to the PYTHONPATH to ensure Python finds your package.\n",
        "import sys\n",
        "import os\n",
        "\n",
        "# Assuming the wordplay package is located in the current working directory\n",
        "PROJECT_ROOT = os.path.abspath(os.getcwd())\n",
        "if PROJECT_ROOT not in sys.path:\n",
        "    sys.path.insert(0, PROJECT_ROOT)\n",
        "\n",
        "# Now try importing your modules:\n",
        "import wordplay\n",
        "from wordplay.configs import get_config, PROJECT_ROOT\n",
        "from wordplay.trainer import Trainer"
      ],
      "cell_type": "code",
      "metadata": {
        "colab": {
          "base_uri": "https://localhost:8080/",
          "height": 438
        },
        "id": "gYtis0M_u5bH",
        "outputId": "8c7ac06f-c9d1-4cbb-daa2-1a25f5774544"
      },
      "id": "gYtis0M_u5bH",
      "execution_count": null,
      "outputs": [
        {
          "output_type": "stream",
          "name": "stdout",
          "text": [
            "Obtaining file:///content\n",
            "\u001b[31mERROR: file:///content does not appear to be a Python project: neither 'setup.py' nor 'pyproject.toml' found.\u001b[0m\u001b[31m\n",
            "\u001b[0m"
          ]
        },
        {
          "output_type": "error",
          "ename": "ModuleNotFoundError",
          "evalue": "No module named 'wordplay.configs'",
          "traceback": [
            "\u001b[0;31m---------------------------------------------------------------------------\u001b[0m",
            "\u001b[0;31mModuleNotFoundError\u001b[0m                       Traceback (most recent call last)",
            "\u001b[0;32m<ipython-input-20-a9cfd9d7e78b>\u001b[0m in \u001b[0;36m<cell line: 14>\u001b[0;34m()\u001b[0m\n\u001b[1;32m     12\u001b[0m \u001b[0;31m# Now try importing your modules:\u001b[0m\u001b[0;34m\u001b[0m\u001b[0;34m\u001b[0m\u001b[0m\n\u001b[1;32m     13\u001b[0m \u001b[0;32mimport\u001b[0m \u001b[0mwordplay\u001b[0m\u001b[0;34m\u001b[0m\u001b[0;34m\u001b[0m\u001b[0m\n\u001b[0;32m---> 14\u001b[0;31m \u001b[0;32mfrom\u001b[0m \u001b[0mwordplay\u001b[0m\u001b[0;34m.\u001b[0m\u001b[0mconfigs\u001b[0m \u001b[0;32mimport\u001b[0m \u001b[0mget_config\u001b[0m\u001b[0;34m,\u001b[0m \u001b[0mPROJECT_ROOT\u001b[0m\u001b[0;34m\u001b[0m\u001b[0;34m\u001b[0m\u001b[0m\n\u001b[0m\u001b[1;32m     15\u001b[0m \u001b[0;32mfrom\u001b[0m \u001b[0mwordplay\u001b[0m\u001b[0;34m.\u001b[0m\u001b[0mtrainer\u001b[0m \u001b[0;32mimport\u001b[0m \u001b[0mTrainer\u001b[0m\u001b[0;34m\u001b[0m\u001b[0;34m\u001b[0m\u001b[0m\n",
            "\u001b[0;31mModuleNotFoundError\u001b[0m: No module named 'wordplay.configs'",
            "",
            "\u001b[0;31m---------------------------------------------------------------------------\u001b[0;32m\nNOTE: If your import is failing due to a missing package, you can\nmanually install dependencies using either !pip or !apt.\n\nTo view examples of installing some common dependencies, click the\n\"Open Examples\" button below.\n\u001b[0;31m---------------------------------------------------------------------------\u001b[0m\n"
          ],
          "errorDetails": {
            "actions": [
              {
                "action": "open_url",
                "actionText": "Open Examples",
                "url": "/notebooks/snippets/importing_libraries.ipynb"
              }
            ]
          }
        }
      ]
    },
    {
      "cell_type": "markdown",
      "id": "3bO8kTx-s59-",
      "metadata": {
        "id": "3bO8kTx-s59-"
      },
      "source": [
        "### Build `Trainer` object"
      ]
    },
    {
      "cell_type": "code",
      "execution_count": null,
      "id": "7d12405a-8f88-476b-8922-a1a212adc682",
      "metadata": {
        "colab": {
          "base_uri": "https://localhost:8080/",
          "height": 113
        },
        "execution": {
          "iopub.execute_input": "2023-11-30T16:35:10.194033Z",
          "iopub.status.busy": "2023-11-30T16:35:10.193752Z",
          "iopub.status.idle": "2023-11-30T16:36:28.944914Z",
          "shell.execute_reply": "2023-11-30T16:36:28.943625Z",
          "shell.execute_reply.started": "2023-11-30T16:35:10.194017Z"
        },
        "id": "7d12405a-8f88-476b-8922-a1a212adc682",
        "jupyter": {
          "outputs_hidden": false,
          "source_hidden": false
        },
        "outputId": "4c715b38-6a84-4ba0-a96a-d91ea8b379d8"
      },
      "outputs": [
        {
          "data": {
            "text/html": [
              "<pre style=\"white-space:pre;overflow-x:auto;line-height:normal;font-family:Menlo,'DejaVu Sans Mono',consolas,'Courier New',monospace\"><span style=\"color: #000000; text-decoration-color: #000000\">[</span><span style=\"color: #808080; text-decoration-color: #808080\">2024-02-12 19:12:27</span><span style=\"color: #000000; text-decoration-color: #000000\">][</span><span style=\"color: #008000; text-decoration-color: #008000; font-weight: bold\">INFO</span><span style=\"color: #000000; text-decoration-color: #000000\">][</span><span style=\"color: #008080; text-decoration-color: #008080; font-style: italic\">trainer</span><span style=\"color: #00ff00; text-decoration-color: #00ff00\">:</span><span style=\"color: #000000; text-decoration-color: #000000\">277</span><span style=\"color: #000000; text-decoration-color: #000000\">]</span><span style=\"color: #838383; text-decoration-color: #838383; font-weight: bold\"> - </span>Initializing a new model from scratch\n",
              "</pre>\n"
            ],
            "text/plain": [
              "\u001b[30m[\u001b[0m\u001b[90m2024-02-12 \u001b[0m\u001b[90m19:12:27\u001b[0m\u001b[30m]\u001b[0m\u001b[30m[\u001b[0m\u001b[1;32mINFO\u001b[0m\u001b[30m]\u001b[0m\u001b[30m[\u001b[0m\u001b[3;36mtrainer\u001b[0m\u001b[92m:\u001b[0m\u001b[30m277\u001b[0m\u001b[30m]\u001b[0m\u001b[1;38;2;131;131;131m - \u001b[0mInitializing a new model from scratch\n"
            ]
          },
          "metadata": {},
          "output_type": "display_data"
        },
        {
          "data": {
            "text/html": [
              "<pre style=\"white-space:pre;overflow-x:auto;line-height:normal;font-family:Menlo,'DejaVu Sans Mono',consolas,'Courier New',monospace\"><span style=\"color: #000000; text-decoration-color: #000000\">[</span><span style=\"color: #808080; text-decoration-color: #808080\">2024-02-12 19:12:28</span><span style=\"color: #000000; text-decoration-color: #000000\">][</span><span style=\"color: #008000; text-decoration-color: #008000; font-weight: bold\">INFO</span><span style=\"color: #000000; text-decoration-color: #000000\">][</span><span style=\"color: #008080; text-decoration-color: #008080; font-style: italic\">model</span><span style=\"color: #00ff00; text-decoration-color: #00ff00\">:</span><span style=\"color: #000000; text-decoration-color: #000000\">255</span><span style=\"color: #000000; text-decoration-color: #000000\">]</span><span style=\"color: #838383; text-decoration-color: #838383; font-weight: bold\"> - </span>number of parameters: <span style=\"color: #ff00ff; text-decoration-color: #ff00ff\">10.</span>65M\n",
              "</pre>\n"
            ],
            "text/plain": [
              "\u001b[30m[\u001b[0m\u001b[90m2024-02-12 \u001b[0m\u001b[90m19:12:28\u001b[0m\u001b[30m]\u001b[0m\u001b[30m[\u001b[0m\u001b[1;32mINFO\u001b[0m\u001b[30m]\u001b[0m\u001b[30m[\u001b[0m\u001b[3;36mmodel\u001b[0m\u001b[92m:\u001b[0m\u001b[30m255\u001b[0m\u001b[30m]\u001b[0m\u001b[1;38;2;131;131;131m - \u001b[0mnumber of parameters: \u001b[95m10.\u001b[0m65M\n"
            ]
          },
          "metadata": {},
          "output_type": "display_data"
        },
        {
          "data": {
            "text/html": [
              "<pre style=\"white-space:pre;overflow-x:auto;line-height:normal;font-family:Menlo,'DejaVu Sans Mono',consolas,'Courier New',monospace\"><span style=\"color: #000000; text-decoration-color: #000000\">[</span><span style=\"color: #808080; text-decoration-color: #808080\">2024-02-12 19:12:28</span><span style=\"color: #000000; text-decoration-color: #000000\">][</span><span style=\"color: #008000; text-decoration-color: #008000; font-weight: bold\">INFO</span><span style=\"color: #000000; text-decoration-color: #000000\">][</span><span style=\"color: #008080; text-decoration-color: #008080; font-style: italic\">model</span><span style=\"color: #00ff00; text-decoration-color: #00ff00\">:</span><span style=\"color: #000000; text-decoration-color: #000000\">445</span><span style=\"color: #000000; text-decoration-color: #000000\">]</span><span style=\"color: #838383; text-decoration-color: #838383; font-weight: bold\"> - </span>num decayed parameter tensors: <span style=\"color: #ff00ff; text-decoration-color: #ff00ff\">26</span>, with <span style=\"color: #ff00ff; text-decoration-color: #ff00ff\">10</span>,<span style=\"color: #ff00ff; text-decoration-color: #ff00ff\">740</span>,<span style=\"color: #ff00ff; text-decoration-color: #ff00ff\">096</span> parameters\n",
              "</pre>\n"
            ],
            "text/plain": [
              "\u001b[30m[\u001b[0m\u001b[90m2024-02-12 \u001b[0m\u001b[90m19:12:28\u001b[0m\u001b[30m]\u001b[0m\u001b[30m[\u001b[0m\u001b[1;32mINFO\u001b[0m\u001b[30m]\u001b[0m\u001b[30m[\u001b[0m\u001b[3;36mmodel\u001b[0m\u001b[92m:\u001b[0m\u001b[30m445\u001b[0m\u001b[30m]\u001b[0m\u001b[1;38;2;131;131;131m - \u001b[0mnum decayed parameter tensors: \u001b[95m26\u001b[0m, with \u001b[95m10\u001b[0m,\u001b[95m740\u001b[0m,\u001b[95m096\u001b[0m parameters\n"
            ]
          },
          "metadata": {},
          "output_type": "display_data"
        },
        {
          "data": {
            "text/html": [
              "<pre style=\"white-space:pre;overflow-x:auto;line-height:normal;font-family:Menlo,'DejaVu Sans Mono',consolas,'Courier New',monospace\"><span style=\"color: #000000; text-decoration-color: #000000\">[</span><span style=\"color: #808080; text-decoration-color: #808080\">2024-02-12 19:12:28</span><span style=\"color: #000000; text-decoration-color: #000000\">][</span><span style=\"color: #008000; text-decoration-color: #008000; font-weight: bold\">INFO</span><span style=\"color: #000000; text-decoration-color: #000000\">][</span><span style=\"color: #008080; text-decoration-color: #008080; font-style: italic\">model</span><span style=\"color: #00ff00; text-decoration-color: #00ff00\">:</span><span style=\"color: #000000; text-decoration-color: #000000\">449</span><span style=\"color: #000000; text-decoration-color: #000000\">]</span><span style=\"color: #838383; text-decoration-color: #838383; font-weight: bold\"> - </span>num non-decayed parameter tensors: <span style=\"color: #ff00ff; text-decoration-color: #ff00ff\">13</span>, with <span style=\"color: #ff00ff; text-decoration-color: #ff00ff\">4</span>,<span style=\"color: #ff00ff; text-decoration-color: #ff00ff\">992</span> parameters\n",
              "</pre>\n"
            ],
            "text/plain": [
              "\u001b[30m[\u001b[0m\u001b[90m2024-02-12 \u001b[0m\u001b[90m19:12:28\u001b[0m\u001b[30m]\u001b[0m\u001b[30m[\u001b[0m\u001b[1;32mINFO\u001b[0m\u001b[30m]\u001b[0m\u001b[30m[\u001b[0m\u001b[3;36mmodel\u001b[0m\u001b[92m:\u001b[0m\u001b[30m449\u001b[0m\u001b[30m]\u001b[0m\u001b[1;38;2;131;131;131m - \u001b[0mnum non-decayed parameter tensors: \u001b[95m13\u001b[0m, with \u001b[95m4\u001b[0m,\u001b[95m992\u001b[0m parameters\n"
            ]
          },
          "metadata": {},
          "output_type": "display_data"
        },
        {
          "data": {
            "text/html": [
              "<pre style=\"white-space:pre;overflow-x:auto;line-height:normal;font-family:Menlo,'DejaVu Sans Mono',consolas,'Courier New',monospace\"><span style=\"color: #000000; text-decoration-color: #000000\">[</span><span style=\"color: #808080; text-decoration-color: #808080\">2024-02-12 19:12:28</span><span style=\"color: #000000; text-decoration-color: #000000\">][</span><span style=\"color: #008000; text-decoration-color: #008000; font-weight: bold\">INFO</span><span style=\"color: #000000; text-decoration-color: #000000\">][</span><span style=\"color: #008080; text-decoration-color: #008080; font-style: italic\">model</span><span style=\"color: #00ff00; text-decoration-color: #00ff00\">:</span><span style=\"color: #000000; text-decoration-color: #000000\">465</span><span style=\"color: #000000; text-decoration-color: #000000\">]</span><span style=\"color: #838383; text-decoration-color: #838383; font-weight: bold\"> - </span>using fused AdamW: <span style=\"color: #00ff00; text-decoration-color: #00ff00; font-style: italic\">True</span>\n",
              "</pre>\n"
            ],
            "text/plain": [
              "\u001b[30m[\u001b[0m\u001b[90m2024-02-12 \u001b[0m\u001b[90m19:12:28\u001b[0m\u001b[30m]\u001b[0m\u001b[30m[\u001b[0m\u001b[1;32mINFO\u001b[0m\u001b[30m]\u001b[0m\u001b[30m[\u001b[0m\u001b[3;36mmodel\u001b[0m\u001b[92m:\u001b[0m\u001b[30m465\u001b[0m\u001b[30m]\u001b[0m\u001b[1;38;2;131;131;131m - \u001b[0musing fused AdamW: \u001b[3;92mTrue\u001b[0m\n"
            ]
          },
          "metadata": {},
          "output_type": "display_data"
        },
        {
          "data": {
            "text/html": [
              "<pre style=\"white-space:pre;overflow-x:auto;line-height:normal;font-family:Menlo,'DejaVu Sans Mono',consolas,'Courier New',monospace\"><span style=\"color: #000000; text-decoration-color: #000000\">[</span><span style=\"color: #808080; text-decoration-color: #808080\">2024-02-12 19:12:28</span><span style=\"color: #000000; text-decoration-color: #000000\">][</span><span style=\"background-color: #800000; font-weight: bold\">CRITICAL</span><span style=\"color: #000000; text-decoration-color: #000000\">][</span><span style=\"color: #008080; text-decoration-color: #008080; font-style: italic\">trainer</span><span style=\"color: #00ff00; text-decoration-color: #00ff00\">:</span><span style=\"color: #000000; text-decoration-color: #000000\">338</span><span style=\"color: #000000; text-decoration-color: #000000\">]</span><span style=\"color: #838383; text-decoration-color: #838383; font-weight: bold\"> - </span><span style=\"color: #00ff00; text-decoration-color: #00ff00; font-style: italic\">\"devid='cuda:0'\"</span>\n",
              "</pre>\n"
            ],
            "text/plain": [
              "\u001b[30m[\u001b[0m\u001b[90m2024-02-12 \u001b[0m\u001b[90m19:12:28\u001b[0m\u001b[30m]\u001b[0m\u001b[30m[\u001b[0m\u001b[1;7;31mCRITICAL\u001b[0m\u001b[30m]\u001b[0m\u001b[30m[\u001b[0m\u001b[3;36mtrainer\u001b[0m\u001b[92m:\u001b[0m\u001b[30m338\u001b[0m\u001b[30m]\u001b[0m\u001b[1;38;2;131;131;131m - \u001b[0m\u001b[3;92m\"\u001b[0m\u001b[3;92mdevid\u001b[0m\u001b[3;92m='cuda:0'\"\u001b[0m\n"
            ]
          },
          "metadata": {},
          "output_type": "display_data"
        }
      ],
      "source": [
        "trainer = Trainer(config)"
      ]
    },
    {
      "cell_type": "markdown",
      "id": "cca969e9-5132-42a8-9728-9db1bce6a198",
      "metadata": {
        "id": "cca969e9-5132-42a8-9728-9db1bce6a198",
        "jupyter": {
          "source_hidden": false
        }
      },
      "source": [
        "## Prompt (**prior** to training)"
      ]
    },
    {
      "cell_type": "code",
      "execution_count": null,
      "id": "d4f50e19",
      "metadata": {
        "colab": {
          "base_uri": "https://localhost:8080/",
          "height": 97
        },
        "id": "d4f50e19",
        "jupyter": {
          "outputs_hidden": false,
          "source_hidden": false
        },
        "outputId": "a3657802-4425-4a12-fd31-8dab4d31f373"
      },
      "outputs": [
        {
          "data": {
            "text/html": [
              "<pre style=\"white-space:pre;overflow-x:auto;line-height:normal;font-family:Menlo,'DejaVu Sans Mono',consolas,'Courier New',monospace\"><span style=\"color: #000000; text-decoration-color: #000000\">[</span><span style=\"color: #808080; text-decoration-color: #808080\">2024-02-12 19:12:33</span><span style=\"color: #000000; text-decoration-color: #000000\">][</span><span style=\"color: #008000; text-decoration-color: #008000; font-weight: bold\">INFO</span><span style=\"color: #000000; text-decoration-color: #000000\">][</span><span style=\"color: #008080; text-decoration-color: #008080; font-style: italic\">&lt;ipython-input-5-03afa005b390&gt;</span><span style=\"color: #00ff00; text-decoration-color: #00ff00\">:</span><span style=\"color: #000000; text-decoration-color: #000000\">9</span><span style=\"color: #000000; text-decoration-color: #000000\">]</span><span style=\"color: #838383; text-decoration-color: #838383; font-weight: bold\"> - </span><span style=\"color: #ffffff; text-decoration-color: #ffffff; font-weight: bold\">[</span><span style=\"color: #00ff00; text-decoration-color: #00ff00; font-style: italic\">'prompt'</span><span style=\"color: #ffffff; text-decoration-color: #ffffff; font-weight: bold\">]</span>: <span style=\"color: #00ff00; text-decoration-color: #00ff00; font-style: italic\">'What is an LLM?'</span>\n",
              "</pre>\n"
            ],
            "text/plain": [
              "\u001b[30m[\u001b[0m\u001b[90m2024-02-12 \u001b[0m\u001b[90m19:12:33\u001b[0m\u001b[30m]\u001b[0m\u001b[30m[\u001b[0m\u001b[1;32mINFO\u001b[0m\u001b[30m]\u001b[0m\u001b[30m[\u001b[0m\u001b[3;36m<ipython-input-5-03afa005b390>\u001b[0m\u001b[92m:\u001b[0m\u001b[30m9\u001b[0m\u001b[30m]\u001b[0m\u001b[1;38;2;131;131;131m - \u001b[0m\u001b[1;97m[\u001b[0m\u001b[3;92m'prompt'\u001b[0m\u001b[1;97m]\u001b[0m: \u001b[3;92m'What is an LLM?'\u001b[0m\n"
            ]
          },
          "metadata": {},
          "output_type": "display_data"
        },
        {
          "data": {
            "text/html": [
              "<pre style=\"white-space:pre;overflow-x:auto;line-height:normal;font-family:Menlo,'DejaVu Sans Mono',consolas,'Courier New',monospace\"><span style=\"color: #000000; text-decoration-color: #000000\">[</span><span style=\"color: #808080; text-decoration-color: #808080\">2024-02-12 19:12:33</span><span style=\"color: #000000; text-decoration-color: #000000\">][</span><span style=\"color: #008000; text-decoration-color: #008000; font-weight: bold\">INFO</span><span style=\"color: #000000; text-decoration-color: #000000\">][</span><span style=\"color: #008080; text-decoration-color: #008080; font-style: italic\">&lt;ipython-input-5-03afa005b390&gt;</span><span style=\"color: #00ff00; text-decoration-color: #00ff00\">:</span><span style=\"color: #000000; text-decoration-color: #000000\">10</span><span style=\"color: #000000; text-decoration-color: #000000\">]</span><span style=\"color: #838383; text-decoration-color: #838383; font-weight: bold\"> - </span><span style=\"color: #ffffff; text-decoration-color: #ffffff; font-weight: bold\">[</span><span style=\"color: #00ff00; text-decoration-color: #00ff00; font-style: italic\">'response'</span><span style=\"color: #ffffff; text-decoration-color: #ffffff; font-weight: bold\">]</span>:\n",
              "\n",
              "What is an LLM?CbQ!!FN?bbs C,sa-Ss::SMqJlNbsssfpQMaSSCvEEEaJriC:?aaa?y\n",
              "MQVXvsKKQvabbbbEEbbKKJjSSpp-CZnlBa'<span style=\"color: #00ff00; text-decoration-color: #00ff00; font-style: italic\">''</span>CCvVIJjQCCisaatCCJJJJQQJAJJCbSVVVVVV-QLSjsQIaaZBbSCCCpJJC:sGFES:a-wY3H'VjG-sfi$JMva?JaaJYv-asgCC:ssfVICaiVVUYYVVY3QQ-bba,,pttywY:HHIKHQ;SjMlgCN;iJqVIHakwYi KEE?iaa\n",
              "</pre>\n"
            ],
            "text/plain": [
              "\u001b[30m[\u001b[0m\u001b[90m2024-02-12 \u001b[0m\u001b[90m19:12:33\u001b[0m\u001b[30m]\u001b[0m\u001b[30m[\u001b[0m\u001b[1;32mINFO\u001b[0m\u001b[30m]\u001b[0m\u001b[30m[\u001b[0m\u001b[3;36m<ipython-input-5-03afa005b390>\u001b[0m\u001b[92m:\u001b[0m\u001b[30m10\u001b[0m\u001b[30m]\u001b[0m\u001b[1;38;2;131;131;131m - \u001b[0m\u001b[1;97m[\u001b[0m\u001b[3;92m'response'\u001b[0m\u001b[1;97m]\u001b[0m:\n",
              "\n",
              "What is an LLM?CbQ!!FN?bbs C,sa-Ss::SMqJlNbsssfpQMaSSCvEEEaJriC:?aaa?y\n",
              "MQVXvsKKQvabbbbEEbbKKJjSSpp-CZnlBa'\u001b[3;92m''\u001b[0mCCvVIJjQCCisaatCCJJJJQQJAJJCbSVVVVVV-QLSjsQIaaZBbSCCCpJJC:sGFES:a-wY3H'VjG-sfi$JMva?JaaJYv-asgCC:ssfVICaiVVUYYVVY3QQ-bba,,pttywY:HHIKHQ;SjMlgCN;iJqVIHakwYi KEE?iaa\n"
            ]
          },
          "metadata": {},
          "output_type": "display_data"
        }
      ],
      "source": [
        "query = \"What is an LLM?\"\n",
        "outputs = trainer.evaluate(\n",
        "    query,\n",
        "    num_samples=1,\n",
        "    max_new_tokens=256,\n",
        "    top_k=16,\n",
        "    display=False\n",
        ")\n",
        "log.info(f\"['prompt']: '{query}'\")\n",
        "log.info(\"['response']:\\n\\n\" + fr\"{outputs['0']['raw']}\")"
      ]
    },
    {
      "cell_type": "markdown",
      "id": "c5202ff3-8811-47c9-8b9d-9818d4603697",
      "metadata": {
        "id": "c5202ff3-8811-47c9-8b9d-9818d4603697",
        "jupyter": {
          "source_hidden": false
        }
      },
      "source": [
        "## Train Model\n",
        "\n",
        "|  name  |       description            |\n",
        "|:------:|:----------------------------:|\n",
        "| `step` | Current training step        |\n",
        "| `loss` | Loss value                   |\n",
        "| `dt`   | Time per step (in **ms**)    |\n",
        "| `sps`  | Samples per second           |\n",
        "| `mtps` | (million) Tokens per sec     |\n",
        "| `mfu`  | Model Flops utilization[^1]  |\n",
        "^legend: #tbl-legend\n",
        "\n",
        "[^1]: in units of A100 `bfloat16` peak FLOPS"
      ]
    },
    {
      "cell_type": "code",
      "execution_count": null,
      "id": "291fa522",
      "metadata": {
        "colab": {
          "base_uri": "https://localhost:8080/",
          "height": 35
        },
        "id": "291fa522",
        "jupyter": {
          "outputs_hidden": false,
          "source_hidden": false
        },
        "outputId": "2488521f-8714-415e-f9bc-eda23086fdfd"
      },
      "outputs": [
        {
          "data": {
            "application/vnd.google.colaboratory.intrinsic+json": {
              "type": "string"
            },
            "text/plain": [
              "'cuda'"
            ]
          },
          "execution_count": 6,
          "metadata": {},
          "output_type": "execute_result"
        }
      ],
      "source": [
        "trainer.config.device_type"
      ]
    },
    {
      "cell_type": "code",
      "execution_count": null,
      "id": "WhKRSNLCtNtk",
      "metadata": {
        "colab": {
          "base_uri": "https://localhost:8080/",
          "height": 449
        },
        "id": "WhKRSNLCtNtk",
        "outputId": "a98b823e-0b8f-491e-a76e-800a03c22ec5"
      },
      "outputs": [
        {
          "data": {
            "text/html": [
              "<pre style=\"white-space:pre;overflow-x:auto;line-height:normal;font-family:Menlo,'DejaVu Sans Mono',consolas,'Courier New',monospace\"><span style=\"color: #800080; text-decoration-color: #800080; font-weight: bold\">GPT</span><span style=\"font-weight: bold\">(</span>\n",
              "  <span style=\"font-weight: bold\">(</span>transformer<span style=\"font-weight: bold\">)</span>: <span style=\"color: #800080; text-decoration-color: #800080; font-weight: bold\">ModuleDict</span><span style=\"font-weight: bold\">(</span>\n",
              "    <span style=\"font-weight: bold\">(</span>wte<span style=\"font-weight: bold\">)</span>: <span style=\"color: #800080; text-decoration-color: #800080; font-weight: bold\">Embedding</span><span style=\"font-weight: bold\">(</span><span style=\"color: #008080; text-decoration-color: #008080; font-weight: bold\">65</span>, <span style=\"color: #008080; text-decoration-color: #008080; font-weight: bold\">384</span><span style=\"font-weight: bold\">)</span>\n",
              "    <span style=\"font-weight: bold\">(</span>wpe<span style=\"font-weight: bold\">)</span>: <span style=\"color: #800080; text-decoration-color: #800080; font-weight: bold\">Embedding</span><span style=\"font-weight: bold\">(</span><span style=\"color: #008080; text-decoration-color: #008080; font-weight: bold\">256</span>, <span style=\"color: #008080; text-decoration-color: #008080; font-weight: bold\">384</span><span style=\"font-weight: bold\">)</span>\n",
              "    <span style=\"font-weight: bold\">(</span>drop<span style=\"font-weight: bold\">)</span>: <span style=\"color: #800080; text-decoration-color: #800080; font-weight: bold\">Dropout</span><span style=\"font-weight: bold\">(</span><span style=\"color: #808000; text-decoration-color: #808000\">p</span>=<span style=\"color: #008080; text-decoration-color: #008080; font-weight: bold\">0.2</span>, <span style=\"color: #808000; text-decoration-color: #808000\">inplace</span>=<span style=\"color: #ff0000; text-decoration-color: #ff0000; font-style: italic\">False</span><span style=\"font-weight: bold\">)</span>\n",
              "    <span style=\"font-weight: bold\">(</span>h<span style=\"font-weight: bold\">)</span>: <span style=\"color: #800080; text-decoration-color: #800080; font-weight: bold\">ModuleList</span><span style=\"font-weight: bold\">(</span>\n",
              "      <span style=\"font-weight: bold\">(</span><span style=\"color: #008080; text-decoration-color: #008080; font-weight: bold\">0</span>-<span style=\"color: #008080; text-decoration-color: #008080; font-weight: bold\">5</span><span style=\"font-weight: bold\">)</span>: <span style=\"color: #008080; text-decoration-color: #008080; font-weight: bold\">6</span> x <span style=\"color: #800080; text-decoration-color: #800080; font-weight: bold\">Block</span><span style=\"font-weight: bold\">(</span>\n",
              "        <span style=\"font-weight: bold\">(</span>ln_1<span style=\"font-weight: bold\">)</span>: <span style=\"color: #800080; text-decoration-color: #800080; font-weight: bold\">LayerNorm</span><span style=\"font-weight: bold\">()</span>\n",
              "        <span style=\"font-weight: bold\">(</span>attn<span style=\"font-weight: bold\">)</span>: <span style=\"color: #800080; text-decoration-color: #800080; font-weight: bold\">CausalSelfAttention</span><span style=\"font-weight: bold\">(</span>\n",
              "          <span style=\"font-weight: bold\">(</span>c_attn<span style=\"font-weight: bold\">)</span>: <span style=\"color: #800080; text-decoration-color: #800080; font-weight: bold\">Linear</span><span style=\"font-weight: bold\">(</span><span style=\"color: #808000; text-decoration-color: #808000\">in_features</span>=<span style=\"color: #008080; text-decoration-color: #008080; font-weight: bold\">384</span>, <span style=\"color: #808000; text-decoration-color: #808000\">out_features</span>=<span style=\"color: #008080; text-decoration-color: #008080; font-weight: bold\">1152</span>, <span style=\"color: #808000; text-decoration-color: #808000\">bias</span>=<span style=\"color: #ff0000; text-decoration-color: #ff0000; font-style: italic\">False</span><span style=\"font-weight: bold\">)</span>\n",
              "          <span style=\"font-weight: bold\">(</span>c_proj<span style=\"font-weight: bold\">)</span>: <span style=\"color: #800080; text-decoration-color: #800080; font-weight: bold\">Linear</span><span style=\"font-weight: bold\">(</span><span style=\"color: #808000; text-decoration-color: #808000\">in_features</span>=<span style=\"color: #008080; text-decoration-color: #008080; font-weight: bold\">384</span>, <span style=\"color: #808000; text-decoration-color: #808000\">out_features</span>=<span style=\"color: #008080; text-decoration-color: #008080; font-weight: bold\">384</span>, <span style=\"color: #808000; text-decoration-color: #808000\">bias</span>=<span style=\"color: #ff0000; text-decoration-color: #ff0000; font-style: italic\">False</span><span style=\"font-weight: bold\">)</span>\n",
              "          <span style=\"font-weight: bold\">(</span>attn_dropout<span style=\"font-weight: bold\">)</span>: <span style=\"color: #800080; text-decoration-color: #800080; font-weight: bold\">Dropout</span><span style=\"font-weight: bold\">(</span><span style=\"color: #808000; text-decoration-color: #808000\">p</span>=<span style=\"color: #008080; text-decoration-color: #008080; font-weight: bold\">0.2</span>, <span style=\"color: #808000; text-decoration-color: #808000\">inplace</span>=<span style=\"color: #ff0000; text-decoration-color: #ff0000; font-style: italic\">False</span><span style=\"font-weight: bold\">)</span>\n",
              "          <span style=\"font-weight: bold\">(</span>resid_dropout<span style=\"font-weight: bold\">)</span>: <span style=\"color: #800080; text-decoration-color: #800080; font-weight: bold\">Dropout</span><span style=\"font-weight: bold\">(</span><span style=\"color: #808000; text-decoration-color: #808000\">p</span>=<span style=\"color: #008080; text-decoration-color: #008080; font-weight: bold\">0.2</span>, <span style=\"color: #808000; text-decoration-color: #808000\">inplace</span>=<span style=\"color: #ff0000; text-decoration-color: #ff0000; font-style: italic\">False</span><span style=\"font-weight: bold\">)</span>\n",
              "        <span style=\"font-weight: bold\">)</span>\n",
              "        <span style=\"font-weight: bold\">(</span>ln_2<span style=\"font-weight: bold\">)</span>: <span style=\"color: #800080; text-decoration-color: #800080; font-weight: bold\">LayerNorm</span><span style=\"font-weight: bold\">()</span>\n",
              "        <span style=\"font-weight: bold\">(</span>mlp<span style=\"font-weight: bold\">)</span>: <span style=\"color: #800080; text-decoration-color: #800080; font-weight: bold\">MLP</span><span style=\"font-weight: bold\">(</span>\n",
              "          <span style=\"font-weight: bold\">(</span>c_fc<span style=\"font-weight: bold\">)</span>: <span style=\"color: #800080; text-decoration-color: #800080; font-weight: bold\">Linear</span><span style=\"font-weight: bold\">(</span><span style=\"color: #808000; text-decoration-color: #808000\">in_features</span>=<span style=\"color: #008080; text-decoration-color: #008080; font-weight: bold\">384</span>, <span style=\"color: #808000; text-decoration-color: #808000\">out_features</span>=<span style=\"color: #008080; text-decoration-color: #008080; font-weight: bold\">1536</span>, <span style=\"color: #808000; text-decoration-color: #808000\">bias</span>=<span style=\"color: #ff0000; text-decoration-color: #ff0000; font-style: italic\">False</span><span style=\"font-weight: bold\">)</span>\n",
              "          <span style=\"font-weight: bold\">(</span>act_fn<span style=\"font-weight: bold\">)</span>: <span style=\"color: #800080; text-decoration-color: #800080; font-weight: bold\">GELU</span><span style=\"font-weight: bold\">(</span><span style=\"color: #808000; text-decoration-color: #808000\">approximate</span>=<span style=\"color: #008000; text-decoration-color: #008000\">'none'</span><span style=\"font-weight: bold\">)</span>\n",
              "          <span style=\"font-weight: bold\">(</span>c_proj<span style=\"font-weight: bold\">)</span>: <span style=\"color: #800080; text-decoration-color: #800080; font-weight: bold\">Linear</span><span style=\"font-weight: bold\">(</span><span style=\"color: #808000; text-decoration-color: #808000\">in_features</span>=<span style=\"color: #008080; text-decoration-color: #008080; font-weight: bold\">1536</span>, <span style=\"color: #808000; text-decoration-color: #808000\">out_features</span>=<span style=\"color: #008080; text-decoration-color: #008080; font-weight: bold\">384</span>, <span style=\"color: #808000; text-decoration-color: #808000\">bias</span>=<span style=\"color: #ff0000; text-decoration-color: #ff0000; font-style: italic\">False</span><span style=\"font-weight: bold\">)</span>\n",
              "          <span style=\"font-weight: bold\">(</span>dropout<span style=\"font-weight: bold\">)</span>: <span style=\"color: #800080; text-decoration-color: #800080; font-weight: bold\">Dropout</span><span style=\"font-weight: bold\">(</span><span style=\"color: #808000; text-decoration-color: #808000\">p</span>=<span style=\"color: #008080; text-decoration-color: #008080; font-weight: bold\">0.2</span>, <span style=\"color: #808000; text-decoration-color: #808000\">inplace</span>=<span style=\"color: #ff0000; text-decoration-color: #ff0000; font-style: italic\">False</span><span style=\"font-weight: bold\">)</span>\n",
              "        <span style=\"font-weight: bold\">)</span>\n",
              "      <span style=\"font-weight: bold\">)</span>\n",
              "    <span style=\"font-weight: bold\">)</span>\n",
              "    <span style=\"font-weight: bold\">(</span>ln_f<span style=\"font-weight: bold\">)</span>: <span style=\"color: #800080; text-decoration-color: #800080; font-weight: bold\">LayerNorm</span><span style=\"font-weight: bold\">()</span>\n",
              "  <span style=\"font-weight: bold\">)</span>\n",
              "  <span style=\"font-weight: bold\">(</span>lm_head<span style=\"font-weight: bold\">)</span>: <span style=\"color: #800080; text-decoration-color: #800080; font-weight: bold\">Linear</span><span style=\"font-weight: bold\">(</span><span style=\"color: #808000; text-decoration-color: #808000\">in_features</span>=<span style=\"color: #008080; text-decoration-color: #008080; font-weight: bold\">384</span>, <span style=\"color: #808000; text-decoration-color: #808000\">out_features</span>=<span style=\"color: #008080; text-decoration-color: #008080; font-weight: bold\">65</span>, <span style=\"color: #808000; text-decoration-color: #808000\">bias</span>=<span style=\"color: #ff0000; text-decoration-color: #ff0000; font-style: italic\">False</span><span style=\"font-weight: bold\">)</span>\n",
              "<span style=\"font-weight: bold\">)</span>\n",
              "</pre>\n"
            ],
            "text/plain": [
              "\u001b[1;35mGPT\u001b[0m\u001b[1m(\u001b[0m\n",
              "  \u001b[1m(\u001b[0mtransformer\u001b[1m)\u001b[0m: \u001b[1;35mModuleDict\u001b[0m\u001b[1m(\u001b[0m\n",
              "    \u001b[1m(\u001b[0mwte\u001b[1m)\u001b[0m: \u001b[1;35mEmbedding\u001b[0m\u001b[1m(\u001b[0m\u001b[1;36m65\u001b[0m, \u001b[1;36m384\u001b[0m\u001b[1m)\u001b[0m\n",
              "    \u001b[1m(\u001b[0mwpe\u001b[1m)\u001b[0m: \u001b[1;35mEmbedding\u001b[0m\u001b[1m(\u001b[0m\u001b[1;36m256\u001b[0m, \u001b[1;36m384\u001b[0m\u001b[1m)\u001b[0m\n",
              "    \u001b[1m(\u001b[0mdrop\u001b[1m)\u001b[0m: \u001b[1;35mDropout\u001b[0m\u001b[1m(\u001b[0m\u001b[33mp\u001b[0m=\u001b[1;36m0\u001b[0m\u001b[1;36m.2\u001b[0m, \u001b[33minplace\u001b[0m=\u001b[3;91mFalse\u001b[0m\u001b[1m)\u001b[0m\n",
              "    \u001b[1m(\u001b[0mh\u001b[1m)\u001b[0m: \u001b[1;35mModuleList\u001b[0m\u001b[1m(\u001b[0m\n",
              "      \u001b[1m(\u001b[0m\u001b[1;36m0\u001b[0m-\u001b[1;36m5\u001b[0m\u001b[1m)\u001b[0m: \u001b[1;36m6\u001b[0m x \u001b[1;35mBlock\u001b[0m\u001b[1m(\u001b[0m\n",
              "        \u001b[1m(\u001b[0mln_1\u001b[1m)\u001b[0m: \u001b[1;35mLayerNorm\u001b[0m\u001b[1m(\u001b[0m\u001b[1m)\u001b[0m\n",
              "        \u001b[1m(\u001b[0mattn\u001b[1m)\u001b[0m: \u001b[1;35mCausalSelfAttention\u001b[0m\u001b[1m(\u001b[0m\n",
              "          \u001b[1m(\u001b[0mc_attn\u001b[1m)\u001b[0m: \u001b[1;35mLinear\u001b[0m\u001b[1m(\u001b[0m\u001b[33min_features\u001b[0m=\u001b[1;36m384\u001b[0m, \u001b[33mout_features\u001b[0m=\u001b[1;36m1152\u001b[0m, \u001b[33mbias\u001b[0m=\u001b[3;91mFalse\u001b[0m\u001b[1m)\u001b[0m\n",
              "          \u001b[1m(\u001b[0mc_proj\u001b[1m)\u001b[0m: \u001b[1;35mLinear\u001b[0m\u001b[1m(\u001b[0m\u001b[33min_features\u001b[0m=\u001b[1;36m384\u001b[0m, \u001b[33mout_features\u001b[0m=\u001b[1;36m384\u001b[0m, \u001b[33mbias\u001b[0m=\u001b[3;91mFalse\u001b[0m\u001b[1m)\u001b[0m\n",
              "          \u001b[1m(\u001b[0mattn_dropout\u001b[1m)\u001b[0m: \u001b[1;35mDropout\u001b[0m\u001b[1m(\u001b[0m\u001b[33mp\u001b[0m=\u001b[1;36m0\u001b[0m\u001b[1;36m.2\u001b[0m, \u001b[33minplace\u001b[0m=\u001b[3;91mFalse\u001b[0m\u001b[1m)\u001b[0m\n",
              "          \u001b[1m(\u001b[0mresid_dropout\u001b[1m)\u001b[0m: \u001b[1;35mDropout\u001b[0m\u001b[1m(\u001b[0m\u001b[33mp\u001b[0m=\u001b[1;36m0\u001b[0m\u001b[1;36m.2\u001b[0m, \u001b[33minplace\u001b[0m=\u001b[3;91mFalse\u001b[0m\u001b[1m)\u001b[0m\n",
              "        \u001b[1m)\u001b[0m\n",
              "        \u001b[1m(\u001b[0mln_2\u001b[1m)\u001b[0m: \u001b[1;35mLayerNorm\u001b[0m\u001b[1m(\u001b[0m\u001b[1m)\u001b[0m\n",
              "        \u001b[1m(\u001b[0mmlp\u001b[1m)\u001b[0m: \u001b[1;35mMLP\u001b[0m\u001b[1m(\u001b[0m\n",
              "          \u001b[1m(\u001b[0mc_fc\u001b[1m)\u001b[0m: \u001b[1;35mLinear\u001b[0m\u001b[1m(\u001b[0m\u001b[33min_features\u001b[0m=\u001b[1;36m384\u001b[0m, \u001b[33mout_features\u001b[0m=\u001b[1;36m1536\u001b[0m, \u001b[33mbias\u001b[0m=\u001b[3;91mFalse\u001b[0m\u001b[1m)\u001b[0m\n",
              "          \u001b[1m(\u001b[0mact_fn\u001b[1m)\u001b[0m: \u001b[1;35mGELU\u001b[0m\u001b[1m(\u001b[0m\u001b[33mapproximate\u001b[0m=\u001b[32m'none'\u001b[0m\u001b[1m)\u001b[0m\n",
              "          \u001b[1m(\u001b[0mc_proj\u001b[1m)\u001b[0m: \u001b[1;35mLinear\u001b[0m\u001b[1m(\u001b[0m\u001b[33min_features\u001b[0m=\u001b[1;36m1536\u001b[0m, \u001b[33mout_features\u001b[0m=\u001b[1;36m384\u001b[0m, \u001b[33mbias\u001b[0m=\u001b[3;91mFalse\u001b[0m\u001b[1m)\u001b[0m\n",
              "          \u001b[1m(\u001b[0mdropout\u001b[1m)\u001b[0m: \u001b[1;35mDropout\u001b[0m\u001b[1m(\u001b[0m\u001b[33mp\u001b[0m=\u001b[1;36m0\u001b[0m\u001b[1;36m.2\u001b[0m, \u001b[33minplace\u001b[0m=\u001b[3;91mFalse\u001b[0m\u001b[1m)\u001b[0m\n",
              "        \u001b[1m)\u001b[0m\n",
              "      \u001b[1m)\u001b[0m\n",
              "    \u001b[1m)\u001b[0m\n",
              "    \u001b[1m(\u001b[0mln_f\u001b[1m)\u001b[0m: \u001b[1;35mLayerNorm\u001b[0m\u001b[1m(\u001b[0m\u001b[1m)\u001b[0m\n",
              "  \u001b[1m)\u001b[0m\n",
              "  \u001b[1m(\u001b[0mlm_head\u001b[1m)\u001b[0m: \u001b[1;35mLinear\u001b[0m\u001b[1m(\u001b[0m\u001b[33min_features\u001b[0m=\u001b[1;36m384\u001b[0m, \u001b[33mout_features\u001b[0m=\u001b[1;36m65\u001b[0m, \u001b[33mbias\u001b[0m=\u001b[3;91mFalse\u001b[0m\u001b[1m)\u001b[0m\n",
              "\u001b[1m)\u001b[0m\n"
            ]
          },
          "metadata": {},
          "output_type": "display_data"
        }
      ],
      "source": [
        "from rich import print\n",
        "\n",
        "print(trainer.model)"
      ]
    },
    {
      "cell_type": "markdown",
      "id": "6GzygcwBvovx",
      "metadata": {
        "id": "6GzygcwBvovx"
      },
      "source": [
        "## (partial) Training:\n",
        "\n",
        "We'll first train for 500 iterations and then evaluate the models performance on the same prompt:\n",
        "\n",
        "> What is an LLM?"
      ]
    },
    {
      "cell_type": "code",
      "execution_count": null,
      "id": "acb8d33b-f8c9-41c6-aa61-95bdb76bf6ea",
      "metadata": {
        "colab": {
          "base_uri": "https://localhost:8080/",
          "height": 625
        },
        "execution": {
          "iopub.status.busy": "2023-11-30T16:36:28.946773Z",
          "iopub.status.idle": "2023-11-30T16:36:28.946965Z",
          "shell.execute_reply": "2023-11-30T16:36:28.946874Z",
          "shell.execute_reply.started": "2023-11-30T16:36:28.946865Z"
        },
        "id": "acb8d33b-f8c9-41c6-aa61-95bdb76bf6ea",
        "jupyter": {
          "outputs_hidden": false,
          "source_hidden": false
        },
        "outputId": "aebb6812-ce62-45f2-c217-e435cbf75b5f"
      },
      "outputs": [
        {
          "name": "stderr",
          "output_type": "stream",
          "text": [
            "\r",
            "  0%|          | 0/500 [00:00<?, ?it/s]"
          ]
        },
        {
          "data": {
            "text/html": [
              "<pre style=\"white-space:pre;overflow-x:auto;line-height:normal;font-family:Menlo,'DejaVu Sans Mono',consolas,'Courier New',monospace\"><span style=\"font-style: italic\">                              Training Legend                               </span>\n",
              "┏━━━━━━━━━━━━┳━━━━━━━━━━━━━━━━━━━━━━━━━━━━━━━━━━━━━━━━━━━━━━━━━━━━━━━━━━━━━┓\n",
              "┃<span style=\"font-weight: bold\">    abbr    </span>┃<span style=\"font-weight: bold\"> desc                                                        </span>┃\n",
              "┡━━━━━━━━━━━━╇━━━━━━━━━━━━━━━━━━━━━━━━━━━━━━━━━━━━━━━━━━━━━━━━━━━━━━━━━━━━━┩\n",
              "│<span style=\"color: #008000; text-decoration-color: #008000\">    step    </span>│ Current training iteration                                  │\n",
              "│<span style=\"color: #008000; text-decoration-color: #008000\">    loss    </span>│ Loss value                                                  │\n",
              "│<span style=\"color: #008000; text-decoration-color: #008000\">     dt     </span>│ Elapsed time per training step (measured in **ms**)         │\n",
              "│<span style=\"color: #008000; text-decoration-color: #008000\">    dtf     </span>│ Elapsed time per forward step (measured in **ms**)          │\n",
              "│<span style=\"color: #008000; text-decoration-color: #008000\">    dtb     </span>│ Elapsed time per backward step (measured in **ms**)         │\n",
              "│<span style=\"color: #008000; text-decoration-color: #008000\">    sps     </span>│ Samples per second                                          │\n",
              "│<span style=\"color: #008000; text-decoration-color: #008000\">    mtps    </span>│ Tokens per second, measured in MEGA (1 x 10^6) tokens / sec │\n",
              "│<span style=\"color: #008000; text-decoration-color: #008000\">    mfu     </span>│ Model flops utilization                                     │\n",
              "│<span style=\"color: #008000; text-decoration-color: #008000\"> train_loss </span>│ Training loss value                                         │\n",
              "│<span style=\"color: #008000; text-decoration-color: #008000\">  val_loss  </span>│ Validation loss value                                       │\n",
              "└────────────┴─────────────────────────────────────────────────────────────┘\n",
              "</pre>\n"
            ],
            "text/plain": [
              "\u001b[3m                              Training Legend                               \u001b[0m\n",
              "┏━━━━━━━━━━━━┳━━━━━━━━━━━━━━━━━━━━━━━━━━━━━━━━━━━━━━━━━━━━━━━━━━━━━━━━━━━━━┓\n",
              "┃\u001b[1m \u001b[0m\u001b[1m   abbr   \u001b[0m\u001b[1m \u001b[0m┃\u001b[1m \u001b[0m\u001b[1mdesc                                                       \u001b[0m\u001b[1m \u001b[0m┃\n",
              "┡━━━━━━━━━━━━╇━━━━━━━━━━━━━━━━━━━━━━━━━━━━━━━━━━━━━━━━━━━━━━━━━━━━━━━━━━━━━┩\n",
              "│\u001b[32m \u001b[0m\u001b[32m   step   \u001b[0m\u001b[32m \u001b[0m│ Current training iteration                                  │\n",
              "│\u001b[32m \u001b[0m\u001b[32m   loss   \u001b[0m\u001b[32m \u001b[0m│ Loss value                                                  │\n",
              "│\u001b[32m \u001b[0m\u001b[32m    dt    \u001b[0m\u001b[32m \u001b[0m│ Elapsed time per training step (measured in **ms**)         │\n",
              "│\u001b[32m \u001b[0m\u001b[32m   dtf    \u001b[0m\u001b[32m \u001b[0m│ Elapsed time per forward step (measured in **ms**)          │\n",
              "│\u001b[32m \u001b[0m\u001b[32m   dtb    \u001b[0m\u001b[32m \u001b[0m│ Elapsed time per backward step (measured in **ms**)         │\n",
              "│\u001b[32m \u001b[0m\u001b[32m   sps    \u001b[0m\u001b[32m \u001b[0m│ Samples per second                                          │\n",
              "│\u001b[32m \u001b[0m\u001b[32m   mtps   \u001b[0m\u001b[32m \u001b[0m│ Tokens per second, measured in MEGA (1 x 10^6) tokens / sec │\n",
              "│\u001b[32m \u001b[0m\u001b[32m   mfu    \u001b[0m\u001b[32m \u001b[0m│ Model flops utilization                                     │\n",
              "│\u001b[32m \u001b[0m\u001b[32mtrain_loss\u001b[0m\u001b[32m \u001b[0m│ Training loss value                                         │\n",
              "│\u001b[32m \u001b[0m\u001b[32m val_loss \u001b[0m\u001b[32m \u001b[0m│ Validation loss value                                       │\n",
              "└────────────┴─────────────────────────────────────────────────────────────┘\n"
            ]
          },
          "metadata": {},
          "output_type": "display_data"
        },
        {
          "name": "stderr",
          "output_type": "stream",
          "text": [
            " 10%|▉         | 49/500 [00:22<01:07,  6.69it/s]"
          ]
        },
        {
          "data": {
            "text/html": [
              "<pre style=\"white-space:pre;overflow-x:auto;line-height:normal;font-family:Menlo,'DejaVu Sans Mono',consolas,'Courier New',monospace\"><span style=\"color: #000000; text-decoration-color: #000000\">[</span><span style=\"color: #808080; text-decoration-color: #808080\">2024-02-12 19:13:33</span><span style=\"color: #000000; text-decoration-color: #000000\">][</span><span style=\"color: #008000; text-decoration-color: #008000; font-weight: bold\">INFO</span><span style=\"color: #000000; text-decoration-color: #000000\">][</span><span style=\"color: #008080; text-decoration-color: #008080; font-style: italic\">trainer</span><span style=\"color: #00ff00; text-decoration-color: #00ff00\">:</span><span style=\"color: #000000; text-decoration-color: #000000\">768</span><span style=\"color: #000000; text-decoration-color: #000000\">]</span><span style=\"color: #838383; text-decoration-color: #838383; font-weight: bold\"> - </span><span style=\"color: #0000ff; text-decoration-color: #0000ff; font-style: italic\">step</span>=<span style=\"color: #ff00ff; text-decoration-color: #ff00ff\">50</span> <span style=\"color: #0000ff; text-decoration-color: #0000ff; font-style: italic\">loss</span>=<span style=\"color: #ff00ff; text-decoration-color: #ff00ff\">2.5077</span> <span style=\"color: #0000ff; text-decoration-color: #0000ff; font-style: italic\">dt</span>=<span style=\"color: #ff00ff; text-decoration-color: #ff00ff\">127.6917</span> <span style=\"color: #0000ff; text-decoration-color: #0000ff; font-style: italic\">dtf</span>=<span style=\"color: #ff00ff; text-decoration-color: #ff00ff\">12.6559</span> <span style=\"color: #0000ff; text-decoration-color: #0000ff; font-style: italic\">dtb</span>=<span style=\"color: #ff00ff; text-decoration-color: #ff00ff\">15.7795</span> <span style=\"color: #0000ff; text-decoration-color: #0000ff; font-style: italic\">sps</span>=<span style=\"color: #ff00ff; text-decoration-color: #ff00ff\">7.8314</span> <span style=\"color: #0000ff; text-decoration-color: #0000ff; font-style: italic\">mtps</span>=<span style=\"color: #ff00ff; text-decoration-color: #ff00ff\">0.1283</span> <span style=\"color: #0000ff; text-decoration-color: #0000ff; font-style: italic\">mfu</span>=<span style=\"color: #ff00ff; text-decoration-color: #ff00ff\">2.9182</span> <span style=\"color: #0000ff; text-decoration-color: #0000ff; font-style: italic\">train_loss</span>=<span style=\"color: #ff00ff; text-decoration-color: #ff00ff\">4.3000</span> <span style=\"color: #0000ff; text-decoration-color: #0000ff; font-style: italic\">val_loss</span>=<span style=\"color: #ff00ff; text-decoration-color: #ff00ff\">4.2911</span>\n",
              "</pre>\n"
            ],
            "text/plain": [
              "\u001b[30m[\u001b[0m\u001b[90m2024-02-12 \u001b[0m\u001b[90m19:13:33\u001b[0m\u001b[30m]\u001b[0m\u001b[30m[\u001b[0m\u001b[1;32mINFO\u001b[0m\u001b[30m]\u001b[0m\u001b[30m[\u001b[0m\u001b[3;36mtrainer\u001b[0m\u001b[92m:\u001b[0m\u001b[30m768\u001b[0m\u001b[30m]\u001b[0m\u001b[1;38;2;131;131;131m - \u001b[0m\u001b[3;94mstep\u001b[0m=\u001b[95m50\u001b[0m \u001b[3;94mloss\u001b[0m=\u001b[95m2\u001b[0m\u001b[95m.5077\u001b[0m \u001b[3;94mdt\u001b[0m=\u001b[95m127\u001b[0m\u001b[95m.6917\u001b[0m \u001b[3;94mdtf\u001b[0m=\u001b[95m12\u001b[0m\u001b[95m.6559\u001b[0m \u001b[3;94mdtb\u001b[0m=\u001b[95m15\u001b[0m\u001b[95m.7795\u001b[0m \u001b[3;94msps\u001b[0m=\u001b[95m7\u001b[0m\u001b[95m.8314\u001b[0m \u001b[3;94mmtps\u001b[0m=\u001b[95m0\u001b[0m\u001b[95m.1283\u001b[0m \u001b[3;94mmfu\u001b[0m=\u001b[95m2\u001b[0m\u001b[95m.9182\u001b[0m \u001b[3;94mtrain_loss\u001b[0m=\u001b[95m4\u001b[0m\u001b[95m.3000\u001b[0m \u001b[3;94mval_loss\u001b[0m=\u001b[95m4\u001b[0m\u001b[95m.2911\u001b[0m\n"
            ]
          },
          "metadata": {},
          "output_type": "display_data"
        },
        {
          "name": "stderr",
          "output_type": "stream",
          "text": [
            " 20%|█▉        | 99/500 [00:29<00:56,  7.04it/s]"
          ]
        },
        {
          "data": {
            "text/html": [
              "<pre style=\"white-space:pre;overflow-x:auto;line-height:normal;font-family:Menlo,'DejaVu Sans Mono',consolas,'Courier New',monospace\"><span style=\"color: #000000; text-decoration-color: #000000\">[</span><span style=\"color: #808080; text-decoration-color: #808080\">2024-02-12 19:13:41</span><span style=\"color: #000000; text-decoration-color: #000000\">][</span><span style=\"color: #008000; text-decoration-color: #008000; font-weight: bold\">INFO</span><span style=\"color: #000000; text-decoration-color: #000000\">][</span><span style=\"color: #008080; text-decoration-color: #008080; font-style: italic\">trainer</span><span style=\"color: #00ff00; text-decoration-color: #00ff00\">:</span><span style=\"color: #000000; text-decoration-color: #000000\">768</span><span style=\"color: #000000; text-decoration-color: #000000\">]</span><span style=\"color: #838383; text-decoration-color: #838383; font-weight: bold\"> - </span><span style=\"color: #0000ff; text-decoration-color: #0000ff; font-style: italic\">step</span>=<span style=\"color: #ff00ff; text-decoration-color: #ff00ff\">100</span> <span style=\"color: #0000ff; text-decoration-color: #0000ff; font-style: italic\">loss</span>=<span style=\"color: #ff00ff; text-decoration-color: #ff00ff\">2.4733</span> <span style=\"color: #0000ff; text-decoration-color: #0000ff; font-style: italic\">dt</span>=<span style=\"color: #ff00ff; text-decoration-color: #ff00ff\">141.1029</span> <span style=\"color: #0000ff; text-decoration-color: #0000ff; font-style: italic\">dtf</span>=<span style=\"color: #ff00ff; text-decoration-color: #ff00ff\">11.3902</span> <span style=\"color: #0000ff; text-decoration-color: #0000ff; font-style: italic\">dtb</span>=<span style=\"color: #ff00ff; text-decoration-color: #ff00ff\">14.8108</span> <span style=\"color: #0000ff; text-decoration-color: #0000ff; font-style: italic\">sps</span>=<span style=\"color: #ff00ff; text-decoration-color: #ff00ff\">7.0870</span> <span style=\"color: #0000ff; text-decoration-color: #0000ff; font-style: italic\">mtps</span>=<span style=\"color: #ff00ff; text-decoration-color: #ff00ff\">0.1161</span> <span style=\"color: #0000ff; text-decoration-color: #0000ff; font-style: italic\">mfu</span>=<span style=\"color: #ff00ff; text-decoration-color: #ff00ff\">2.8904</span> <span style=\"color: #0000ff; text-decoration-color: #0000ff; font-style: italic\">train_loss</span>=<span style=\"color: #ff00ff; text-decoration-color: #ff00ff\">4.3000</span> <span style=\"color: #0000ff; text-decoration-color: #0000ff; font-style: italic\">val_loss</span>=<span style=\"color: #ff00ff; text-decoration-color: #ff00ff\">4.2911</span>\n",
              "</pre>\n"
            ],
            "text/plain": [
              "\u001b[30m[\u001b[0m\u001b[90m2024-02-12 \u001b[0m\u001b[90m19:13:41\u001b[0m\u001b[30m]\u001b[0m\u001b[30m[\u001b[0m\u001b[1;32mINFO\u001b[0m\u001b[30m]\u001b[0m\u001b[30m[\u001b[0m\u001b[3;36mtrainer\u001b[0m\u001b[92m:\u001b[0m\u001b[30m768\u001b[0m\u001b[30m]\u001b[0m\u001b[1;38;2;131;131;131m - \u001b[0m\u001b[3;94mstep\u001b[0m=\u001b[95m100\u001b[0m \u001b[3;94mloss\u001b[0m=\u001b[95m2\u001b[0m\u001b[95m.4733\u001b[0m \u001b[3;94mdt\u001b[0m=\u001b[95m141\u001b[0m\u001b[95m.1029\u001b[0m \u001b[3;94mdtf\u001b[0m=\u001b[95m11\u001b[0m\u001b[95m.3902\u001b[0m \u001b[3;94mdtb\u001b[0m=\u001b[95m14\u001b[0m\u001b[95m.8108\u001b[0m \u001b[3;94msps\u001b[0m=\u001b[95m7\u001b[0m\u001b[95m.0870\u001b[0m \u001b[3;94mmtps\u001b[0m=\u001b[95m0\u001b[0m\u001b[95m.1161\u001b[0m \u001b[3;94mmfu\u001b[0m=\u001b[95m2\u001b[0m\u001b[95m.8904\u001b[0m \u001b[3;94mtrain_loss\u001b[0m=\u001b[95m4\u001b[0m\u001b[95m.3000\u001b[0m \u001b[3;94mval_loss\u001b[0m=\u001b[95m4\u001b[0m\u001b[95m.2911\u001b[0m\n"
            ]
          },
          "metadata": {},
          "output_type": "display_data"
        },
        {
          "name": "stderr",
          "output_type": "stream",
          "text": [
            " 30%|██▉       | 149/500 [00:36<00:49,  7.05it/s]"
          ]
        },
        {
          "data": {
            "text/html": [
              "<pre style=\"white-space:pre;overflow-x:auto;line-height:normal;font-family:Menlo,'DejaVu Sans Mono',consolas,'Courier New',monospace\"><span style=\"color: #000000; text-decoration-color: #000000\">[</span><span style=\"color: #808080; text-decoration-color: #808080\">2024-02-12 19:13:48</span><span style=\"color: #000000; text-decoration-color: #000000\">][</span><span style=\"color: #008000; text-decoration-color: #008000; font-weight: bold\">INFO</span><span style=\"color: #000000; text-decoration-color: #000000\">][</span><span style=\"color: #008080; text-decoration-color: #008080; font-style: italic\">trainer</span><span style=\"color: #00ff00; text-decoration-color: #00ff00\">:</span><span style=\"color: #000000; text-decoration-color: #000000\">768</span><span style=\"color: #000000; text-decoration-color: #000000\">]</span><span style=\"color: #838383; text-decoration-color: #838383; font-weight: bold\"> - </span><span style=\"color: #0000ff; text-decoration-color: #0000ff; font-style: italic\">step</span>=<span style=\"color: #ff00ff; text-decoration-color: #ff00ff\">150</span> <span style=\"color: #0000ff; text-decoration-color: #0000ff; font-style: italic\">loss</span>=<span style=\"color: #ff00ff; text-decoration-color: #ff00ff\">2.4148</span> <span style=\"color: #0000ff; text-decoration-color: #0000ff; font-style: italic\">dt</span>=<span style=\"color: #ff00ff; text-decoration-color: #ff00ff\">147.1139</span> <span style=\"color: #0000ff; text-decoration-color: #0000ff; font-style: italic\">dtf</span>=<span style=\"color: #ff00ff; text-decoration-color: #ff00ff\">14.7969</span> <span style=\"color: #0000ff; text-decoration-color: #0000ff; font-style: italic\">dtb</span>=<span style=\"color: #ff00ff; text-decoration-color: #ff00ff\">26.4346</span> <span style=\"color: #0000ff; text-decoration-color: #0000ff; font-style: italic\">sps</span>=<span style=\"color: #ff00ff; text-decoration-color: #ff00ff\">6.7975</span> <span style=\"color: #0000ff; text-decoration-color: #0000ff; font-style: italic\">mtps</span>=<span style=\"color: #ff00ff; text-decoration-color: #ff00ff\">0.1114</span> <span style=\"color: #0000ff; text-decoration-color: #0000ff; font-style: italic\">mfu</span>=<span style=\"color: #ff00ff; text-decoration-color: #ff00ff\">2.8547</span> <span style=\"color: #0000ff; text-decoration-color: #0000ff; font-style: italic\">train_loss</span>=<span style=\"color: #ff00ff; text-decoration-color: #ff00ff\">4.3000</span> <span style=\"color: #0000ff; text-decoration-color: #0000ff; font-style: italic\">val_loss</span>=<span style=\"color: #ff00ff; text-decoration-color: #ff00ff\">4.2911</span>\n",
              "</pre>\n"
            ],
            "text/plain": [
              "\u001b[30m[\u001b[0m\u001b[90m2024-02-12 \u001b[0m\u001b[90m19:13:48\u001b[0m\u001b[30m]\u001b[0m\u001b[30m[\u001b[0m\u001b[1;32mINFO\u001b[0m\u001b[30m]\u001b[0m\u001b[30m[\u001b[0m\u001b[3;36mtrainer\u001b[0m\u001b[92m:\u001b[0m\u001b[30m768\u001b[0m\u001b[30m]\u001b[0m\u001b[1;38;2;131;131;131m - \u001b[0m\u001b[3;94mstep\u001b[0m=\u001b[95m150\u001b[0m \u001b[3;94mloss\u001b[0m=\u001b[95m2\u001b[0m\u001b[95m.4148\u001b[0m \u001b[3;94mdt\u001b[0m=\u001b[95m147\u001b[0m\u001b[95m.1139\u001b[0m \u001b[3;94mdtf\u001b[0m=\u001b[95m14\u001b[0m\u001b[95m.7969\u001b[0m \u001b[3;94mdtb\u001b[0m=\u001b[95m26\u001b[0m\u001b[95m.4346\u001b[0m \u001b[3;94msps\u001b[0m=\u001b[95m6\u001b[0m\u001b[95m.7975\u001b[0m \u001b[3;94mmtps\u001b[0m=\u001b[95m0\u001b[0m\u001b[95m.1114\u001b[0m \u001b[3;94mmfu\u001b[0m=\u001b[95m2\u001b[0m\u001b[95m.8547\u001b[0m \u001b[3;94mtrain_loss\u001b[0m=\u001b[95m4\u001b[0m\u001b[95m.3000\u001b[0m \u001b[3;94mval_loss\u001b[0m=\u001b[95m4\u001b[0m\u001b[95m.2911\u001b[0m\n"
            ]
          },
          "metadata": {},
          "output_type": "display_data"
        },
        {
          "name": "stderr",
          "output_type": "stream",
          "text": [
            " 40%|███▉      | 199/500 [00:43<00:42,  7.16it/s]"
          ]
        },
        {
          "data": {
            "text/html": [
              "<pre style=\"white-space:pre;overflow-x:auto;line-height:normal;font-family:Menlo,'DejaVu Sans Mono',consolas,'Courier New',monospace\"><span style=\"color: #000000; text-decoration-color: #000000\">[</span><span style=\"color: #808080; text-decoration-color: #808080\">2024-02-12 19:13:55</span><span style=\"color: #000000; text-decoration-color: #000000\">][</span><span style=\"color: #008000; text-decoration-color: #008000; font-weight: bold\">INFO</span><span style=\"color: #000000; text-decoration-color: #000000\">][</span><span style=\"color: #008080; text-decoration-color: #008080; font-style: italic\">trainer</span><span style=\"color: #00ff00; text-decoration-color: #00ff00\">:</span><span style=\"color: #000000; text-decoration-color: #000000\">768</span><span style=\"color: #000000; text-decoration-color: #000000\">]</span><span style=\"color: #838383; text-decoration-color: #838383; font-weight: bold\"> - </span><span style=\"color: #0000ff; text-decoration-color: #0000ff; font-style: italic\">step</span>=<span style=\"color: #ff00ff; text-decoration-color: #ff00ff\">200</span> <span style=\"color: #0000ff; text-decoration-color: #0000ff; font-style: italic\">loss</span>=<span style=\"color: #ff00ff; text-decoration-color: #ff00ff\">2.2610</span> <span style=\"color: #0000ff; text-decoration-color: #0000ff; font-style: italic\">dt</span>=<span style=\"color: #ff00ff; text-decoration-color: #ff00ff\">142.1936</span> <span style=\"color: #0000ff; text-decoration-color: #0000ff; font-style: italic\">dtf</span>=<span style=\"color: #ff00ff; text-decoration-color: #ff00ff\">12.4216</span> <span style=\"color: #0000ff; text-decoration-color: #0000ff; font-style: italic\">dtb</span>=<span style=\"color: #ff00ff; text-decoration-color: #ff00ff\">15.3683</span> <span style=\"color: #0000ff; text-decoration-color: #0000ff; font-style: italic\">sps</span>=<span style=\"color: #ff00ff; text-decoration-color: #ff00ff\">7.0327</span> <span style=\"color: #0000ff; text-decoration-color: #0000ff; font-style: italic\">mtps</span>=<span style=\"color: #ff00ff; text-decoration-color: #ff00ff\">0.1152</span> <span style=\"color: #0000ff; text-decoration-color: #0000ff; font-style: italic\">mfu</span>=<span style=\"color: #ff00ff; text-decoration-color: #ff00ff\">2.8312</span> <span style=\"color: #0000ff; text-decoration-color: #0000ff; font-style: italic\">train_loss</span>=<span style=\"color: #ff00ff; text-decoration-color: #ff00ff\">4.3000</span> <span style=\"color: #0000ff; text-decoration-color: #0000ff; font-style: italic\">val_loss</span>=<span style=\"color: #ff00ff; text-decoration-color: #ff00ff\">4.2911</span>\n",
              "</pre>\n"
            ],
            "text/plain": [
              "\u001b[30m[\u001b[0m\u001b[90m2024-02-12 \u001b[0m\u001b[90m19:13:55\u001b[0m\u001b[30m]\u001b[0m\u001b[30m[\u001b[0m\u001b[1;32mINFO\u001b[0m\u001b[30m]\u001b[0m\u001b[30m[\u001b[0m\u001b[3;36mtrainer\u001b[0m\u001b[92m:\u001b[0m\u001b[30m768\u001b[0m\u001b[30m]\u001b[0m\u001b[1;38;2;131;131;131m - \u001b[0m\u001b[3;94mstep\u001b[0m=\u001b[95m200\u001b[0m \u001b[3;94mloss\u001b[0m=\u001b[95m2\u001b[0m\u001b[95m.2610\u001b[0m \u001b[3;94mdt\u001b[0m=\u001b[95m142\u001b[0m\u001b[95m.1936\u001b[0m \u001b[3;94mdtf\u001b[0m=\u001b[95m12\u001b[0m\u001b[95m.4216\u001b[0m \u001b[3;94mdtb\u001b[0m=\u001b[95m15\u001b[0m\u001b[95m.3683\u001b[0m \u001b[3;94msps\u001b[0m=\u001b[95m7\u001b[0m\u001b[95m.0327\u001b[0m \u001b[3;94mmtps\u001b[0m=\u001b[95m0\u001b[0m\u001b[95m.1152\u001b[0m \u001b[3;94mmfu\u001b[0m=\u001b[95m2\u001b[0m\u001b[95m.8312\u001b[0m \u001b[3;94mtrain_loss\u001b[0m=\u001b[95m4\u001b[0m\u001b[95m.3000\u001b[0m \u001b[3;94mval_loss\u001b[0m=\u001b[95m4\u001b[0m\u001b[95m.2911\u001b[0m\n"
            ]
          },
          "metadata": {},
          "output_type": "display_data"
        },
        {
          "name": "stderr",
          "output_type": "stream",
          "text": [
            " 50%|████▉     | 249/500 [00:51<00:37,  6.74it/s]"
          ]
        },
        {
          "data": {
            "text/html": [
              "<pre style=\"white-space:pre;overflow-x:auto;line-height:normal;font-family:Menlo,'DejaVu Sans Mono',consolas,'Courier New',monospace\"><span style=\"color: #000000; text-decoration-color: #000000\">[</span><span style=\"color: #808080; text-decoration-color: #808080\">2024-02-12 19:14:02</span><span style=\"color: #000000; text-decoration-color: #000000\">][</span><span style=\"color: #008000; text-decoration-color: #008000; font-weight: bold\">INFO</span><span style=\"color: #000000; text-decoration-color: #000000\">][</span><span style=\"color: #008080; text-decoration-color: #008080; font-style: italic\">trainer</span><span style=\"color: #00ff00; text-decoration-color: #00ff00\">:</span><span style=\"color: #000000; text-decoration-color: #000000\">768</span><span style=\"color: #000000; text-decoration-color: #000000\">]</span><span style=\"color: #838383; text-decoration-color: #838383; font-weight: bold\"> - </span><span style=\"color: #0000ff; text-decoration-color: #0000ff; font-style: italic\">step</span>=<span style=\"color: #ff00ff; text-decoration-color: #ff00ff\">250</span> <span style=\"color: #0000ff; text-decoration-color: #0000ff; font-style: italic\">loss</span>=<span style=\"color: #ff00ff; text-decoration-color: #ff00ff\">2.0525</span> <span style=\"color: #0000ff; text-decoration-color: #0000ff; font-style: italic\">dt</span>=<span style=\"color: #ff00ff; text-decoration-color: #ff00ff\">238.1081</span> <span style=\"color: #0000ff; text-decoration-color: #0000ff; font-style: italic\">dtf</span>=<span style=\"color: #ff00ff; text-decoration-color: #ff00ff\">52.9419</span> <span style=\"color: #0000ff; text-decoration-color: #0000ff; font-style: italic\">dtb</span>=<span style=\"color: #ff00ff; text-decoration-color: #ff00ff\">57.6736</span> <span style=\"color: #0000ff; text-decoration-color: #0000ff; font-style: italic\">sps</span>=<span style=\"color: #ff00ff; text-decoration-color: #ff00ff\">4.1998</span> <span style=\"color: #0000ff; text-decoration-color: #0000ff; font-style: italic\">mtps</span>=<span style=\"color: #ff00ff; text-decoration-color: #ff00ff\">0.0688</span> <span style=\"color: #0000ff; text-decoration-color: #0000ff; font-style: italic\">mfu</span>=<span style=\"color: #ff00ff; text-decoration-color: #ff00ff\">2.7046</span> <span style=\"color: #0000ff; text-decoration-color: #0000ff; font-style: italic\">train_loss</span>=<span style=\"color: #ff00ff; text-decoration-color: #ff00ff\">4.3000</span> <span style=\"color: #0000ff; text-decoration-color: #0000ff; font-style: italic\">val_loss</span>=<span style=\"color: #ff00ff; text-decoration-color: #ff00ff\">4.2911</span>\n",
              "</pre>\n"
            ],
            "text/plain": [
              "\u001b[30m[\u001b[0m\u001b[90m2024-02-12 \u001b[0m\u001b[90m19:14:02\u001b[0m\u001b[30m]\u001b[0m\u001b[30m[\u001b[0m\u001b[1;32mINFO\u001b[0m\u001b[30m]\u001b[0m\u001b[30m[\u001b[0m\u001b[3;36mtrainer\u001b[0m\u001b[92m:\u001b[0m\u001b[30m768\u001b[0m\u001b[30m]\u001b[0m\u001b[1;38;2;131;131;131m - \u001b[0m\u001b[3;94mstep\u001b[0m=\u001b[95m250\u001b[0m \u001b[3;94mloss\u001b[0m=\u001b[95m2\u001b[0m\u001b[95m.0525\u001b[0m \u001b[3;94mdt\u001b[0m=\u001b[95m238\u001b[0m\u001b[95m.1081\u001b[0m \u001b[3;94mdtf\u001b[0m=\u001b[95m52\u001b[0m\u001b[95m.9419\u001b[0m \u001b[3;94mdtb\u001b[0m=\u001b[95m57\u001b[0m\u001b[95m.6736\u001b[0m \u001b[3;94msps\u001b[0m=\u001b[95m4\u001b[0m\u001b[95m.1998\u001b[0m \u001b[3;94mmtps\u001b[0m=\u001b[95m0\u001b[0m\u001b[95m.0688\u001b[0m \u001b[3;94mmfu\u001b[0m=\u001b[95m2\u001b[0m\u001b[95m.7046\u001b[0m \u001b[3;94mtrain_loss\u001b[0m=\u001b[95m4\u001b[0m\u001b[95m.3000\u001b[0m \u001b[3;94mval_loss\u001b[0m=\u001b[95m4\u001b[0m\u001b[95m.2911\u001b[0m\n"
            ]
          },
          "metadata": {},
          "output_type": "display_data"
        },
        {
          "name": "stderr",
          "output_type": "stream",
          "text": [
            " 60%|█████▉    | 299/500 [00:58<00:27,  7.23it/s]"
          ]
        },
        {
          "data": {
            "text/html": [
              "<pre style=\"white-space:pre;overflow-x:auto;line-height:normal;font-family:Menlo,'DejaVu Sans Mono',consolas,'Courier New',monospace\"><span style=\"color: #000000; text-decoration-color: #000000\">[</span><span style=\"color: #808080; text-decoration-color: #808080\">2024-02-12 19:14:09</span><span style=\"color: #000000; text-decoration-color: #000000\">][</span><span style=\"color: #008000; text-decoration-color: #008000; font-weight: bold\">INFO</span><span style=\"color: #000000; text-decoration-color: #000000\">][</span><span style=\"color: #008080; text-decoration-color: #008080; font-style: italic\">trainer</span><span style=\"color: #00ff00; text-decoration-color: #00ff00\">:</span><span style=\"color: #000000; text-decoration-color: #000000\">768</span><span style=\"color: #000000; text-decoration-color: #000000\">]</span><span style=\"color: #838383; text-decoration-color: #838383; font-weight: bold\"> - </span><span style=\"color: #0000ff; text-decoration-color: #0000ff; font-style: italic\">step</span>=<span style=\"color: #ff00ff; text-decoration-color: #ff00ff\">300</span> <span style=\"color: #0000ff; text-decoration-color: #0000ff; font-style: italic\">loss</span>=<span style=\"color: #ff00ff; text-decoration-color: #ff00ff\">1.9042</span> <span style=\"color: #0000ff; text-decoration-color: #0000ff; font-style: italic\">dt</span>=<span style=\"color: #ff00ff; text-decoration-color: #ff00ff\">143.3677</span> <span style=\"color: #0000ff; text-decoration-color: #0000ff; font-style: italic\">dtf</span>=<span style=\"color: #ff00ff; text-decoration-color: #ff00ff\">12.8163</span> <span style=\"color: #0000ff; text-decoration-color: #0000ff; font-style: italic\">dtb</span>=<span style=\"color: #ff00ff; text-decoration-color: #ff00ff\">15.4270</span> <span style=\"color: #0000ff; text-decoration-color: #0000ff; font-style: italic\">sps</span>=<span style=\"color: #ff00ff; text-decoration-color: #ff00ff\">6.9751</span> <span style=\"color: #0000ff; text-decoration-color: #0000ff; font-style: italic\">mtps</span>=<span style=\"color: #ff00ff; text-decoration-color: #ff00ff\">0.1143</span> <span style=\"color: #0000ff; text-decoration-color: #0000ff; font-style: italic\">mfu</span>=<span style=\"color: #ff00ff; text-decoration-color: #ff00ff\">2.6941</span> <span style=\"color: #0000ff; text-decoration-color: #0000ff; font-style: italic\">train_loss</span>=<span style=\"color: #ff00ff; text-decoration-color: #ff00ff\">4.3000</span> <span style=\"color: #0000ff; text-decoration-color: #0000ff; font-style: italic\">val_loss</span>=<span style=\"color: #ff00ff; text-decoration-color: #ff00ff\">4.2911</span>\n",
              "</pre>\n"
            ],
            "text/plain": [
              "\u001b[30m[\u001b[0m\u001b[90m2024-02-12 \u001b[0m\u001b[90m19:14:09\u001b[0m\u001b[30m]\u001b[0m\u001b[30m[\u001b[0m\u001b[1;32mINFO\u001b[0m\u001b[30m]\u001b[0m\u001b[30m[\u001b[0m\u001b[3;36mtrainer\u001b[0m\u001b[92m:\u001b[0m\u001b[30m768\u001b[0m\u001b[30m]\u001b[0m\u001b[1;38;2;131;131;131m - \u001b[0m\u001b[3;94mstep\u001b[0m=\u001b[95m300\u001b[0m \u001b[3;94mloss\u001b[0m=\u001b[95m1\u001b[0m\u001b[95m.9042\u001b[0m \u001b[3;94mdt\u001b[0m=\u001b[95m143\u001b[0m\u001b[95m.3677\u001b[0m \u001b[3;94mdtf\u001b[0m=\u001b[95m12\u001b[0m\u001b[95m.8163\u001b[0m \u001b[3;94mdtb\u001b[0m=\u001b[95m15\u001b[0m\u001b[95m.4270\u001b[0m \u001b[3;94msps\u001b[0m=\u001b[95m6\u001b[0m\u001b[95m.9751\u001b[0m \u001b[3;94mmtps\u001b[0m=\u001b[95m0\u001b[0m\u001b[95m.1143\u001b[0m \u001b[3;94mmfu\u001b[0m=\u001b[95m2\u001b[0m\u001b[95m.6941\u001b[0m \u001b[3;94mtrain_loss\u001b[0m=\u001b[95m4\u001b[0m\u001b[95m.3000\u001b[0m \u001b[3;94mval_loss\u001b[0m=\u001b[95m4\u001b[0m\u001b[95m.2911\u001b[0m\n"
            ]
          },
          "metadata": {},
          "output_type": "display_data"
        },
        {
          "name": "stderr",
          "output_type": "stream",
          "text": [
            " 70%|██████▉   | 349/500 [01:04<00:20,  7.31it/s]"
          ]
        },
        {
          "data": {
            "text/html": [
              "<pre style=\"white-space:pre;overflow-x:auto;line-height:normal;font-family:Menlo,'DejaVu Sans Mono',consolas,'Courier New',monospace\"><span style=\"color: #000000; text-decoration-color: #000000\">[</span><span style=\"color: #808080; text-decoration-color: #808080\">2024-02-12 19:14:16</span><span style=\"color: #000000; text-decoration-color: #000000\">][</span><span style=\"color: #008000; text-decoration-color: #008000; font-weight: bold\">INFO</span><span style=\"color: #000000; text-decoration-color: #000000\">][</span><span style=\"color: #008080; text-decoration-color: #008080; font-style: italic\">trainer</span><span style=\"color: #00ff00; text-decoration-color: #00ff00\">:</span><span style=\"color: #000000; text-decoration-color: #000000\">768</span><span style=\"color: #000000; text-decoration-color: #000000\">]</span><span style=\"color: #838383; text-decoration-color: #838383; font-weight: bold\"> - </span><span style=\"color: #0000ff; text-decoration-color: #0000ff; font-style: italic\">step</span>=<span style=\"color: #ff00ff; text-decoration-color: #ff00ff\">350</span> <span style=\"color: #0000ff; text-decoration-color: #0000ff; font-style: italic\">loss</span>=<span style=\"color: #ff00ff; text-decoration-color: #ff00ff\">1.7943</span> <span style=\"color: #0000ff; text-decoration-color: #0000ff; font-style: italic\">dt</span>=<span style=\"color: #ff00ff; text-decoration-color: #ff00ff\">150.0199</span> <span style=\"color: #0000ff; text-decoration-color: #0000ff; font-style: italic\">dtf</span>=<span style=\"color: #ff00ff; text-decoration-color: #ff00ff\">17.5972</span> <span style=\"color: #0000ff; text-decoration-color: #0000ff; font-style: italic\">dtb</span>=<span style=\"color: #ff00ff; text-decoration-color: #ff00ff\">15.8768</span> <span style=\"color: #0000ff; text-decoration-color: #0000ff; font-style: italic\">sps</span>=<span style=\"color: #ff00ff; text-decoration-color: #ff00ff\">6.6658</span> <span style=\"color: #0000ff; text-decoration-color: #0000ff; font-style: italic\">mtps</span>=<span style=\"color: #ff00ff; text-decoration-color: #ff00ff\">0.1092</span> <span style=\"color: #0000ff; text-decoration-color: #0000ff; font-style: italic\">mfu</span>=<span style=\"color: #ff00ff; text-decoration-color: #ff00ff\">2.6730</span> <span style=\"color: #0000ff; text-decoration-color: #0000ff; font-style: italic\">train_loss</span>=<span style=\"color: #ff00ff; text-decoration-color: #ff00ff\">4.3000</span> <span style=\"color: #0000ff; text-decoration-color: #0000ff; font-style: italic\">val_loss</span>=<span style=\"color: #ff00ff; text-decoration-color: #ff00ff\">4.2911</span>\n",
              "</pre>\n"
            ],
            "text/plain": [
              "\u001b[30m[\u001b[0m\u001b[90m2024-02-12 \u001b[0m\u001b[90m19:14:16\u001b[0m\u001b[30m]\u001b[0m\u001b[30m[\u001b[0m\u001b[1;32mINFO\u001b[0m\u001b[30m]\u001b[0m\u001b[30m[\u001b[0m\u001b[3;36mtrainer\u001b[0m\u001b[92m:\u001b[0m\u001b[30m768\u001b[0m\u001b[30m]\u001b[0m\u001b[1;38;2;131;131;131m - \u001b[0m\u001b[3;94mstep\u001b[0m=\u001b[95m350\u001b[0m \u001b[3;94mloss\u001b[0m=\u001b[95m1\u001b[0m\u001b[95m.7943\u001b[0m \u001b[3;94mdt\u001b[0m=\u001b[95m150\u001b[0m\u001b[95m.0199\u001b[0m \u001b[3;94mdtf\u001b[0m=\u001b[95m17\u001b[0m\u001b[95m.5972\u001b[0m \u001b[3;94mdtb\u001b[0m=\u001b[95m15\u001b[0m\u001b[95m.8768\u001b[0m \u001b[3;94msps\u001b[0m=\u001b[95m6\u001b[0m\u001b[95m.6658\u001b[0m \u001b[3;94mmtps\u001b[0m=\u001b[95m0\u001b[0m\u001b[95m.1092\u001b[0m \u001b[3;94mmfu\u001b[0m=\u001b[95m2\u001b[0m\u001b[95m.6730\u001b[0m \u001b[3;94mtrain_loss\u001b[0m=\u001b[95m4\u001b[0m\u001b[95m.3000\u001b[0m \u001b[3;94mval_loss\u001b[0m=\u001b[95m4\u001b[0m\u001b[95m.2911\u001b[0m\n"
            ]
          },
          "metadata": {},
          "output_type": "display_data"
        },
        {
          "name": "stderr",
          "output_type": "stream",
          "text": [
            " 80%|███████▉  | 399/500 [01:11<00:13,  7.49it/s]"
          ]
        },
        {
          "data": {
            "text/html": [
              "<pre style=\"white-space:pre;overflow-x:auto;line-height:normal;font-family:Menlo,'DejaVu Sans Mono',consolas,'Courier New',monospace\"><span style=\"color: #000000; text-decoration-color: #000000\">[</span><span style=\"color: #808080; text-decoration-color: #808080\">2024-02-12 19:14:22</span><span style=\"color: #000000; text-decoration-color: #000000\">][</span><span style=\"color: #008000; text-decoration-color: #008000; font-weight: bold\">INFO</span><span style=\"color: #000000; text-decoration-color: #000000\">][</span><span style=\"color: #008080; text-decoration-color: #008080; font-style: italic\">trainer</span><span style=\"color: #00ff00; text-decoration-color: #00ff00\">:</span><span style=\"color: #000000; text-decoration-color: #000000\">768</span><span style=\"color: #000000; text-decoration-color: #000000\">]</span><span style=\"color: #838383; text-decoration-color: #838383; font-weight: bold\"> - </span><span style=\"color: #0000ff; text-decoration-color: #0000ff; font-style: italic\">step</span>=<span style=\"color: #ff00ff; text-decoration-color: #ff00ff\">400</span> <span style=\"color: #0000ff; text-decoration-color: #0000ff; font-style: italic\">loss</span>=<span style=\"color: #ff00ff; text-decoration-color: #ff00ff\">1.7285</span> <span style=\"color: #0000ff; text-decoration-color: #0000ff; font-style: italic\">dt</span>=<span style=\"color: #ff00ff; text-decoration-color: #ff00ff\">138.2916</span> <span style=\"color: #0000ff; text-decoration-color: #0000ff; font-style: italic\">dtf</span>=<span style=\"color: #ff00ff; text-decoration-color: #ff00ff\">14.3086</span> <span style=\"color: #0000ff; text-decoration-color: #0000ff; font-style: italic\">dtb</span>=<span style=\"color: #ff00ff; text-decoration-color: #ff00ff\">17.9590</span> <span style=\"color: #0000ff; text-decoration-color: #0000ff; font-style: italic\">sps</span>=<span style=\"color: #ff00ff; text-decoration-color: #ff00ff\">7.2311</span> <span style=\"color: #0000ff; text-decoration-color: #0000ff; font-style: italic\">mtps</span>=<span style=\"color: #ff00ff; text-decoration-color: #ff00ff\">0.1185</span> <span style=\"color: #0000ff; text-decoration-color: #0000ff; font-style: italic\">mfu</span>=<span style=\"color: #ff00ff; text-decoration-color: #ff00ff\">2.6752</span> <span style=\"color: #0000ff; text-decoration-color: #0000ff; font-style: italic\">train_loss</span>=<span style=\"color: #ff00ff; text-decoration-color: #ff00ff\">4.3000</span> <span style=\"color: #0000ff; text-decoration-color: #0000ff; font-style: italic\">val_loss</span>=<span style=\"color: #ff00ff; text-decoration-color: #ff00ff\">4.2911</span>\n",
              "</pre>\n"
            ],
            "text/plain": [
              "\u001b[30m[\u001b[0m\u001b[90m2024-02-12 \u001b[0m\u001b[90m19:14:22\u001b[0m\u001b[30m]\u001b[0m\u001b[30m[\u001b[0m\u001b[1;32mINFO\u001b[0m\u001b[30m]\u001b[0m\u001b[30m[\u001b[0m\u001b[3;36mtrainer\u001b[0m\u001b[92m:\u001b[0m\u001b[30m768\u001b[0m\u001b[30m]\u001b[0m\u001b[1;38;2;131;131;131m - \u001b[0m\u001b[3;94mstep\u001b[0m=\u001b[95m400\u001b[0m \u001b[3;94mloss\u001b[0m=\u001b[95m1\u001b[0m\u001b[95m.7285\u001b[0m \u001b[3;94mdt\u001b[0m=\u001b[95m138\u001b[0m\u001b[95m.2916\u001b[0m \u001b[3;94mdtf\u001b[0m=\u001b[95m14\u001b[0m\u001b[95m.3086\u001b[0m \u001b[3;94mdtb\u001b[0m=\u001b[95m17\u001b[0m\u001b[95m.9590\u001b[0m \u001b[3;94msps\u001b[0m=\u001b[95m7\u001b[0m\u001b[95m.2311\u001b[0m \u001b[3;94mmtps\u001b[0m=\u001b[95m0\u001b[0m\u001b[95m.1185\u001b[0m \u001b[3;94mmfu\u001b[0m=\u001b[95m2\u001b[0m\u001b[95m.6752\u001b[0m \u001b[3;94mtrain_loss\u001b[0m=\u001b[95m4\u001b[0m\u001b[95m.3000\u001b[0m \u001b[3;94mval_loss\u001b[0m=\u001b[95m4\u001b[0m\u001b[95m.2911\u001b[0m\n"
            ]
          },
          "metadata": {},
          "output_type": "display_data"
        },
        {
          "name": "stderr",
          "output_type": "stream",
          "text": [
            " 90%|████████▉ | 449/500 [01:18<00:06,  7.49it/s]"
          ]
        },
        {
          "data": {
            "text/html": [
              "<pre style=\"white-space:pre;overflow-x:auto;line-height:normal;font-family:Menlo,'DejaVu Sans Mono',consolas,'Courier New',monospace\"><span style=\"color: #000000; text-decoration-color: #000000\">[</span><span style=\"color: #808080; text-decoration-color: #808080\">2024-02-12 19:14:29</span><span style=\"color: #000000; text-decoration-color: #000000\">][</span><span style=\"color: #008000; text-decoration-color: #008000; font-weight: bold\">INFO</span><span style=\"color: #000000; text-decoration-color: #000000\">][</span><span style=\"color: #008080; text-decoration-color: #008080; font-style: italic\">trainer</span><span style=\"color: #00ff00; text-decoration-color: #00ff00\">:</span><span style=\"color: #000000; text-decoration-color: #000000\">768</span><span style=\"color: #000000; text-decoration-color: #000000\">]</span><span style=\"color: #838383; text-decoration-color: #838383; font-weight: bold\"> - </span><span style=\"color: #0000ff; text-decoration-color: #0000ff; font-style: italic\">step</span>=<span style=\"color: #ff00ff; text-decoration-color: #ff00ff\">450</span> <span style=\"color: #0000ff; text-decoration-color: #0000ff; font-style: italic\">loss</span>=<span style=\"color: #ff00ff; text-decoration-color: #ff00ff\">1.6809</span> <span style=\"color: #0000ff; text-decoration-color: #0000ff; font-style: italic\">dt</span>=<span style=\"color: #ff00ff; text-decoration-color: #ff00ff\">131.0051</span> <span style=\"color: #0000ff; text-decoration-color: #0000ff; font-style: italic\">dtf</span>=<span style=\"color: #ff00ff; text-decoration-color: #ff00ff\">10.7490</span> <span style=\"color: #0000ff; text-decoration-color: #0000ff; font-style: italic\">dtb</span>=<span style=\"color: #ff00ff; text-decoration-color: #ff00ff\">14.2563</span> <span style=\"color: #0000ff; text-decoration-color: #0000ff; font-style: italic\">sps</span>=<span style=\"color: #ff00ff; text-decoration-color: #ff00ff\">7.6333</span> <span style=\"color: #0000ff; text-decoration-color: #0000ff; font-style: italic\">mtps</span>=<span style=\"color: #ff00ff; text-decoration-color: #ff00ff\">0.1251</span> <span style=\"color: #0000ff; text-decoration-color: #0000ff; font-style: italic\">mfu</span>=<span style=\"color: #ff00ff; text-decoration-color: #ff00ff\">2.6921</span> <span style=\"color: #0000ff; text-decoration-color: #0000ff; font-style: italic\">train_loss</span>=<span style=\"color: #ff00ff; text-decoration-color: #ff00ff\">4.3000</span> <span style=\"color: #0000ff; text-decoration-color: #0000ff; font-style: italic\">val_loss</span>=<span style=\"color: #ff00ff; text-decoration-color: #ff00ff\">4.2911</span>\n",
              "</pre>\n"
            ],
            "text/plain": [
              "\u001b[30m[\u001b[0m\u001b[90m2024-02-12 \u001b[0m\u001b[90m19:14:29\u001b[0m\u001b[30m]\u001b[0m\u001b[30m[\u001b[0m\u001b[1;32mINFO\u001b[0m\u001b[30m]\u001b[0m\u001b[30m[\u001b[0m\u001b[3;36mtrainer\u001b[0m\u001b[92m:\u001b[0m\u001b[30m768\u001b[0m\u001b[30m]\u001b[0m\u001b[1;38;2;131;131;131m - \u001b[0m\u001b[3;94mstep\u001b[0m=\u001b[95m450\u001b[0m \u001b[3;94mloss\u001b[0m=\u001b[95m1\u001b[0m\u001b[95m.6809\u001b[0m \u001b[3;94mdt\u001b[0m=\u001b[95m131\u001b[0m\u001b[95m.0051\u001b[0m \u001b[3;94mdtf\u001b[0m=\u001b[95m10\u001b[0m\u001b[95m.7490\u001b[0m \u001b[3;94mdtb\u001b[0m=\u001b[95m14\u001b[0m\u001b[95m.2563\u001b[0m \u001b[3;94msps\u001b[0m=\u001b[95m7\u001b[0m\u001b[95m.6333\u001b[0m \u001b[3;94mmtps\u001b[0m=\u001b[95m0\u001b[0m\u001b[95m.1251\u001b[0m \u001b[3;94mmfu\u001b[0m=\u001b[95m2\u001b[0m\u001b[95m.6921\u001b[0m \u001b[3;94mtrain_loss\u001b[0m=\u001b[95m4\u001b[0m\u001b[95m.3000\u001b[0m \u001b[3;94mval_loss\u001b[0m=\u001b[95m4\u001b[0m\u001b[95m.2911\u001b[0m\n"
            ]
          },
          "metadata": {},
          "output_type": "display_data"
        },
        {
          "name": "stderr",
          "output_type": "stream",
          "text": [
            "100%|█████████▉| 499/500 [01:25<00:00,  7.41it/s]"
          ]
        },
        {
          "data": {
            "text/html": [
              "<pre style=\"white-space:pre;overflow-x:auto;line-height:normal;font-family:Menlo,'DejaVu Sans Mono',consolas,'Courier New',monospace\"><span style=\"color: #000000; text-decoration-color: #000000\">[</span><span style=\"color: #808080; text-decoration-color: #808080\">2024-02-12 19:14:36</span><span style=\"color: #000000; text-decoration-color: #000000\">][</span><span style=\"color: #008000; text-decoration-color: #008000; font-weight: bold\">INFO</span><span style=\"color: #000000; text-decoration-color: #000000\">][</span><span style=\"color: #008080; text-decoration-color: #008080; font-style: italic\">trainer</span><span style=\"color: #00ff00; text-decoration-color: #00ff00\">:</span><span style=\"color: #000000; text-decoration-color: #000000\">768</span><span style=\"color: #000000; text-decoration-color: #000000\">]</span><span style=\"color: #838383; text-decoration-color: #838383; font-weight: bold\"> - </span><span style=\"color: #0000ff; text-decoration-color: #0000ff; font-style: italic\">step</span>=<span style=\"color: #ff00ff; text-decoration-color: #ff00ff\">500</span> <span style=\"color: #0000ff; text-decoration-color: #0000ff; font-style: italic\">loss</span>=<span style=\"color: #ff00ff; text-decoration-color: #ff00ff\">1.6046</span> <span style=\"color: #0000ff; text-decoration-color: #0000ff; font-style: italic\">dt</span>=<span style=\"color: #ff00ff; text-decoration-color: #ff00ff\">133.9231</span> <span style=\"color: #0000ff; text-decoration-color: #0000ff; font-style: italic\">dtf</span>=<span style=\"color: #ff00ff; text-decoration-color: #ff00ff\">17.5336</span> <span style=\"color: #0000ff; text-decoration-color: #0000ff; font-style: italic\">dtb</span>=<span style=\"color: #ff00ff; text-decoration-color: #ff00ff\">22.3624</span> <span style=\"color: #0000ff; text-decoration-color: #0000ff; font-style: italic\">sps</span>=<span style=\"color: #ff00ff; text-decoration-color: #ff00ff\">7.4670</span> <span style=\"color: #0000ff; text-decoration-color: #0000ff; font-style: italic\">mtps</span>=<span style=\"color: #ff00ff; text-decoration-color: #ff00ff\">0.1223</span> <span style=\"color: #0000ff; text-decoration-color: #0000ff; font-style: italic\">mfu</span>=<span style=\"color: #ff00ff; text-decoration-color: #ff00ff\">2.7011</span> <span style=\"color: #0000ff; text-decoration-color: #0000ff; font-style: italic\">train_loss</span>=<span style=\"color: #ff00ff; text-decoration-color: #ff00ff\">4.3000</span> <span style=\"color: #0000ff; text-decoration-color: #0000ff; font-style: italic\">val_loss</span>=<span style=\"color: #ff00ff; text-decoration-color: #ff00ff\">4.2911</span>\n",
              "</pre>\n"
            ],
            "text/plain": [
              "\u001b[30m[\u001b[0m\u001b[90m2024-02-12 \u001b[0m\u001b[90m19:14:36\u001b[0m\u001b[30m]\u001b[0m\u001b[30m[\u001b[0m\u001b[1;32mINFO\u001b[0m\u001b[30m]\u001b[0m\u001b[30m[\u001b[0m\u001b[3;36mtrainer\u001b[0m\u001b[92m:\u001b[0m\u001b[30m768\u001b[0m\u001b[30m]\u001b[0m\u001b[1;38;2;131;131;131m - \u001b[0m\u001b[3;94mstep\u001b[0m=\u001b[95m500\u001b[0m \u001b[3;94mloss\u001b[0m=\u001b[95m1\u001b[0m\u001b[95m.6046\u001b[0m \u001b[3;94mdt\u001b[0m=\u001b[95m133\u001b[0m\u001b[95m.9231\u001b[0m \u001b[3;94mdtf\u001b[0m=\u001b[95m17\u001b[0m\u001b[95m.5336\u001b[0m \u001b[3;94mdtb\u001b[0m=\u001b[95m22\u001b[0m\u001b[95m.3624\u001b[0m \u001b[3;94msps\u001b[0m=\u001b[95m7\u001b[0m\u001b[95m.4670\u001b[0m \u001b[3;94mmtps\u001b[0m=\u001b[95m0\u001b[0m\u001b[95m.1223\u001b[0m \u001b[3;94mmfu\u001b[0m=\u001b[95m2\u001b[0m\u001b[95m.7011\u001b[0m \u001b[3;94mtrain_loss\u001b[0m=\u001b[95m4\u001b[0m\u001b[95m.3000\u001b[0m \u001b[3;94mval_loss\u001b[0m=\u001b[95m4\u001b[0m\u001b[95m.2911\u001b[0m\n"
            ]
          },
          "metadata": {},
          "output_type": "display_data"
        },
        {
          "name": "stderr",
          "output_type": "stream",
          "text": [
            "100%|██████████| 500/500 [01:25<00:00,  5.87it/s]\n"
          ]
        }
      ],
      "source": [
        "trainer.train(train_iters=500)"
      ]
    },
    {
      "cell_type": "code",
      "execution_count": null,
      "id": "A8XJpQsuunPh",
      "metadata": {
        "colab": {
          "base_uri": "https://localhost:8080/",
          "height": 321
        },
        "id": "A8XJpQsuunPh",
        "outputId": "c48609ba-29af-4a10-ece5-b43e78cf740f"
      },
      "outputs": [
        {
          "data": {
            "text/html": [
              "<pre style=\"white-space:pre;overflow-x:auto;line-height:normal;font-family:Menlo,'DejaVu Sans Mono',consolas,'Courier New',monospace\"><span style=\"color: #000000; text-decoration-color: #000000\">[</span><span style=\"color: #808080; text-decoration-color: #808080\">2024-02-12 19:16:26</span><span style=\"color: #000000; text-decoration-color: #000000\">][</span><span style=\"color: #008000; text-decoration-color: #008000; font-weight: bold\">INFO</span><span style=\"color: #000000; text-decoration-color: #000000\">][</span><span style=\"color: #008080; text-decoration-color: #008080; font-style: italic\">&lt;ipython-input-10-18639f76aec6&gt;</span><span style=\"color: #00ff00; text-decoration-color: #00ff00\">:</span><span style=\"color: #000000; text-decoration-color: #000000\">12</span><span style=\"color: #000000; text-decoration-color: #000000\">]</span><span style=\"color: #838383; text-decoration-color: #838383; font-weight: bold\"> - </span>took: <span style=\"color: #ff00ff; text-decoration-color: #ff00ff\">1.</span>8003s\n",
              "</pre>\n"
            ],
            "text/plain": [
              "\u001b[30m[\u001b[0m\u001b[90m2024-02-12 \u001b[0m\u001b[90m19:16:26\u001b[0m\u001b[30m]\u001b[0m\u001b[30m[\u001b[0m\u001b[1;32mINFO\u001b[0m\u001b[30m]\u001b[0m\u001b[30m[\u001b[0m\u001b[3;36m<ipython-input-10-18639f76aec6>\u001b[0m\u001b[92m:\u001b[0m\u001b[30m12\u001b[0m\u001b[30m]\u001b[0m\u001b[1;38;2;131;131;131m - \u001b[0mtook: \u001b[95m1.\u001b[0m8003s\n"
            ]
          },
          "metadata": {},
          "output_type": "display_data"
        },
        {
          "data": {
            "text/html": [
              "<pre style=\"white-space:pre;overflow-x:auto;line-height:normal;font-family:Menlo,'DejaVu Sans Mono',consolas,'Courier New',monospace\"><span style=\"color: #000000; text-decoration-color: #000000\">[</span><span style=\"color: #808080; text-decoration-color: #808080\">2024-02-12 19:16:26</span><span style=\"color: #000000; text-decoration-color: #000000\">][</span><span style=\"color: #008000; text-decoration-color: #008000; font-weight: bold\">INFO</span><span style=\"color: #000000; text-decoration-color: #000000\">][</span><span style=\"color: #008080; text-decoration-color: #008080; font-style: italic\">&lt;ipython-input-10-18639f76aec6&gt;</span><span style=\"color: #00ff00; text-decoration-color: #00ff00\">:</span><span style=\"color: #000000; text-decoration-color: #000000\">13</span><span style=\"color: #000000; text-decoration-color: #000000\">]</span><span style=\"color: #838383; text-decoration-color: #838383; font-weight: bold\"> - </span><span style=\"color: #ffffff; text-decoration-color: #ffffff; font-weight: bold\">[</span><span style=\"color: #00ff00; text-decoration-color: #00ff00; font-style: italic\">'prompt'</span><span style=\"color: #ffffff; text-decoration-color: #ffffff; font-weight: bold\">]</span>: <span style=\"color: #00ff00; text-decoration-color: #00ff00; font-style: italic\">'What is an LLM?'</span>\n",
              "</pre>\n"
            ],
            "text/plain": [
              "\u001b[30m[\u001b[0m\u001b[90m2024-02-12 \u001b[0m\u001b[90m19:16:26\u001b[0m\u001b[30m]\u001b[0m\u001b[30m[\u001b[0m\u001b[1;32mINFO\u001b[0m\u001b[30m]\u001b[0m\u001b[30m[\u001b[0m\u001b[3;36m<ipython-input-10-18639f76aec6>\u001b[0m\u001b[92m:\u001b[0m\u001b[30m13\u001b[0m\u001b[30m]\u001b[0m\u001b[1;38;2;131;131;131m - \u001b[0m\u001b[1;97m[\u001b[0m\u001b[3;92m'prompt'\u001b[0m\u001b[1;97m]\u001b[0m: \u001b[3;92m'What is an LLM?'\u001b[0m\n"
            ]
          },
          "metadata": {},
          "output_type": "display_data"
        },
        {
          "data": {
            "text/html": [
              "<pre style=\"white-space:pre;overflow-x:auto;line-height:normal;font-family:Menlo,'DejaVu Sans Mono',consolas,'Courier New',monospace\"><span style=\"color: #000000; text-decoration-color: #000000\">[</span><span style=\"color: #808080; text-decoration-color: #808080\">2024-02-12 19:16:26</span><span style=\"color: #000000; text-decoration-color: #000000\">][</span><span style=\"color: #008000; text-decoration-color: #008000; font-weight: bold\">INFO</span><span style=\"color: #000000; text-decoration-color: #000000\">][</span><span style=\"color: #008080; text-decoration-color: #008080; font-style: italic\">&lt;ipython-input-10-18639f76aec6&gt;</span><span style=\"color: #00ff00; text-decoration-color: #00ff00\">:</span><span style=\"color: #000000; text-decoration-color: #000000\">14</span><span style=\"color: #000000; text-decoration-color: #000000\">]</span><span style=\"color: #838383; text-decoration-color: #838383; font-weight: bold\"> - </span><span style=\"color: #ffffff; text-decoration-color: #ffffff; font-weight: bold\">[</span><span style=\"color: #00ff00; text-decoration-color: #00ff00; font-style: italic\">'response'</span><span style=\"color: #ffffff; text-decoration-color: #ffffff; font-weight: bold\">]</span>:\n",
              "\n",
              "What is an LLM?\n",
              "\n",
              "SOMEY:\n",
              "That then to false then?\n",
              "\n",
              "POLIXENES:\n",
              "I were are well the provost.\n",
              "\n",
              "CORIOLANUS:\n",
              "Now do, my screed far fair to at metwer to begge,\n",
              "With be a ting of fray tear her discreed,\n",
              "And to honour not born suchild shame make would wedge as them.\n",
              "\n",
              "VIRGIM:\n",
              "Good\n",
              "</pre>\n"
            ],
            "text/plain": [
              "\u001b[30m[\u001b[0m\u001b[90m2024-02-12 \u001b[0m\u001b[90m19:16:26\u001b[0m\u001b[30m]\u001b[0m\u001b[30m[\u001b[0m\u001b[1;32mINFO\u001b[0m\u001b[30m]\u001b[0m\u001b[30m[\u001b[0m\u001b[3;36m<ipython-input-10-18639f76aec6>\u001b[0m\u001b[92m:\u001b[0m\u001b[30m14\u001b[0m\u001b[30m]\u001b[0m\u001b[1;38;2;131;131;131m - \u001b[0m\u001b[1;97m[\u001b[0m\u001b[3;92m'response'\u001b[0m\u001b[1;97m]\u001b[0m:\n",
              "\n",
              "What is an LLM?\n",
              "\n",
              "SOMEY:\n",
              "That then to false then?\n",
              "\n",
              "POLIXENES:\n",
              "I were are well the provost.\n",
              "\n",
              "CORIOLANUS:\n",
              "Now do, my screed far fair to at metwer to begge,\n",
              "With be a ting of fray tear her discreed,\n",
              "And to honour not born suchild shame make would wedge as them.\n",
              "\n",
              "VIRGIM:\n",
              "Good\n"
            ]
          },
          "metadata": {},
          "output_type": "display_data"
        }
      ],
      "source": [
        "import time\n",
        "\n",
        "query = \"What is an LLM?\"\n",
        "t0 = time.perf_counter()\n",
        "outputs = trainer.evaluate(\n",
        "    query,\n",
        "    num_samples=1,\n",
        "    max_new_tokens=256,\n",
        "    top_k=16,\n",
        "    display=False\n",
        ")\n",
        "log.info(f'took: {time.perf_counter() - t0:.4f}s')\n",
        "log.info(f\"['prompt']: '{query}'\")\n",
        "log.info(\"['response']:\\n\\n\" + fr\"{outputs['0']['raw']}\")"
      ]
    },
    {
      "cell_type": "markdown",
      "id": "dSECFbpLwAer",
      "metadata": {
        "id": "dSECFbpLwAer"
      },
      "source": [
        "## Resume Training..."
      ]
    },
    {
      "cell_type": "code",
      "execution_count": null,
      "id": "ku1I3G_jv_-a",
      "metadata": {
        "colab": {
          "base_uri": "https://localhost:8080/",
          "height": 832
        },
        "id": "ku1I3G_jv_-a",
        "outputId": "4104926d-80a8-4466-a821-80539633e18a"
      },
      "outputs": [
        {
          "name": "stderr",
          "output_type": "stream",
          "text": [
            "\r",
            "  0%|          | 0/1000 [00:00<?, ?it/s]"
          ]
        },
        {
          "data": {
            "text/html": [
              "<pre style=\"white-space:pre;overflow-x:auto;line-height:normal;font-family:Menlo,'DejaVu Sans Mono',consolas,'Courier New',monospace\"><span style=\"color: #000000; text-decoration-color: #000000\">[</span><span style=\"color: #808080; text-decoration-color: #808080\">2024-02-12 19:17:21</span><span style=\"color: #000000; text-decoration-color: #000000\">][</span><span style=\"color: #008000; text-decoration-color: #008000; font-weight: bold\">INFO</span><span style=\"color: #000000; text-decoration-color: #000000\">][</span><span style=\"color: #008080; text-decoration-color: #008080; font-style: italic\">trainer</span><span style=\"color: #00ff00; text-decoration-color: #00ff00\">:</span><span style=\"color: #000000; text-decoration-color: #000000\">666</span><span style=\"color: #000000; text-decoration-color: #000000\">]</span><span style=\"color: #838383; text-decoration-color: #838383; font-weight: bold\"> - </span>Saving checkpoint to: <span style=\"color: #008000; text-decoration-color: #008000\">/</span><span style=\"color: #800080; text-decoration-color: #800080\">content</span>\n",
              "</pre>\n"
            ],
            "text/plain": [
              "\u001b[30m[\u001b[0m\u001b[90m2024-02-12 \u001b[0m\u001b[90m19:17:21\u001b[0m\u001b[30m]\u001b[0m\u001b[30m[\u001b[0m\u001b[1;32mINFO\u001b[0m\u001b[30m]\u001b[0m\u001b[30m[\u001b[0m\u001b[3;36mtrainer\u001b[0m\u001b[92m:\u001b[0m\u001b[30m666\u001b[0m\u001b[30m]\u001b[0m\u001b[1;38;2;131;131;131m - \u001b[0mSaving checkpoint to: \u001b[32m/\u001b[0m\u001b[35mcontent\u001b[0m\n"
            ]
          },
          "metadata": {},
          "output_type": "display_data"
        },
        {
          "data": {
            "text/html": [
              "<pre style=\"white-space:pre;overflow-x:auto;line-height:normal;font-family:Menlo,'DejaVu Sans Mono',consolas,'Courier New',monospace\"><span style=\"color: #000000; text-decoration-color: #000000\">[</span><span style=\"color: #808080; text-decoration-color: #808080\">2024-02-12 19:17:21</span><span style=\"color: #000000; text-decoration-color: #000000\">][</span><span style=\"color: #008000; text-decoration-color: #008000; font-weight: bold\">INFO</span><span style=\"color: #000000; text-decoration-color: #000000\">][</span><span style=\"color: #008080; text-decoration-color: #008080; font-style: italic\">trainer</span><span style=\"color: #00ff00; text-decoration-color: #00ff00\">:</span><span style=\"color: #000000; text-decoration-color: #000000\">667</span><span style=\"color: #000000; text-decoration-color: #000000\">]</span><span style=\"color: #838383; text-decoration-color: #838383; font-weight: bold\"> - </span>Saving model to: <span style=\"color: #008000; text-decoration-color: #008000\">/content/</span><span style=\"color: #800080; text-decoration-color: #800080\">model.pth</span>\n",
              "</pre>\n"
            ],
            "text/plain": [
              "\u001b[30m[\u001b[0m\u001b[90m2024-02-12 \u001b[0m\u001b[90m19:17:21\u001b[0m\u001b[30m]\u001b[0m\u001b[30m[\u001b[0m\u001b[1;32mINFO\u001b[0m\u001b[30m]\u001b[0m\u001b[30m[\u001b[0m\u001b[3;36mtrainer\u001b[0m\u001b[92m:\u001b[0m\u001b[30m667\u001b[0m\u001b[30m]\u001b[0m\u001b[1;38;2;131;131;131m - \u001b[0mSaving model to: \u001b[32m/content/\u001b[0m\u001b[35mmodel.pth\u001b[0m\n"
            ]
          },
          "metadata": {},
          "output_type": "display_data"
        },
        {
          "data": {
            "text/html": [
              "<pre style=\"white-space:pre;overflow-x:auto;line-height:normal;font-family:Menlo,'DejaVu Sans Mono',consolas,'Courier New',monospace\"><span style=\"color: #000000; text-decoration-color: #000000\">[</span><span style=\"color: #808080; text-decoration-color: #808080\">2024-02-12 19:17:22</span><span style=\"color: #000000; text-decoration-color: #000000\">][</span><span style=\"color: #008000; text-decoration-color: #008000; font-weight: bold\">INFO</span><span style=\"color: #000000; text-decoration-color: #000000\">][</span><span style=\"color: #008080; text-decoration-color: #008080; font-style: italic\">configs</span><span style=\"color: #00ff00; text-decoration-color: #00ff00\">:</span><span style=\"color: #000000; text-decoration-color: #000000\">132</span><span style=\"color: #000000; text-decoration-color: #000000\">]</span><span style=\"color: #838383; text-decoration-color: #838383; font-weight: bold\"> - </span>Appending <span style=\"color: #008000; text-decoration-color: #008000\">/</span><span style=\"color: #800080; text-decoration-color: #800080\">content</span> to <span style=\"color: #008000; text-decoration-color: #008000\">/content/wordplay/src/ckpts/</span><span style=\"color: #800080; text-decoration-color: #800080\">checkpoints.log</span>\n",
              "</pre>\n"
            ],
            "text/plain": [
              "\u001b[30m[\u001b[0m\u001b[90m2024-02-12 \u001b[0m\u001b[90m19:17:22\u001b[0m\u001b[30m]\u001b[0m\u001b[30m[\u001b[0m\u001b[1;32mINFO\u001b[0m\u001b[30m]\u001b[0m\u001b[30m[\u001b[0m\u001b[3;36mconfigs\u001b[0m\u001b[92m:\u001b[0m\u001b[30m132\u001b[0m\u001b[30m]\u001b[0m\u001b[1;38;2;131;131;131m - \u001b[0mAppending \u001b[32m/\u001b[0m\u001b[35mcontent\u001b[0m to \u001b[32m/content/wordplay/src/ckpts/\u001b[0m\u001b[35mcheckpoints.log\u001b[0m\n"
            ]
          },
          "metadata": {},
          "output_type": "display_data"
        },
        {
          "name": "stderr",
          "output_type": "stream",
          "text": [
            "  5%|▍         | 49/1000 [00:23<02:17,  6.92it/s]"
          ]
        },
        {
          "data": {
            "text/html": [
              "<pre style=\"white-space:pre;overflow-x:auto;line-height:normal;font-family:Menlo,'DejaVu Sans Mono',consolas,'Courier New',monospace\"><span style=\"color: #000000; text-decoration-color: #000000\">[</span><span style=\"color: #808080; text-decoration-color: #808080\">2024-02-12 19:17:29</span><span style=\"color: #000000; text-decoration-color: #000000\">][</span><span style=\"color: #008000; text-decoration-color: #008000; font-weight: bold\">INFO</span><span style=\"color: #000000; text-decoration-color: #000000\">][</span><span style=\"color: #008080; text-decoration-color: #008080; font-style: italic\">trainer</span><span style=\"color: #00ff00; text-decoration-color: #00ff00\">:</span><span style=\"color: #000000; text-decoration-color: #000000\">768</span><span style=\"color: #000000; text-decoration-color: #000000\">]</span><span style=\"color: #838383; text-decoration-color: #838383; font-weight: bold\"> - </span><span style=\"color: #0000ff; text-decoration-color: #0000ff; font-style: italic\">step</span>=<span style=\"color: #ff00ff; text-decoration-color: #ff00ff\">550</span> <span style=\"color: #0000ff; text-decoration-color: #0000ff; font-style: italic\">loss</span>=<span style=\"color: #ff00ff; text-decoration-color: #ff00ff\">1.5823</span> <span style=\"color: #0000ff; text-decoration-color: #0000ff; font-style: italic\">dt</span>=<span style=\"color: #ff00ff; text-decoration-color: #ff00ff\">143.5156</span> <span style=\"color: #0000ff; text-decoration-color: #0000ff; font-style: italic\">dtf</span>=<span style=\"color: #ff00ff; text-decoration-color: #ff00ff\">11.0557</span> <span style=\"color: #0000ff; text-decoration-color: #0000ff; font-style: italic\">dtb</span>=<span style=\"color: #ff00ff; text-decoration-color: #ff00ff\">15.0485</span> <span style=\"color: #0000ff; text-decoration-color: #0000ff; font-style: italic\">sps</span>=<span style=\"color: #ff00ff; text-decoration-color: #ff00ff\">6.9679</span> <span style=\"color: #0000ff; text-decoration-color: #0000ff; font-style: italic\">mtps</span>=<span style=\"color: #ff00ff; text-decoration-color: #ff00ff\">0.1142</span> <span style=\"color: #0000ff; text-decoration-color: #0000ff; font-style: italic\">mfu</span>=<span style=\"color: #ff00ff; text-decoration-color: #ff00ff\">2.5964</span> <span style=\"color: #0000ff; text-decoration-color: #0000ff; font-style: italic\">train_loss</span>=<span style=\"color: #ff00ff; text-decoration-color: #ff00ff\">1.5309</span> <span style=\"color: #0000ff; text-decoration-color: #0000ff; font-style: italic\">val_loss</span>=<span style=\"color: #ff00ff; text-decoration-color: #ff00ff\">1.6933</span>\n",
              "</pre>\n"
            ],
            "text/plain": [
              "\u001b[30m[\u001b[0m\u001b[90m2024-02-12 \u001b[0m\u001b[90m19:17:29\u001b[0m\u001b[30m]\u001b[0m\u001b[30m[\u001b[0m\u001b[1;32mINFO\u001b[0m\u001b[30m]\u001b[0m\u001b[30m[\u001b[0m\u001b[3;36mtrainer\u001b[0m\u001b[92m:\u001b[0m\u001b[30m768\u001b[0m\u001b[30m]\u001b[0m\u001b[1;38;2;131;131;131m - \u001b[0m\u001b[3;94mstep\u001b[0m=\u001b[95m550\u001b[0m \u001b[3;94mloss\u001b[0m=\u001b[95m1\u001b[0m\u001b[95m.5823\u001b[0m \u001b[3;94mdt\u001b[0m=\u001b[95m143\u001b[0m\u001b[95m.5156\u001b[0m \u001b[3;94mdtf\u001b[0m=\u001b[95m11\u001b[0m\u001b[95m.0557\u001b[0m \u001b[3;94mdtb\u001b[0m=\u001b[95m15\u001b[0m\u001b[95m.0485\u001b[0m \u001b[3;94msps\u001b[0m=\u001b[95m6\u001b[0m\u001b[95m.9679\u001b[0m \u001b[3;94mmtps\u001b[0m=\u001b[95m0\u001b[0m\u001b[95m.1142\u001b[0m \u001b[3;94mmfu\u001b[0m=\u001b[95m2\u001b[0m\u001b[95m.5964\u001b[0m \u001b[3;94mtrain_loss\u001b[0m=\u001b[95m1\u001b[0m\u001b[95m.5309\u001b[0m \u001b[3;94mval_loss\u001b[0m=\u001b[95m1\u001b[0m\u001b[95m.6933\u001b[0m\n"
            ]
          },
          "metadata": {},
          "output_type": "display_data"
        },
        {
          "name": "stderr",
          "output_type": "stream",
          "text": [
            " 10%|▉         | 99/1000 [00:30<02:06,  7.14it/s]"
          ]
        },
        {
          "data": {
            "text/html": [
              "<pre style=\"white-space:pre;overflow-x:auto;line-height:normal;font-family:Menlo,'DejaVu Sans Mono',consolas,'Courier New',monospace\"><span style=\"color: #000000; text-decoration-color: #000000\">[</span><span style=\"color: #808080; text-decoration-color: #808080\">2024-02-12 19:17:36</span><span style=\"color: #000000; text-decoration-color: #000000\">][</span><span style=\"color: #008000; text-decoration-color: #008000; font-weight: bold\">INFO</span><span style=\"color: #000000; text-decoration-color: #000000\">][</span><span style=\"color: #008080; text-decoration-color: #008080; font-style: italic\">trainer</span><span style=\"color: #00ff00; text-decoration-color: #00ff00\">:</span><span style=\"color: #000000; text-decoration-color: #000000\">768</span><span style=\"color: #000000; text-decoration-color: #000000\">]</span><span style=\"color: #838383; text-decoration-color: #838383; font-weight: bold\"> - </span><span style=\"color: #0000ff; text-decoration-color: #0000ff; font-style: italic\">step</span>=<span style=\"color: #ff00ff; text-decoration-color: #ff00ff\">600</span> <span style=\"color: #0000ff; text-decoration-color: #0000ff; font-style: italic\">loss</span>=<span style=\"color: #ff00ff; text-decoration-color: #ff00ff\">1.5164</span> <span style=\"color: #0000ff; text-decoration-color: #0000ff; font-style: italic\">dt</span>=<span style=\"color: #ff00ff; text-decoration-color: #ff00ff\">136.8081</span> <span style=\"color: #0000ff; text-decoration-color: #0000ff; font-style: italic\">dtf</span>=<span style=\"color: #ff00ff; text-decoration-color: #ff00ff\">12.2845</span> <span style=\"color: #0000ff; text-decoration-color: #0000ff; font-style: italic\">dtb</span>=<span style=\"color: #ff00ff; text-decoration-color: #ff00ff\">14.6147</span> <span style=\"color: #0000ff; text-decoration-color: #0000ff; font-style: italic\">sps</span>=<span style=\"color: #ff00ff; text-decoration-color: #ff00ff\">7.3095</span> <span style=\"color: #0000ff; text-decoration-color: #0000ff; font-style: italic\">mtps</span>=<span style=\"color: #ff00ff; text-decoration-color: #ff00ff\">0.1198</span> <span style=\"color: #0000ff; text-decoration-color: #0000ff; font-style: italic\">mfu</span>=<span style=\"color: #ff00ff; text-decoration-color: #ff00ff\">2.6091</span> <span style=\"color: #0000ff; text-decoration-color: #0000ff; font-style: italic\">train_loss</span>=<span style=\"color: #ff00ff; text-decoration-color: #ff00ff\">1.5309</span> <span style=\"color: #0000ff; text-decoration-color: #0000ff; font-style: italic\">val_loss</span>=<span style=\"color: #ff00ff; text-decoration-color: #ff00ff\">1.6933</span>\n",
              "</pre>\n"
            ],
            "text/plain": [
              "\u001b[30m[\u001b[0m\u001b[90m2024-02-12 \u001b[0m\u001b[90m19:17:36\u001b[0m\u001b[30m]\u001b[0m\u001b[30m[\u001b[0m\u001b[1;32mINFO\u001b[0m\u001b[30m]\u001b[0m\u001b[30m[\u001b[0m\u001b[3;36mtrainer\u001b[0m\u001b[92m:\u001b[0m\u001b[30m768\u001b[0m\u001b[30m]\u001b[0m\u001b[1;38;2;131;131;131m - \u001b[0m\u001b[3;94mstep\u001b[0m=\u001b[95m600\u001b[0m \u001b[3;94mloss\u001b[0m=\u001b[95m1\u001b[0m\u001b[95m.5164\u001b[0m \u001b[3;94mdt\u001b[0m=\u001b[95m136\u001b[0m\u001b[95m.8081\u001b[0m \u001b[3;94mdtf\u001b[0m=\u001b[95m12\u001b[0m\u001b[95m.2845\u001b[0m \u001b[3;94mdtb\u001b[0m=\u001b[95m14\u001b[0m\u001b[95m.6147\u001b[0m \u001b[3;94msps\u001b[0m=\u001b[95m7\u001b[0m\u001b[95m.3095\u001b[0m \u001b[3;94mmtps\u001b[0m=\u001b[95m0\u001b[0m\u001b[95m.1198\u001b[0m \u001b[3;94mmfu\u001b[0m=\u001b[95m2\u001b[0m\u001b[95m.6091\u001b[0m \u001b[3;94mtrain_loss\u001b[0m=\u001b[95m1\u001b[0m\u001b[95m.5309\u001b[0m \u001b[3;94mval_loss\u001b[0m=\u001b[95m1\u001b[0m\u001b[95m.6933\u001b[0m\n"
            ]
          },
          "metadata": {},
          "output_type": "display_data"
        },
        {
          "name": "stderr",
          "output_type": "stream",
          "text": [
            " 15%|█▍        | 149/1000 [00:37<01:57,  7.25it/s]"
          ]
        },
        {
          "data": {
            "text/html": [
              "<pre style=\"white-space:pre;overflow-x:auto;line-height:normal;font-family:Menlo,'DejaVu Sans Mono',consolas,'Courier New',monospace\"><span style=\"color: #000000; text-decoration-color: #000000\">[</span><span style=\"color: #808080; text-decoration-color: #808080\">2024-02-12 19:17:43</span><span style=\"color: #000000; text-decoration-color: #000000\">][</span><span style=\"color: #008000; text-decoration-color: #008000; font-weight: bold\">INFO</span><span style=\"color: #000000; text-decoration-color: #000000\">][</span><span style=\"color: #008080; text-decoration-color: #008080; font-style: italic\">trainer</span><span style=\"color: #00ff00; text-decoration-color: #00ff00\">:</span><span style=\"color: #000000; text-decoration-color: #000000\">768</span><span style=\"color: #000000; text-decoration-color: #000000\">]</span><span style=\"color: #838383; text-decoration-color: #838383; font-weight: bold\"> - </span><span style=\"color: #0000ff; text-decoration-color: #0000ff; font-style: italic\">step</span>=<span style=\"color: #ff00ff; text-decoration-color: #ff00ff\">650</span> <span style=\"color: #0000ff; text-decoration-color: #0000ff; font-style: italic\">loss</span>=<span style=\"color: #ff00ff; text-decoration-color: #ff00ff\">1.5225</span> <span style=\"color: #0000ff; text-decoration-color: #0000ff; font-style: italic\">dt</span>=<span style=\"color: #ff00ff; text-decoration-color: #ff00ff\">139.5408</span> <span style=\"color: #0000ff; text-decoration-color: #0000ff; font-style: italic\">dtf</span>=<span style=\"color: #ff00ff; text-decoration-color: #ff00ff\">12.2595</span> <span style=\"color: #0000ff; text-decoration-color: #0000ff; font-style: italic\">dtb</span>=<span style=\"color: #ff00ff; text-decoration-color: #ff00ff\">15.9776</span> <span style=\"color: #0000ff; text-decoration-color: #0000ff; font-style: italic\">sps</span>=<span style=\"color: #ff00ff; text-decoration-color: #ff00ff\">7.1664</span> <span style=\"color: #0000ff; text-decoration-color: #0000ff; font-style: italic\">mtps</span>=<span style=\"color: #ff00ff; text-decoration-color: #ff00ff\">0.1174</span> <span style=\"color: #0000ff; text-decoration-color: #0000ff; font-style: italic\">mfu</span>=<span style=\"color: #ff00ff; text-decoration-color: #ff00ff\">2.6152</span> <span style=\"color: #0000ff; text-decoration-color: #0000ff; font-style: italic\">train_loss</span>=<span style=\"color: #ff00ff; text-decoration-color: #ff00ff\">1.5309</span> <span style=\"color: #0000ff; text-decoration-color: #0000ff; font-style: italic\">val_loss</span>=<span style=\"color: #ff00ff; text-decoration-color: #ff00ff\">1.6933</span>\n",
              "</pre>\n"
            ],
            "text/plain": [
              "\u001b[30m[\u001b[0m\u001b[90m2024-02-12 \u001b[0m\u001b[90m19:17:43\u001b[0m\u001b[30m]\u001b[0m\u001b[30m[\u001b[0m\u001b[1;32mINFO\u001b[0m\u001b[30m]\u001b[0m\u001b[30m[\u001b[0m\u001b[3;36mtrainer\u001b[0m\u001b[92m:\u001b[0m\u001b[30m768\u001b[0m\u001b[30m]\u001b[0m\u001b[1;38;2;131;131;131m - \u001b[0m\u001b[3;94mstep\u001b[0m=\u001b[95m650\u001b[0m \u001b[3;94mloss\u001b[0m=\u001b[95m1\u001b[0m\u001b[95m.5225\u001b[0m \u001b[3;94mdt\u001b[0m=\u001b[95m139\u001b[0m\u001b[95m.5408\u001b[0m \u001b[3;94mdtf\u001b[0m=\u001b[95m12\u001b[0m\u001b[95m.2595\u001b[0m \u001b[3;94mdtb\u001b[0m=\u001b[95m15\u001b[0m\u001b[95m.9776\u001b[0m \u001b[3;94msps\u001b[0m=\u001b[95m7\u001b[0m\u001b[95m.1664\u001b[0m \u001b[3;94mmtps\u001b[0m=\u001b[95m0\u001b[0m\u001b[95m.1174\u001b[0m \u001b[3;94mmfu\u001b[0m=\u001b[95m2\u001b[0m\u001b[95m.6152\u001b[0m \u001b[3;94mtrain_loss\u001b[0m=\u001b[95m1\u001b[0m\u001b[95m.5309\u001b[0m \u001b[3;94mval_loss\u001b[0m=\u001b[95m1\u001b[0m\u001b[95m.6933\u001b[0m\n"
            ]
          },
          "metadata": {},
          "output_type": "display_data"
        },
        {
          "name": "stderr",
          "output_type": "stream",
          "text": [
            " 20%|█▉        | 199/1000 [00:44<01:47,  7.44it/s]"
          ]
        },
        {
          "data": {
            "text/html": [
              "<pre style=\"white-space:pre;overflow-x:auto;line-height:normal;font-family:Menlo,'DejaVu Sans Mono',consolas,'Courier New',monospace\"><span style=\"color: #000000; text-decoration-color: #000000\">[</span><span style=\"color: #808080; text-decoration-color: #808080\">2024-02-12 19:17:50</span><span style=\"color: #000000; text-decoration-color: #000000\">][</span><span style=\"color: #008000; text-decoration-color: #008000; font-weight: bold\">INFO</span><span style=\"color: #000000; text-decoration-color: #000000\">][</span><span style=\"color: #008080; text-decoration-color: #008080; font-style: italic\">trainer</span><span style=\"color: #00ff00; text-decoration-color: #00ff00\">:</span><span style=\"color: #000000; text-decoration-color: #000000\">768</span><span style=\"color: #000000; text-decoration-color: #000000\">]</span><span style=\"color: #838383; text-decoration-color: #838383; font-weight: bold\"> - </span><span style=\"color: #0000ff; text-decoration-color: #0000ff; font-style: italic\">step</span>=<span style=\"color: #ff00ff; text-decoration-color: #ff00ff\">700</span> <span style=\"color: #0000ff; text-decoration-color: #0000ff; font-style: italic\">loss</span>=<span style=\"color: #ff00ff; text-decoration-color: #ff00ff\">1.4552</span> <span style=\"color: #0000ff; text-decoration-color: #0000ff; font-style: italic\">dt</span>=<span style=\"color: #ff00ff; text-decoration-color: #ff00ff\">131.8213</span> <span style=\"color: #0000ff; text-decoration-color: #0000ff; font-style: italic\">dtf</span>=<span style=\"color: #ff00ff; text-decoration-color: #ff00ff\">11.6152</span> <span style=\"color: #0000ff; text-decoration-color: #0000ff; font-style: italic\">dtb</span>=<span style=\"color: #ff00ff; text-decoration-color: #ff00ff\">15.5501</span> <span style=\"color: #0000ff; text-decoration-color: #0000ff; font-style: italic\">sps</span>=<span style=\"color: #ff00ff; text-decoration-color: #ff00ff\">7.5860</span> <span style=\"color: #0000ff; text-decoration-color: #0000ff; font-style: italic\">mtps</span>=<span style=\"color: #ff00ff; text-decoration-color: #ff00ff\">0.1243</span> <span style=\"color: #0000ff; text-decoration-color: #0000ff; font-style: italic\">mfu</span>=<span style=\"color: #ff00ff; text-decoration-color: #ff00ff\">2.6364</span> <span style=\"color: #0000ff; text-decoration-color: #0000ff; font-style: italic\">train_loss</span>=<span style=\"color: #ff00ff; text-decoration-color: #ff00ff\">1.5309</span> <span style=\"color: #0000ff; text-decoration-color: #0000ff; font-style: italic\">val_loss</span>=<span style=\"color: #ff00ff; text-decoration-color: #ff00ff\">1.6933</span>\n",
              "</pre>\n"
            ],
            "text/plain": [
              "\u001b[30m[\u001b[0m\u001b[90m2024-02-12 \u001b[0m\u001b[90m19:17:50\u001b[0m\u001b[30m]\u001b[0m\u001b[30m[\u001b[0m\u001b[1;32mINFO\u001b[0m\u001b[30m]\u001b[0m\u001b[30m[\u001b[0m\u001b[3;36mtrainer\u001b[0m\u001b[92m:\u001b[0m\u001b[30m768\u001b[0m\u001b[30m]\u001b[0m\u001b[1;38;2;131;131;131m - \u001b[0m\u001b[3;94mstep\u001b[0m=\u001b[95m700\u001b[0m \u001b[3;94mloss\u001b[0m=\u001b[95m1\u001b[0m\u001b[95m.4552\u001b[0m \u001b[3;94mdt\u001b[0m=\u001b[95m131\u001b[0m\u001b[95m.8213\u001b[0m \u001b[3;94mdtf\u001b[0m=\u001b[95m11\u001b[0m\u001b[95m.6152\u001b[0m \u001b[3;94mdtb\u001b[0m=\u001b[95m15\u001b[0m\u001b[95m.5501\u001b[0m \u001b[3;94msps\u001b[0m=\u001b[95m7\u001b[0m\u001b[95m.5860\u001b[0m \u001b[3;94mmtps\u001b[0m=\u001b[95m0\u001b[0m\u001b[95m.1243\u001b[0m \u001b[3;94mmfu\u001b[0m=\u001b[95m2\u001b[0m\u001b[95m.6364\u001b[0m \u001b[3;94mtrain_loss\u001b[0m=\u001b[95m1\u001b[0m\u001b[95m.5309\u001b[0m \u001b[3;94mval_loss\u001b[0m=\u001b[95m1\u001b[0m\u001b[95m.6933\u001b[0m\n"
            ]
          },
          "metadata": {},
          "output_type": "display_data"
        },
        {
          "name": "stderr",
          "output_type": "stream",
          "text": [
            " 25%|██▍       | 249/1000 [00:51<01:40,  7.44it/s]"
          ]
        },
        {
          "data": {
            "text/html": [
              "<pre style=\"white-space:pre;overflow-x:auto;line-height:normal;font-family:Menlo,'DejaVu Sans Mono',consolas,'Courier New',monospace\"><span style=\"color: #000000; text-decoration-color: #000000\">[</span><span style=\"color: #808080; text-decoration-color: #808080\">2024-02-12 19:17:56</span><span style=\"color: #000000; text-decoration-color: #000000\">][</span><span style=\"color: #008000; text-decoration-color: #008000; font-weight: bold\">INFO</span><span style=\"color: #000000; text-decoration-color: #000000\">][</span><span style=\"color: #008080; text-decoration-color: #008080; font-style: italic\">trainer</span><span style=\"color: #00ff00; text-decoration-color: #00ff00\">:</span><span style=\"color: #000000; text-decoration-color: #000000\">768</span><span style=\"color: #000000; text-decoration-color: #000000\">]</span><span style=\"color: #838383; text-decoration-color: #838383; font-weight: bold\"> - </span><span style=\"color: #0000ff; text-decoration-color: #0000ff; font-style: italic\">step</span>=<span style=\"color: #ff00ff; text-decoration-color: #ff00ff\">750</span> <span style=\"color: #0000ff; text-decoration-color: #0000ff; font-style: italic\">loss</span>=<span style=\"color: #ff00ff; text-decoration-color: #ff00ff\">1.4313</span> <span style=\"color: #0000ff; text-decoration-color: #0000ff; font-style: italic\">dt</span>=<span style=\"color: #ff00ff; text-decoration-color: #ff00ff\">136.1034</span> <span style=\"color: #0000ff; text-decoration-color: #0000ff; font-style: italic\">dtf</span>=<span style=\"color: #ff00ff; text-decoration-color: #ff00ff\">11.7845</span> <span style=\"color: #0000ff; text-decoration-color: #0000ff; font-style: italic\">dtb</span>=<span style=\"color: #ff00ff; text-decoration-color: #ff00ff\">16.1857</span> <span style=\"color: #0000ff; text-decoration-color: #0000ff; font-style: italic\">sps</span>=<span style=\"color: #ff00ff; text-decoration-color: #ff00ff\">7.3474</span> <span style=\"color: #0000ff; text-decoration-color: #0000ff; font-style: italic\">mtps</span>=<span style=\"color: #ff00ff; text-decoration-color: #ff00ff\">0.1204</span> <span style=\"color: #0000ff; text-decoration-color: #0000ff; font-style: italic\">mfu</span>=<span style=\"color: #ff00ff; text-decoration-color: #ff00ff\">2.6465</span> <span style=\"color: #0000ff; text-decoration-color: #0000ff; font-style: italic\">train_loss</span>=<span style=\"color: #ff00ff; text-decoration-color: #ff00ff\">1.5309</span> <span style=\"color: #0000ff; text-decoration-color: #0000ff; font-style: italic\">val_loss</span>=<span style=\"color: #ff00ff; text-decoration-color: #ff00ff\">1.6933</span>\n",
              "</pre>\n"
            ],
            "text/plain": [
              "\u001b[30m[\u001b[0m\u001b[90m2024-02-12 \u001b[0m\u001b[90m19:17:56\u001b[0m\u001b[30m]\u001b[0m\u001b[30m[\u001b[0m\u001b[1;32mINFO\u001b[0m\u001b[30m]\u001b[0m\u001b[30m[\u001b[0m\u001b[3;36mtrainer\u001b[0m\u001b[92m:\u001b[0m\u001b[30m768\u001b[0m\u001b[30m]\u001b[0m\u001b[1;38;2;131;131;131m - \u001b[0m\u001b[3;94mstep\u001b[0m=\u001b[95m750\u001b[0m \u001b[3;94mloss\u001b[0m=\u001b[95m1\u001b[0m\u001b[95m.4313\u001b[0m \u001b[3;94mdt\u001b[0m=\u001b[95m136\u001b[0m\u001b[95m.1034\u001b[0m \u001b[3;94mdtf\u001b[0m=\u001b[95m11\u001b[0m\u001b[95m.7845\u001b[0m \u001b[3;94mdtb\u001b[0m=\u001b[95m16\u001b[0m\u001b[95m.1857\u001b[0m \u001b[3;94msps\u001b[0m=\u001b[95m7\u001b[0m\u001b[95m.3474\u001b[0m \u001b[3;94mmtps\u001b[0m=\u001b[95m0\u001b[0m\u001b[95m.1204\u001b[0m \u001b[3;94mmfu\u001b[0m=\u001b[95m2\u001b[0m\u001b[95m.6465\u001b[0m \u001b[3;94mtrain_loss\u001b[0m=\u001b[95m1\u001b[0m\u001b[95m.5309\u001b[0m \u001b[3;94mval_loss\u001b[0m=\u001b[95m1\u001b[0m\u001b[95m.6933\u001b[0m\n"
            ]
          },
          "metadata": {},
          "output_type": "display_data"
        },
        {
          "name": "stderr",
          "output_type": "stream",
          "text": [
            " 30%|██▉       | 299/1000 [00:57<01:33,  7.53it/s]"
          ]
        },
        {
          "data": {
            "text/html": [
              "<pre style=\"white-space:pre;overflow-x:auto;line-height:normal;font-family:Menlo,'DejaVu Sans Mono',consolas,'Courier New',monospace\"><span style=\"color: #000000; text-decoration-color: #000000\">[</span><span style=\"color: #808080; text-decoration-color: #808080\">2024-02-12 19:18:03</span><span style=\"color: #000000; text-decoration-color: #000000\">][</span><span style=\"color: #008000; text-decoration-color: #008000; font-weight: bold\">INFO</span><span style=\"color: #000000; text-decoration-color: #000000\">][</span><span style=\"color: #008080; text-decoration-color: #008080; font-style: italic\">trainer</span><span style=\"color: #00ff00; text-decoration-color: #00ff00\">:</span><span style=\"color: #000000; text-decoration-color: #000000\">768</span><span style=\"color: #000000; text-decoration-color: #000000\">]</span><span style=\"color: #838383; text-decoration-color: #838383; font-weight: bold\"> - </span><span style=\"color: #0000ff; text-decoration-color: #0000ff; font-style: italic\">step</span>=<span style=\"color: #ff00ff; text-decoration-color: #ff00ff\">800</span> <span style=\"color: #0000ff; text-decoration-color: #0000ff; font-style: italic\">loss</span>=<span style=\"color: #ff00ff; text-decoration-color: #ff00ff\">1.4392</span> <span style=\"color: #0000ff; text-decoration-color: #0000ff; font-style: italic\">dt</span>=<span style=\"color: #ff00ff; text-decoration-color: #ff00ff\">131.1769</span> <span style=\"color: #0000ff; text-decoration-color: #0000ff; font-style: italic\">dtf</span>=<span style=\"color: #ff00ff; text-decoration-color: #ff00ff\">15.3257</span> <span style=\"color: #0000ff; text-decoration-color: #0000ff; font-style: italic\">dtb</span>=<span style=\"color: #ff00ff; text-decoration-color: #ff00ff\">25.9058</span> <span style=\"color: #0000ff; text-decoration-color: #0000ff; font-style: italic\">sps</span>=<span style=\"color: #ff00ff; text-decoration-color: #ff00ff\">7.6233</span> <span style=\"color: #0000ff; text-decoration-color: #0000ff; font-style: italic\">mtps</span>=<span style=\"color: #ff00ff; text-decoration-color: #ff00ff\">0.1249</span> <span style=\"color: #0000ff; text-decoration-color: #0000ff; font-style: italic\">mfu</span>=<span style=\"color: #ff00ff; text-decoration-color: #ff00ff\">2.6659</span> <span style=\"color: #0000ff; text-decoration-color: #0000ff; font-style: italic\">train_loss</span>=<span style=\"color: #ff00ff; text-decoration-color: #ff00ff\">1.5309</span> <span style=\"color: #0000ff; text-decoration-color: #0000ff; font-style: italic\">val_loss</span>=<span style=\"color: #ff00ff; text-decoration-color: #ff00ff\">1.6933</span>\n",
              "</pre>\n"
            ],
            "text/plain": [
              "\u001b[30m[\u001b[0m\u001b[90m2024-02-12 \u001b[0m\u001b[90m19:18:03\u001b[0m\u001b[30m]\u001b[0m\u001b[30m[\u001b[0m\u001b[1;32mINFO\u001b[0m\u001b[30m]\u001b[0m\u001b[30m[\u001b[0m\u001b[3;36mtrainer\u001b[0m\u001b[92m:\u001b[0m\u001b[30m768\u001b[0m\u001b[30m]\u001b[0m\u001b[1;38;2;131;131;131m - \u001b[0m\u001b[3;94mstep\u001b[0m=\u001b[95m800\u001b[0m \u001b[3;94mloss\u001b[0m=\u001b[95m1\u001b[0m\u001b[95m.4392\u001b[0m \u001b[3;94mdt\u001b[0m=\u001b[95m131\u001b[0m\u001b[95m.1769\u001b[0m \u001b[3;94mdtf\u001b[0m=\u001b[95m15\u001b[0m\u001b[95m.3257\u001b[0m \u001b[3;94mdtb\u001b[0m=\u001b[95m25\u001b[0m\u001b[95m.9058\u001b[0m \u001b[3;94msps\u001b[0m=\u001b[95m7\u001b[0m\u001b[95m.6233\u001b[0m \u001b[3;94mmtps\u001b[0m=\u001b[95m0\u001b[0m\u001b[95m.1249\u001b[0m \u001b[3;94mmfu\u001b[0m=\u001b[95m2\u001b[0m\u001b[95m.6659\u001b[0m \u001b[3;94mtrain_loss\u001b[0m=\u001b[95m1\u001b[0m\u001b[95m.5309\u001b[0m \u001b[3;94mval_loss\u001b[0m=\u001b[95m1\u001b[0m\u001b[95m.6933\u001b[0m\n"
            ]
          },
          "metadata": {},
          "output_type": "display_data"
        },
        {
          "name": "stderr",
          "output_type": "stream",
          "text": [
            " 35%|███▍      | 349/1000 [01:04<01:26,  7.49it/s]"
          ]
        },
        {
          "data": {
            "text/html": [
              "<pre style=\"white-space:pre;overflow-x:auto;line-height:normal;font-family:Menlo,'DejaVu Sans Mono',consolas,'Courier New',monospace\"><span style=\"color: #000000; text-decoration-color: #000000\">[</span><span style=\"color: #808080; text-decoration-color: #808080\">2024-02-12 19:18:10</span><span style=\"color: #000000; text-decoration-color: #000000\">][</span><span style=\"color: #008000; text-decoration-color: #008000; font-weight: bold\">INFO</span><span style=\"color: #000000; text-decoration-color: #000000\">][</span><span style=\"color: #008080; text-decoration-color: #008080; font-style: italic\">trainer</span><span style=\"color: #00ff00; text-decoration-color: #00ff00\">:</span><span style=\"color: #000000; text-decoration-color: #000000\">768</span><span style=\"color: #000000; text-decoration-color: #000000\">]</span><span style=\"color: #838383; text-decoration-color: #838383; font-weight: bold\"> - </span><span style=\"color: #0000ff; text-decoration-color: #0000ff; font-style: italic\">step</span>=<span style=\"color: #ff00ff; text-decoration-color: #ff00ff\">850</span> <span style=\"color: #0000ff; text-decoration-color: #0000ff; font-style: italic\">loss</span>=<span style=\"color: #ff00ff; text-decoration-color: #ff00ff\">1.4259</span> <span style=\"color: #0000ff; text-decoration-color: #0000ff; font-style: italic\">dt</span>=<span style=\"color: #ff00ff; text-decoration-color: #ff00ff\">137.9271</span> <span style=\"color: #0000ff; text-decoration-color: #0000ff; font-style: italic\">dtf</span>=<span style=\"color: #ff00ff; text-decoration-color: #ff00ff\">15.5149</span> <span style=\"color: #0000ff; text-decoration-color: #0000ff; font-style: italic\">dtb</span>=<span style=\"color: #ff00ff; text-decoration-color: #ff00ff\">14.4863</span> <span style=\"color: #0000ff; text-decoration-color: #0000ff; font-style: italic\">sps</span>=<span style=\"color: #ff00ff; text-decoration-color: #ff00ff\">7.2502</span> <span style=\"color: #0000ff; text-decoration-color: #0000ff; font-style: italic\">mtps</span>=<span style=\"color: #ff00ff; text-decoration-color: #ff00ff\">0.1188</span> <span style=\"color: #0000ff; text-decoration-color: #0000ff; font-style: italic\">mfu</span>=<span style=\"color: #ff00ff; text-decoration-color: #ff00ff\">2.6695</span> <span style=\"color: #0000ff; text-decoration-color: #0000ff; font-style: italic\">train_loss</span>=<span style=\"color: #ff00ff; text-decoration-color: #ff00ff\">1.5309</span> <span style=\"color: #0000ff; text-decoration-color: #0000ff; font-style: italic\">val_loss</span>=<span style=\"color: #ff00ff; text-decoration-color: #ff00ff\">1.6933</span>\n",
              "</pre>\n"
            ],
            "text/plain": [
              "\u001b[30m[\u001b[0m\u001b[90m2024-02-12 \u001b[0m\u001b[90m19:18:10\u001b[0m\u001b[30m]\u001b[0m\u001b[30m[\u001b[0m\u001b[1;32mINFO\u001b[0m\u001b[30m]\u001b[0m\u001b[30m[\u001b[0m\u001b[3;36mtrainer\u001b[0m\u001b[92m:\u001b[0m\u001b[30m768\u001b[0m\u001b[30m]\u001b[0m\u001b[1;38;2;131;131;131m - \u001b[0m\u001b[3;94mstep\u001b[0m=\u001b[95m850\u001b[0m \u001b[3;94mloss\u001b[0m=\u001b[95m1\u001b[0m\u001b[95m.4259\u001b[0m \u001b[3;94mdt\u001b[0m=\u001b[95m137\u001b[0m\u001b[95m.9271\u001b[0m \u001b[3;94mdtf\u001b[0m=\u001b[95m15\u001b[0m\u001b[95m.5149\u001b[0m \u001b[3;94mdtb\u001b[0m=\u001b[95m14\u001b[0m\u001b[95m.4863\u001b[0m \u001b[3;94msps\u001b[0m=\u001b[95m7\u001b[0m\u001b[95m.2502\u001b[0m \u001b[3;94mmtps\u001b[0m=\u001b[95m0\u001b[0m\u001b[95m.1188\u001b[0m \u001b[3;94mmfu\u001b[0m=\u001b[95m2\u001b[0m\u001b[95m.6695\u001b[0m \u001b[3;94mtrain_loss\u001b[0m=\u001b[95m1\u001b[0m\u001b[95m.5309\u001b[0m \u001b[3;94mval_loss\u001b[0m=\u001b[95m1\u001b[0m\u001b[95m.6933\u001b[0m\n"
            ]
          },
          "metadata": {},
          "output_type": "display_data"
        },
        {
          "name": "stderr",
          "output_type": "stream",
          "text": [
            " 40%|███▉      | 399/1000 [01:11<01:21,  7.38it/s]"
          ]
        },
        {
          "data": {
            "text/html": [
              "<pre style=\"white-space:pre;overflow-x:auto;line-height:normal;font-family:Menlo,'DejaVu Sans Mono',consolas,'Courier New',monospace\"><span style=\"color: #000000; text-decoration-color: #000000\">[</span><span style=\"color: #808080; text-decoration-color: #808080\">2024-02-12 19:18:17</span><span style=\"color: #000000; text-decoration-color: #000000\">][</span><span style=\"color: #008000; text-decoration-color: #008000; font-weight: bold\">INFO</span><span style=\"color: #000000; text-decoration-color: #000000\">][</span><span style=\"color: #008080; text-decoration-color: #008080; font-style: italic\">trainer</span><span style=\"color: #00ff00; text-decoration-color: #00ff00\">:</span><span style=\"color: #000000; text-decoration-color: #000000\">768</span><span style=\"color: #000000; text-decoration-color: #000000\">]</span><span style=\"color: #838383; text-decoration-color: #838383; font-weight: bold\"> - </span><span style=\"color: #0000ff; text-decoration-color: #0000ff; font-style: italic\">step</span>=<span style=\"color: #ff00ff; text-decoration-color: #ff00ff\">900</span> <span style=\"color: #0000ff; text-decoration-color: #0000ff; font-style: italic\">loss</span>=<span style=\"color: #ff00ff; text-decoration-color: #ff00ff\">1.3838</span> <span style=\"color: #0000ff; text-decoration-color: #0000ff; font-style: italic\">dt</span>=<span style=\"color: #ff00ff; text-decoration-color: #ff00ff\">134.7191</span> <span style=\"color: #0000ff; text-decoration-color: #0000ff; font-style: italic\">dtf</span>=<span style=\"color: #ff00ff; text-decoration-color: #ff00ff\">18.6602</span> <span style=\"color: #0000ff; text-decoration-color: #0000ff; font-style: italic\">dtb</span>=<span style=\"color: #ff00ff; text-decoration-color: #ff00ff\">24.1472</span> <span style=\"color: #0000ff; text-decoration-color: #0000ff; font-style: italic\">sps</span>=<span style=\"color: #ff00ff; text-decoration-color: #ff00ff\">7.4228</span> <span style=\"color: #0000ff; text-decoration-color: #0000ff; font-style: italic\">mtps</span>=<span style=\"color: #ff00ff; text-decoration-color: #ff00ff\">0.1216</span> <span style=\"color: #0000ff; text-decoration-color: #0000ff; font-style: italic\">mfu</span>=<span style=\"color: #ff00ff; text-decoration-color: #ff00ff\">2.6792</span> <span style=\"color: #0000ff; text-decoration-color: #0000ff; font-style: italic\">train_loss</span>=<span style=\"color: #ff00ff; text-decoration-color: #ff00ff\">1.5309</span> <span style=\"color: #0000ff; text-decoration-color: #0000ff; font-style: italic\">val_loss</span>=<span style=\"color: #ff00ff; text-decoration-color: #ff00ff\">1.6933</span>\n",
              "</pre>\n"
            ],
            "text/plain": [
              "\u001b[30m[\u001b[0m\u001b[90m2024-02-12 \u001b[0m\u001b[90m19:18:17\u001b[0m\u001b[30m]\u001b[0m\u001b[30m[\u001b[0m\u001b[1;32mINFO\u001b[0m\u001b[30m]\u001b[0m\u001b[30m[\u001b[0m\u001b[3;36mtrainer\u001b[0m\u001b[92m:\u001b[0m\u001b[30m768\u001b[0m\u001b[30m]\u001b[0m\u001b[1;38;2;131;131;131m - \u001b[0m\u001b[3;94mstep\u001b[0m=\u001b[95m900\u001b[0m \u001b[3;94mloss\u001b[0m=\u001b[95m1\u001b[0m\u001b[95m.3838\u001b[0m \u001b[3;94mdt\u001b[0m=\u001b[95m134\u001b[0m\u001b[95m.7191\u001b[0m \u001b[3;94mdtf\u001b[0m=\u001b[95m18\u001b[0m\u001b[95m.6602\u001b[0m \u001b[3;94mdtb\u001b[0m=\u001b[95m24\u001b[0m\u001b[95m.1472\u001b[0m \u001b[3;94msps\u001b[0m=\u001b[95m7\u001b[0m\u001b[95m.4228\u001b[0m \u001b[3;94mmtps\u001b[0m=\u001b[95m0\u001b[0m\u001b[95m.1216\u001b[0m \u001b[3;94mmfu\u001b[0m=\u001b[95m2\u001b[0m\u001b[95m.6792\u001b[0m \u001b[3;94mtrain_loss\u001b[0m=\u001b[95m1\u001b[0m\u001b[95m.5309\u001b[0m \u001b[3;94mval_loss\u001b[0m=\u001b[95m1\u001b[0m\u001b[95m.6933\u001b[0m\n"
            ]
          },
          "metadata": {},
          "output_type": "display_data"
        },
        {
          "name": "stderr",
          "output_type": "stream",
          "text": [
            " 45%|████▍     | 449/1000 [01:18<01:15,  7.33it/s]"
          ]
        },
        {
          "data": {
            "text/html": [
              "<pre style=\"white-space:pre;overflow-x:auto;line-height:normal;font-family:Menlo,'DejaVu Sans Mono',consolas,'Courier New',monospace\"><span style=\"color: #000000; text-decoration-color: #000000\">[</span><span style=\"color: #808080; text-decoration-color: #808080\">2024-02-12 19:18:23</span><span style=\"color: #000000; text-decoration-color: #000000\">][</span><span style=\"color: #008000; text-decoration-color: #008000; font-weight: bold\">INFO</span><span style=\"color: #000000; text-decoration-color: #000000\">][</span><span style=\"color: #008080; text-decoration-color: #008080; font-style: italic\">trainer</span><span style=\"color: #00ff00; text-decoration-color: #00ff00\">:</span><span style=\"color: #000000; text-decoration-color: #000000\">768</span><span style=\"color: #000000; text-decoration-color: #000000\">]</span><span style=\"color: #838383; text-decoration-color: #838383; font-weight: bold\"> - </span><span style=\"color: #0000ff; text-decoration-color: #0000ff; font-style: italic\">step</span>=<span style=\"color: #ff00ff; text-decoration-color: #ff00ff\">950</span> <span style=\"color: #0000ff; text-decoration-color: #0000ff; font-style: italic\">loss</span>=<span style=\"color: #ff00ff; text-decoration-color: #ff00ff\">1.3497</span> <span style=\"color: #0000ff; text-decoration-color: #0000ff; font-style: italic\">dt</span>=<span style=\"color: #ff00ff; text-decoration-color: #ff00ff\">136.7296</span> <span style=\"color: #0000ff; text-decoration-color: #0000ff; font-style: italic\">dtf</span>=<span style=\"color: #ff00ff; text-decoration-color: #ff00ff\">13.0392</span> <span style=\"color: #0000ff; text-decoration-color: #0000ff; font-style: italic\">dtb</span>=<span style=\"color: #ff00ff; text-decoration-color: #ff00ff\">15.6398</span> <span style=\"color: #0000ff; text-decoration-color: #0000ff; font-style: italic\">sps</span>=<span style=\"color: #ff00ff; text-decoration-color: #ff00ff\">7.3137</span> <span style=\"color: #0000ff; text-decoration-color: #0000ff; font-style: italic\">mtps</span>=<span style=\"color: #ff00ff; text-decoration-color: #ff00ff\">0.1198</span> <span style=\"color: #0000ff; text-decoration-color: #0000ff; font-style: italic\">mfu</span>=<span style=\"color: #ff00ff; text-decoration-color: #ff00ff\">2.6838</span> <span style=\"color: #0000ff; text-decoration-color: #0000ff; font-style: italic\">train_loss</span>=<span style=\"color: #ff00ff; text-decoration-color: #ff00ff\">1.5309</span> <span style=\"color: #0000ff; text-decoration-color: #0000ff; font-style: italic\">val_loss</span>=<span style=\"color: #ff00ff; text-decoration-color: #ff00ff\">1.6933</span>\n",
              "</pre>\n"
            ],
            "text/plain": [
              "\u001b[30m[\u001b[0m\u001b[90m2024-02-12 \u001b[0m\u001b[90m19:18:23\u001b[0m\u001b[30m]\u001b[0m\u001b[30m[\u001b[0m\u001b[1;32mINFO\u001b[0m\u001b[30m]\u001b[0m\u001b[30m[\u001b[0m\u001b[3;36mtrainer\u001b[0m\u001b[92m:\u001b[0m\u001b[30m768\u001b[0m\u001b[30m]\u001b[0m\u001b[1;38;2;131;131;131m - \u001b[0m\u001b[3;94mstep\u001b[0m=\u001b[95m950\u001b[0m \u001b[3;94mloss\u001b[0m=\u001b[95m1\u001b[0m\u001b[95m.3497\u001b[0m \u001b[3;94mdt\u001b[0m=\u001b[95m136\u001b[0m\u001b[95m.7296\u001b[0m \u001b[3;94mdtf\u001b[0m=\u001b[95m13\u001b[0m\u001b[95m.0392\u001b[0m \u001b[3;94mdtb\u001b[0m=\u001b[95m15\u001b[0m\u001b[95m.6398\u001b[0m \u001b[3;94msps\u001b[0m=\u001b[95m7\u001b[0m\u001b[95m.3137\u001b[0m \u001b[3;94mmtps\u001b[0m=\u001b[95m0\u001b[0m\u001b[95m.1198\u001b[0m \u001b[3;94mmfu\u001b[0m=\u001b[95m2\u001b[0m\u001b[95m.6838\u001b[0m \u001b[3;94mtrain_loss\u001b[0m=\u001b[95m1\u001b[0m\u001b[95m.5309\u001b[0m \u001b[3;94mval_loss\u001b[0m=\u001b[95m1\u001b[0m\u001b[95m.6933\u001b[0m\n"
            ]
          },
          "metadata": {},
          "output_type": "display_data"
        },
        {
          "name": "stderr",
          "output_type": "stream",
          "text": [
            " 50%|████▉     | 499/1000 [01:24<01:08,  7.36it/s]"
          ]
        },
        {
          "data": {
            "text/html": [
              "<pre style=\"white-space:pre;overflow-x:auto;line-height:normal;font-family:Menlo,'DejaVu Sans Mono',consolas,'Courier New',monospace\"><span style=\"color: #000000; text-decoration-color: #000000\">[</span><span style=\"color: #808080; text-decoration-color: #808080\">2024-02-12 19:18:30</span><span style=\"color: #000000; text-decoration-color: #000000\">][</span><span style=\"color: #008000; text-decoration-color: #008000; font-weight: bold\">INFO</span><span style=\"color: #000000; text-decoration-color: #000000\">][</span><span style=\"color: #008080; text-decoration-color: #008080; font-style: italic\">trainer</span><span style=\"color: #00ff00; text-decoration-color: #00ff00\">:</span><span style=\"color: #000000; text-decoration-color: #000000\">768</span><span style=\"color: #000000; text-decoration-color: #000000\">]</span><span style=\"color: #838383; text-decoration-color: #838383; font-weight: bold\"> - </span><span style=\"color: #0000ff; text-decoration-color: #0000ff; font-style: italic\">step</span>=<span style=\"color: #ff00ff; text-decoration-color: #ff00ff\">1000</span> <span style=\"color: #0000ff; text-decoration-color: #0000ff; font-style: italic\">loss</span>=<span style=\"color: #ff00ff; text-decoration-color: #ff00ff\">1.3486</span> <span style=\"color: #0000ff; text-decoration-color: #0000ff; font-style: italic\">dt</span>=<span style=\"color: #ff00ff; text-decoration-color: #ff00ff\">137.1947</span> <span style=\"color: #0000ff; text-decoration-color: #0000ff; font-style: italic\">dtf</span>=<span style=\"color: #ff00ff; text-decoration-color: #ff00ff\">11.7734</span> <span style=\"color: #0000ff; text-decoration-color: #0000ff; font-style: italic\">dtb</span>=<span style=\"color: #ff00ff; text-decoration-color: #ff00ff\">15.7095</span> <span style=\"color: #0000ff; text-decoration-color: #0000ff; font-style: italic\">sps</span>=<span style=\"color: #ff00ff; text-decoration-color: #ff00ff\">7.2889</span> <span style=\"color: #0000ff; text-decoration-color: #0000ff; font-style: italic\">mtps</span>=<span style=\"color: #ff00ff; text-decoration-color: #ff00ff\">0.1194</span> <span style=\"color: #0000ff; text-decoration-color: #0000ff; font-style: italic\">mfu</span>=<span style=\"color: #ff00ff; text-decoration-color: #ff00ff\">2.6870</span> <span style=\"color: #0000ff; text-decoration-color: #0000ff; font-style: italic\">train_loss</span>=<span style=\"color: #ff00ff; text-decoration-color: #ff00ff\">1.5309</span> <span style=\"color: #0000ff; text-decoration-color: #0000ff; font-style: italic\">val_loss</span>=<span style=\"color: #ff00ff; text-decoration-color: #ff00ff\">1.6933</span>\n",
              "</pre>\n"
            ],
            "text/plain": [
              "\u001b[30m[\u001b[0m\u001b[90m2024-02-12 \u001b[0m\u001b[90m19:18:30\u001b[0m\u001b[30m]\u001b[0m\u001b[30m[\u001b[0m\u001b[1;32mINFO\u001b[0m\u001b[30m]\u001b[0m\u001b[30m[\u001b[0m\u001b[3;36mtrainer\u001b[0m\u001b[92m:\u001b[0m\u001b[30m768\u001b[0m\u001b[30m]\u001b[0m\u001b[1;38;2;131;131;131m - \u001b[0m\u001b[3;94mstep\u001b[0m=\u001b[95m1000\u001b[0m \u001b[3;94mloss\u001b[0m=\u001b[95m1\u001b[0m\u001b[95m.3486\u001b[0m \u001b[3;94mdt\u001b[0m=\u001b[95m137\u001b[0m\u001b[95m.1947\u001b[0m \u001b[3;94mdtf\u001b[0m=\u001b[95m11\u001b[0m\u001b[95m.7734\u001b[0m \u001b[3;94mdtb\u001b[0m=\u001b[95m15\u001b[0m\u001b[95m.7095\u001b[0m \u001b[3;94msps\u001b[0m=\u001b[95m7\u001b[0m\u001b[95m.2889\u001b[0m \u001b[3;94mmtps\u001b[0m=\u001b[95m0\u001b[0m\u001b[95m.1194\u001b[0m \u001b[3;94mmfu\u001b[0m=\u001b[95m2\u001b[0m\u001b[95m.6870\u001b[0m \u001b[3;94mtrain_loss\u001b[0m=\u001b[95m1\u001b[0m\u001b[95m.5309\u001b[0m \u001b[3;94mval_loss\u001b[0m=\u001b[95m1\u001b[0m\u001b[95m.6933\u001b[0m\n"
            ]
          },
          "metadata": {},
          "output_type": "display_data"
        },
        {
          "name": "stderr",
          "output_type": "stream",
          "text": [
            "\r",
            " 50%|█████     | 500/1000 [01:25<01:08,  7.29it/s]"
          ]
        },
        {
          "data": {
            "text/html": [
              "<pre style=\"white-space:pre;overflow-x:auto;line-height:normal;font-family:Menlo,'DejaVu Sans Mono',consolas,'Courier New',monospace\"><span style=\"color: #000000; text-decoration-color: #000000\">[</span><span style=\"color: #808080; text-decoration-color: #808080\">2024-02-12 19:18:46</span><span style=\"color: #000000; text-decoration-color: #000000\">][</span><span style=\"color: #008000; text-decoration-color: #008000; font-weight: bold\">INFO</span><span style=\"color: #000000; text-decoration-color: #000000\">][</span><span style=\"color: #008080; text-decoration-color: #008080; font-style: italic\">trainer</span><span style=\"color: #00ff00; text-decoration-color: #00ff00\">:</span><span style=\"color: #000000; text-decoration-color: #000000\">666</span><span style=\"color: #000000; text-decoration-color: #000000\">]</span><span style=\"color: #838383; text-decoration-color: #838383; font-weight: bold\"> - </span>Saving checkpoint to: <span style=\"color: #008000; text-decoration-color: #008000\">/</span><span style=\"color: #800080; text-decoration-color: #800080\">content</span>\n",
              "</pre>\n"
            ],
            "text/plain": [
              "\u001b[30m[\u001b[0m\u001b[90m2024-02-12 \u001b[0m\u001b[90m19:18:46\u001b[0m\u001b[30m]\u001b[0m\u001b[30m[\u001b[0m\u001b[1;32mINFO\u001b[0m\u001b[30m]\u001b[0m\u001b[30m[\u001b[0m\u001b[3;36mtrainer\u001b[0m\u001b[92m:\u001b[0m\u001b[30m666\u001b[0m\u001b[30m]\u001b[0m\u001b[1;38;2;131;131;131m - \u001b[0mSaving checkpoint to: \u001b[32m/\u001b[0m\u001b[35mcontent\u001b[0m\n"
            ]
          },
          "metadata": {},
          "output_type": "display_data"
        },
        {
          "data": {
            "text/html": [
              "<pre style=\"white-space:pre;overflow-x:auto;line-height:normal;font-family:Menlo,'DejaVu Sans Mono',consolas,'Courier New',monospace\"><span style=\"color: #000000; text-decoration-color: #000000\">[</span><span style=\"color: #808080; text-decoration-color: #808080\">2024-02-12 19:18:46</span><span style=\"color: #000000; text-decoration-color: #000000\">][</span><span style=\"color: #008000; text-decoration-color: #008000; font-weight: bold\">INFO</span><span style=\"color: #000000; text-decoration-color: #000000\">][</span><span style=\"color: #008080; text-decoration-color: #008080; font-style: italic\">trainer</span><span style=\"color: #00ff00; text-decoration-color: #00ff00\">:</span><span style=\"color: #000000; text-decoration-color: #000000\">667</span><span style=\"color: #000000; text-decoration-color: #000000\">]</span><span style=\"color: #838383; text-decoration-color: #838383; font-weight: bold\"> - </span>Saving model to: <span style=\"color: #008000; text-decoration-color: #008000\">/content/</span><span style=\"color: #800080; text-decoration-color: #800080\">model.pth</span>\n",
              "</pre>\n"
            ],
            "text/plain": [
              "\u001b[30m[\u001b[0m\u001b[90m2024-02-12 \u001b[0m\u001b[90m19:18:46\u001b[0m\u001b[30m]\u001b[0m\u001b[30m[\u001b[0m\u001b[1;32mINFO\u001b[0m\u001b[30m]\u001b[0m\u001b[30m[\u001b[0m\u001b[3;36mtrainer\u001b[0m\u001b[92m:\u001b[0m\u001b[30m667\u001b[0m\u001b[30m]\u001b[0m\u001b[1;38;2;131;131;131m - \u001b[0mSaving model to: \u001b[32m/content/\u001b[0m\u001b[35mmodel.pth\u001b[0m\n"
            ]
          },
          "metadata": {},
          "output_type": "display_data"
        },
        {
          "data": {
            "text/html": [
              "<pre style=\"white-space:pre;overflow-x:auto;line-height:normal;font-family:Menlo,'DejaVu Sans Mono',consolas,'Courier New',monospace\"><span style=\"color: #000000; text-decoration-color: #000000\">[</span><span style=\"color: #808080; text-decoration-color: #808080\">2024-02-12 19:18:47</span><span style=\"color: #000000; text-decoration-color: #000000\">][</span><span style=\"color: #008000; text-decoration-color: #008000; font-weight: bold\">INFO</span><span style=\"color: #000000; text-decoration-color: #000000\">][</span><span style=\"color: #008080; text-decoration-color: #008080; font-style: italic\">configs</span><span style=\"color: #00ff00; text-decoration-color: #00ff00\">:</span><span style=\"color: #000000; text-decoration-color: #000000\">132</span><span style=\"color: #000000; text-decoration-color: #000000\">]</span><span style=\"color: #838383; text-decoration-color: #838383; font-weight: bold\"> - </span>Appending <span style=\"color: #008000; text-decoration-color: #008000\">/</span><span style=\"color: #800080; text-decoration-color: #800080\">content</span> to <span style=\"color: #008000; text-decoration-color: #008000\">/content/wordplay/src/ckpts/</span><span style=\"color: #800080; text-decoration-color: #800080\">checkpoints.log</span>\n",
              "</pre>\n"
            ],
            "text/plain": [
              "\u001b[30m[\u001b[0m\u001b[90m2024-02-12 \u001b[0m\u001b[90m19:18:47\u001b[0m\u001b[30m]\u001b[0m\u001b[30m[\u001b[0m\u001b[1;32mINFO\u001b[0m\u001b[30m]\u001b[0m\u001b[30m[\u001b[0m\u001b[3;36mconfigs\u001b[0m\u001b[92m:\u001b[0m\u001b[30m132\u001b[0m\u001b[30m]\u001b[0m\u001b[1;38;2;131;131;131m - \u001b[0mAppending \u001b[32m/\u001b[0m\u001b[35mcontent\u001b[0m to \u001b[32m/content/wordplay/src/ckpts/\u001b[0m\u001b[35mcheckpoints.log\u001b[0m\n"
            ]
          },
          "metadata": {},
          "output_type": "display_data"
        },
        {
          "name": "stderr",
          "output_type": "stream",
          "text": [
            " 55%|█████▍    | 549/1000 [01:48<01:03,  7.15it/s]"
          ]
        },
        {
          "data": {
            "text/html": [
              "<pre style=\"white-space:pre;overflow-x:auto;line-height:normal;font-family:Menlo,'DejaVu Sans Mono',consolas,'Courier New',monospace\"><span style=\"color: #000000; text-decoration-color: #000000\">[</span><span style=\"color: #808080; text-decoration-color: #808080\">2024-02-12 19:18:54</span><span style=\"color: #000000; text-decoration-color: #000000\">][</span><span style=\"color: #008000; text-decoration-color: #008000; font-weight: bold\">INFO</span><span style=\"color: #000000; text-decoration-color: #000000\">][</span><span style=\"color: #008080; text-decoration-color: #008080; font-style: italic\">trainer</span><span style=\"color: #00ff00; text-decoration-color: #00ff00\">:</span><span style=\"color: #000000; text-decoration-color: #000000\">768</span><span style=\"color: #000000; text-decoration-color: #000000\">]</span><span style=\"color: #838383; text-decoration-color: #838383; font-weight: bold\"> - </span><span style=\"color: #0000ff; text-decoration-color: #0000ff; font-style: italic\">step</span>=<span style=\"color: #ff00ff; text-decoration-color: #ff00ff\">1050</span> <span style=\"color: #0000ff; text-decoration-color: #0000ff; font-style: italic\">loss</span>=<span style=\"color: #ff00ff; text-decoration-color: #ff00ff\">1.3343</span> <span style=\"color: #0000ff; text-decoration-color: #0000ff; font-style: italic\">dt</span>=<span style=\"color: #ff00ff; text-decoration-color: #ff00ff\">141.3278</span> <span style=\"color: #0000ff; text-decoration-color: #0000ff; font-style: italic\">dtf</span>=<span style=\"color: #ff00ff; text-decoration-color: #ff00ff\">20.0129</span> <span style=\"color: #0000ff; text-decoration-color: #0000ff; font-style: italic\">dtb</span>=<span style=\"color: #ff00ff; text-decoration-color: #ff00ff\">27.9981</span> <span style=\"color: #0000ff; text-decoration-color: #0000ff; font-style: italic\">sps</span>=<span style=\"color: #ff00ff; text-decoration-color: #ff00ff\">7.0757</span> <span style=\"color: #0000ff; text-decoration-color: #0000ff; font-style: italic\">mtps</span>=<span style=\"color: #ff00ff; text-decoration-color: #ff00ff\">0.1159</span> <span style=\"color: #0000ff; text-decoration-color: #0000ff; font-style: italic\">mfu</span>=<span style=\"color: #ff00ff; text-decoration-color: #ff00ff\">2.6819</span> <span style=\"color: #0000ff; text-decoration-color: #0000ff; font-style: italic\">train_loss</span>=<span style=\"color: #ff00ff; text-decoration-color: #ff00ff\">1.2709</span> <span style=\"color: #0000ff; text-decoration-color: #0000ff; font-style: italic\">val_loss</span>=<span style=\"color: #ff00ff; text-decoration-color: #ff00ff\">1.5249</span>\n",
              "</pre>\n"
            ],
            "text/plain": [
              "\u001b[30m[\u001b[0m\u001b[90m2024-02-12 \u001b[0m\u001b[90m19:18:54\u001b[0m\u001b[30m]\u001b[0m\u001b[30m[\u001b[0m\u001b[1;32mINFO\u001b[0m\u001b[30m]\u001b[0m\u001b[30m[\u001b[0m\u001b[3;36mtrainer\u001b[0m\u001b[92m:\u001b[0m\u001b[30m768\u001b[0m\u001b[30m]\u001b[0m\u001b[1;38;2;131;131;131m - \u001b[0m\u001b[3;94mstep\u001b[0m=\u001b[95m1050\u001b[0m \u001b[3;94mloss\u001b[0m=\u001b[95m1\u001b[0m\u001b[95m.3343\u001b[0m \u001b[3;94mdt\u001b[0m=\u001b[95m141\u001b[0m\u001b[95m.3278\u001b[0m \u001b[3;94mdtf\u001b[0m=\u001b[95m20\u001b[0m\u001b[95m.0129\u001b[0m \u001b[3;94mdtb\u001b[0m=\u001b[95m27\u001b[0m\u001b[95m.9981\u001b[0m \u001b[3;94msps\u001b[0m=\u001b[95m7\u001b[0m\u001b[95m.0757\u001b[0m \u001b[3;94mmtps\u001b[0m=\u001b[95m0\u001b[0m\u001b[95m.1159\u001b[0m \u001b[3;94mmfu\u001b[0m=\u001b[95m2\u001b[0m\u001b[95m.6819\u001b[0m \u001b[3;94mtrain_loss\u001b[0m=\u001b[95m1\u001b[0m\u001b[95m.2709\u001b[0m \u001b[3;94mval_loss\u001b[0m=\u001b[95m1\u001b[0m\u001b[95m.5249\u001b[0m\n"
            ]
          },
          "metadata": {},
          "output_type": "display_data"
        },
        {
          "name": "stderr",
          "output_type": "stream",
          "text": [
            " 60%|█████▉    | 599/1000 [01:55<00:55,  7.24it/s]"
          ]
        },
        {
          "data": {
            "text/html": [
              "<pre style=\"white-space:pre;overflow-x:auto;line-height:normal;font-family:Menlo,'DejaVu Sans Mono',consolas,'Courier New',monospace\"><span style=\"color: #000000; text-decoration-color: #000000\">[</span><span style=\"color: #808080; text-decoration-color: #808080\">2024-02-12 19:19:01</span><span style=\"color: #000000; text-decoration-color: #000000\">][</span><span style=\"color: #008000; text-decoration-color: #008000; font-weight: bold\">INFO</span><span style=\"color: #000000; text-decoration-color: #000000\">][</span><span style=\"color: #008080; text-decoration-color: #008080; font-style: italic\">trainer</span><span style=\"color: #00ff00; text-decoration-color: #00ff00\">:</span><span style=\"color: #000000; text-decoration-color: #000000\">768</span><span style=\"color: #000000; text-decoration-color: #000000\">]</span><span style=\"color: #838383; text-decoration-color: #838383; font-weight: bold\"> - </span><span style=\"color: #0000ff; text-decoration-color: #0000ff; font-style: italic\">step</span>=<span style=\"color: #ff00ff; text-decoration-color: #ff00ff\">1100</span> <span style=\"color: #0000ff; text-decoration-color: #0000ff; font-style: italic\">loss</span>=<span style=\"color: #ff00ff; text-decoration-color: #ff00ff\">1.3261</span> <span style=\"color: #0000ff; text-decoration-color: #0000ff; font-style: italic\">dt</span>=<span style=\"color: #ff00ff; text-decoration-color: #ff00ff\">137.4496</span> <span style=\"color: #0000ff; text-decoration-color: #0000ff; font-style: italic\">dtf</span>=<span style=\"color: #ff00ff; text-decoration-color: #ff00ff\">12.9071</span> <span style=\"color: #0000ff; text-decoration-color: #0000ff; font-style: italic\">dtb</span>=<span style=\"color: #ff00ff; text-decoration-color: #ff00ff\">14.9900</span> <span style=\"color: #0000ff; text-decoration-color: #0000ff; font-style: italic\">sps</span>=<span style=\"color: #ff00ff; text-decoration-color: #ff00ff\">7.2754</span> <span style=\"color: #0000ff; text-decoration-color: #0000ff; font-style: italic\">mtps</span>=<span style=\"color: #ff00ff; text-decoration-color: #ff00ff\">0.1192</span> <span style=\"color: #0000ff; text-decoration-color: #0000ff; font-style: italic\">mfu</span>=<span style=\"color: #ff00ff; text-decoration-color: #ff00ff\">2.6849</span> <span style=\"color: #0000ff; text-decoration-color: #0000ff; font-style: italic\">train_loss</span>=<span style=\"color: #ff00ff; text-decoration-color: #ff00ff\">1.2709</span> <span style=\"color: #0000ff; text-decoration-color: #0000ff; font-style: italic\">val_loss</span>=<span style=\"color: #ff00ff; text-decoration-color: #ff00ff\">1.5249</span>\n",
              "</pre>\n"
            ],
            "text/plain": [
              "\u001b[30m[\u001b[0m\u001b[90m2024-02-12 \u001b[0m\u001b[90m19:19:01\u001b[0m\u001b[30m]\u001b[0m\u001b[30m[\u001b[0m\u001b[1;32mINFO\u001b[0m\u001b[30m]\u001b[0m\u001b[30m[\u001b[0m\u001b[3;36mtrainer\u001b[0m\u001b[92m:\u001b[0m\u001b[30m768\u001b[0m\u001b[30m]\u001b[0m\u001b[1;38;2;131;131;131m - \u001b[0m\u001b[3;94mstep\u001b[0m=\u001b[95m1100\u001b[0m \u001b[3;94mloss\u001b[0m=\u001b[95m1\u001b[0m\u001b[95m.3261\u001b[0m \u001b[3;94mdt\u001b[0m=\u001b[95m137\u001b[0m\u001b[95m.4496\u001b[0m \u001b[3;94mdtf\u001b[0m=\u001b[95m12\u001b[0m\u001b[95m.9071\u001b[0m \u001b[3;94mdtb\u001b[0m=\u001b[95m14\u001b[0m\u001b[95m.9900\u001b[0m \u001b[3;94msps\u001b[0m=\u001b[95m7\u001b[0m\u001b[95m.2754\u001b[0m \u001b[3;94mmtps\u001b[0m=\u001b[95m0\u001b[0m\u001b[95m.1192\u001b[0m \u001b[3;94mmfu\u001b[0m=\u001b[95m2\u001b[0m\u001b[95m.6849\u001b[0m \u001b[3;94mtrain_loss\u001b[0m=\u001b[95m1\u001b[0m\u001b[95m.2709\u001b[0m \u001b[3;94mval_loss\u001b[0m=\u001b[95m1\u001b[0m\u001b[95m.5249\u001b[0m\n"
            ]
          },
          "metadata": {},
          "output_type": "display_data"
        },
        {
          "name": "stderr",
          "output_type": "stream",
          "text": [
            " 65%|██████▍   | 649/1000 [02:02<00:48,  7.22it/s]"
          ]
        },
        {
          "data": {
            "text/html": [
              "<pre style=\"white-space:pre;overflow-x:auto;line-height:normal;font-family:Menlo,'DejaVu Sans Mono',consolas,'Courier New',monospace\"><span style=\"color: #000000; text-decoration-color: #000000\">[</span><span style=\"color: #808080; text-decoration-color: #808080\">2024-02-12 19:19:08</span><span style=\"color: #000000; text-decoration-color: #000000\">][</span><span style=\"color: #008000; text-decoration-color: #008000; font-weight: bold\">INFO</span><span style=\"color: #000000; text-decoration-color: #000000\">][</span><span style=\"color: #008080; text-decoration-color: #008080; font-style: italic\">trainer</span><span style=\"color: #00ff00; text-decoration-color: #00ff00\">:</span><span style=\"color: #000000; text-decoration-color: #000000\">768</span><span style=\"color: #000000; text-decoration-color: #000000\">]</span><span style=\"color: #838383; text-decoration-color: #838383; font-weight: bold\"> - </span><span style=\"color: #0000ff; text-decoration-color: #0000ff; font-style: italic\">step</span>=<span style=\"color: #ff00ff; text-decoration-color: #ff00ff\">1150</span> <span style=\"color: #0000ff; text-decoration-color: #0000ff; font-style: italic\">loss</span>=<span style=\"color: #ff00ff; text-decoration-color: #ff00ff\">1.3139</span> <span style=\"color: #0000ff; text-decoration-color: #0000ff; font-style: italic\">dt</span>=<span style=\"color: #ff00ff; text-decoration-color: #ff00ff\">140.5757</span> <span style=\"color: #0000ff; text-decoration-color: #0000ff; font-style: italic\">dtf</span>=<span style=\"color: #ff00ff; text-decoration-color: #ff00ff\">14.1247</span> <span style=\"color: #0000ff; text-decoration-color: #0000ff; font-style: italic\">dtb</span>=<span style=\"color: #ff00ff; text-decoration-color: #ff00ff\">15.8161</span> <span style=\"color: #0000ff; text-decoration-color: #0000ff; font-style: italic\">sps</span>=<span style=\"color: #ff00ff; text-decoration-color: #ff00ff\">7.1136</span> <span style=\"color: #0000ff; text-decoration-color: #0000ff; font-style: italic\">mtps</span>=<span style=\"color: #ff00ff; text-decoration-color: #ff00ff\">0.1165</span> <span style=\"color: #0000ff; text-decoration-color: #0000ff; font-style: italic\">mfu</span>=<span style=\"color: #ff00ff; text-decoration-color: #ff00ff\">2.6814</span> <span style=\"color: #0000ff; text-decoration-color: #0000ff; font-style: italic\">train_loss</span>=<span style=\"color: #ff00ff; text-decoration-color: #ff00ff\">1.2709</span> <span style=\"color: #0000ff; text-decoration-color: #0000ff; font-style: italic\">val_loss</span>=<span style=\"color: #ff00ff; text-decoration-color: #ff00ff\">1.5249</span>\n",
              "</pre>\n"
            ],
            "text/plain": [
              "\u001b[30m[\u001b[0m\u001b[90m2024-02-12 \u001b[0m\u001b[90m19:19:08\u001b[0m\u001b[30m]\u001b[0m\u001b[30m[\u001b[0m\u001b[1;32mINFO\u001b[0m\u001b[30m]\u001b[0m\u001b[30m[\u001b[0m\u001b[3;36mtrainer\u001b[0m\u001b[92m:\u001b[0m\u001b[30m768\u001b[0m\u001b[30m]\u001b[0m\u001b[1;38;2;131;131;131m - \u001b[0m\u001b[3;94mstep\u001b[0m=\u001b[95m1150\u001b[0m \u001b[3;94mloss\u001b[0m=\u001b[95m1\u001b[0m\u001b[95m.3139\u001b[0m \u001b[3;94mdt\u001b[0m=\u001b[95m140\u001b[0m\u001b[95m.5757\u001b[0m \u001b[3;94mdtf\u001b[0m=\u001b[95m14\u001b[0m\u001b[95m.1247\u001b[0m \u001b[3;94mdtb\u001b[0m=\u001b[95m15\u001b[0m\u001b[95m.8161\u001b[0m \u001b[3;94msps\u001b[0m=\u001b[95m7\u001b[0m\u001b[95m.1136\u001b[0m \u001b[3;94mmtps\u001b[0m=\u001b[95m0\u001b[0m\u001b[95m.1165\u001b[0m \u001b[3;94mmfu\u001b[0m=\u001b[95m2\u001b[0m\u001b[95m.6814\u001b[0m \u001b[3;94mtrain_loss\u001b[0m=\u001b[95m1\u001b[0m\u001b[95m.2709\u001b[0m \u001b[3;94mval_loss\u001b[0m=\u001b[95m1\u001b[0m\u001b[95m.5249\u001b[0m\n"
            ]
          },
          "metadata": {},
          "output_type": "display_data"
        },
        {
          "name": "stderr",
          "output_type": "stream",
          "text": [
            " 70%|██████▉   | 699/1000 [02:09<00:41,  7.20it/s]"
          ]
        },
        {
          "data": {
            "text/html": [
              "<pre style=\"white-space:pre;overflow-x:auto;line-height:normal;font-family:Menlo,'DejaVu Sans Mono',consolas,'Courier New',monospace\"><span style=\"color: #000000; text-decoration-color: #000000\">[</span><span style=\"color: #808080; text-decoration-color: #808080\">2024-02-12 19:19:14</span><span style=\"color: #000000; text-decoration-color: #000000\">][</span><span style=\"color: #008000; text-decoration-color: #008000; font-weight: bold\">INFO</span><span style=\"color: #000000; text-decoration-color: #000000\">][</span><span style=\"color: #008080; text-decoration-color: #008080; font-style: italic\">trainer</span><span style=\"color: #00ff00; text-decoration-color: #00ff00\">:</span><span style=\"color: #000000; text-decoration-color: #000000\">768</span><span style=\"color: #000000; text-decoration-color: #000000\">]</span><span style=\"color: #838383; text-decoration-color: #838383; font-weight: bold\"> - </span><span style=\"color: #0000ff; text-decoration-color: #0000ff; font-style: italic\">step</span>=<span style=\"color: #ff00ff; text-decoration-color: #ff00ff\">1200</span> <span style=\"color: #0000ff; text-decoration-color: #0000ff; font-style: italic\">loss</span>=<span style=\"color: #ff00ff; text-decoration-color: #ff00ff\">1.2758</span> <span style=\"color: #0000ff; text-decoration-color: #0000ff; font-style: italic\">dt</span>=<span style=\"color: #ff00ff; text-decoration-color: #ff00ff\">141.5174</span> <span style=\"color: #0000ff; text-decoration-color: #0000ff; font-style: italic\">dtf</span>=<span style=\"color: #ff00ff; text-decoration-color: #ff00ff\">13.9984</span> <span style=\"color: #0000ff; text-decoration-color: #0000ff; font-style: italic\">dtb</span>=<span style=\"color: #ff00ff; text-decoration-color: #ff00ff\">15.6405</span> <span style=\"color: #0000ff; text-decoration-color: #0000ff; font-style: italic\">sps</span>=<span style=\"color: #ff00ff; text-decoration-color: #ff00ff\">7.0663</span> <span style=\"color: #0000ff; text-decoration-color: #0000ff; font-style: italic\">mtps</span>=<span style=\"color: #ff00ff; text-decoration-color: #ff00ff\">0.1158</span> <span style=\"color: #0000ff; text-decoration-color: #0000ff; font-style: italic\">mfu</span>=<span style=\"color: #ff00ff; text-decoration-color: #ff00ff\">2.6766</span> <span style=\"color: #0000ff; text-decoration-color: #0000ff; font-style: italic\">train_loss</span>=<span style=\"color: #ff00ff; text-decoration-color: #ff00ff\">1.2709</span> <span style=\"color: #0000ff; text-decoration-color: #0000ff; font-style: italic\">val_loss</span>=<span style=\"color: #ff00ff; text-decoration-color: #ff00ff\">1.5249</span>\n",
              "</pre>\n"
            ],
            "text/plain": [
              "\u001b[30m[\u001b[0m\u001b[90m2024-02-12 \u001b[0m\u001b[90m19:19:14\u001b[0m\u001b[30m]\u001b[0m\u001b[30m[\u001b[0m\u001b[1;32mINFO\u001b[0m\u001b[30m]\u001b[0m\u001b[30m[\u001b[0m\u001b[3;36mtrainer\u001b[0m\u001b[92m:\u001b[0m\u001b[30m768\u001b[0m\u001b[30m]\u001b[0m\u001b[1;38;2;131;131;131m - \u001b[0m\u001b[3;94mstep\u001b[0m=\u001b[95m1200\u001b[0m \u001b[3;94mloss\u001b[0m=\u001b[95m1\u001b[0m\u001b[95m.2758\u001b[0m \u001b[3;94mdt\u001b[0m=\u001b[95m141\u001b[0m\u001b[95m.5174\u001b[0m \u001b[3;94mdtf\u001b[0m=\u001b[95m13\u001b[0m\u001b[95m.9984\u001b[0m \u001b[3;94mdtb\u001b[0m=\u001b[95m15\u001b[0m\u001b[95m.6405\u001b[0m \u001b[3;94msps\u001b[0m=\u001b[95m7\u001b[0m\u001b[95m.0663\u001b[0m \u001b[3;94mmtps\u001b[0m=\u001b[95m0\u001b[0m\u001b[95m.1158\u001b[0m \u001b[3;94mmfu\u001b[0m=\u001b[95m2\u001b[0m\u001b[95m.6766\u001b[0m \u001b[3;94mtrain_loss\u001b[0m=\u001b[95m1\u001b[0m\u001b[95m.2709\u001b[0m \u001b[3;94mval_loss\u001b[0m=\u001b[95m1\u001b[0m\u001b[95m.5249\u001b[0m\n"
            ]
          },
          "metadata": {},
          "output_type": "display_data"
        },
        {
          "name": "stderr",
          "output_type": "stream",
          "text": [
            " 75%|███████▍  | 749/1000 [02:16<00:34,  7.34it/s]"
          ]
        },
        {
          "data": {
            "text/html": [
              "<pre style=\"white-space:pre;overflow-x:auto;line-height:normal;font-family:Menlo,'DejaVu Sans Mono',consolas,'Courier New',monospace\"><span style=\"color: #000000; text-decoration-color: #000000\">[</span><span style=\"color: #808080; text-decoration-color: #808080\">2024-02-12 19:19:21</span><span style=\"color: #000000; text-decoration-color: #000000\">][</span><span style=\"color: #008000; text-decoration-color: #008000; font-weight: bold\">INFO</span><span style=\"color: #000000; text-decoration-color: #000000\">][</span><span style=\"color: #008080; text-decoration-color: #008080; font-style: italic\">trainer</span><span style=\"color: #00ff00; text-decoration-color: #00ff00\">:</span><span style=\"color: #000000; text-decoration-color: #000000\">768</span><span style=\"color: #000000; text-decoration-color: #000000\">]</span><span style=\"color: #838383; text-decoration-color: #838383; font-weight: bold\"> - </span><span style=\"color: #0000ff; text-decoration-color: #0000ff; font-style: italic\">step</span>=<span style=\"color: #ff00ff; text-decoration-color: #ff00ff\">1250</span> <span style=\"color: #0000ff; text-decoration-color: #0000ff; font-style: italic\">loss</span>=<span style=\"color: #ff00ff; text-decoration-color: #ff00ff\">1.2749</span> <span style=\"color: #0000ff; text-decoration-color: #0000ff; font-style: italic\">dt</span>=<span style=\"color: #ff00ff; text-decoration-color: #ff00ff\">134.5575</span> <span style=\"color: #0000ff; text-decoration-color: #0000ff; font-style: italic\">dtf</span>=<span style=\"color: #ff00ff; text-decoration-color: #ff00ff\">11.4094</span> <span style=\"color: #0000ff; text-decoration-color: #0000ff; font-style: italic\">dtb</span>=<span style=\"color: #ff00ff; text-decoration-color: #ff00ff\">14.7114</span> <span style=\"color: #0000ff; text-decoration-color: #0000ff; font-style: italic\">sps</span>=<span style=\"color: #ff00ff; text-decoration-color: #ff00ff\">7.4318</span> <span style=\"color: #0000ff; text-decoration-color: #0000ff; font-style: italic\">mtps</span>=<span style=\"color: #ff00ff; text-decoration-color: #ff00ff\">0.1218</span> <span style=\"color: #0000ff; text-decoration-color: #0000ff; font-style: italic\">mfu</span>=<span style=\"color: #ff00ff; text-decoration-color: #ff00ff\">2.6859</span> <span style=\"color: #0000ff; text-decoration-color: #0000ff; font-style: italic\">train_loss</span>=<span style=\"color: #ff00ff; text-decoration-color: #ff00ff\">1.2709</span> <span style=\"color: #0000ff; text-decoration-color: #0000ff; font-style: italic\">val_loss</span>=<span style=\"color: #ff00ff; text-decoration-color: #ff00ff\">1.5249</span>\n",
              "</pre>\n"
            ],
            "text/plain": [
              "\u001b[30m[\u001b[0m\u001b[90m2024-02-12 \u001b[0m\u001b[90m19:19:21\u001b[0m\u001b[30m]\u001b[0m\u001b[30m[\u001b[0m\u001b[1;32mINFO\u001b[0m\u001b[30m]\u001b[0m\u001b[30m[\u001b[0m\u001b[3;36mtrainer\u001b[0m\u001b[92m:\u001b[0m\u001b[30m768\u001b[0m\u001b[30m]\u001b[0m\u001b[1;38;2;131;131;131m - \u001b[0m\u001b[3;94mstep\u001b[0m=\u001b[95m1250\u001b[0m \u001b[3;94mloss\u001b[0m=\u001b[95m1\u001b[0m\u001b[95m.2749\u001b[0m \u001b[3;94mdt\u001b[0m=\u001b[95m134\u001b[0m\u001b[95m.5575\u001b[0m \u001b[3;94mdtf\u001b[0m=\u001b[95m11\u001b[0m\u001b[95m.4094\u001b[0m \u001b[3;94mdtb\u001b[0m=\u001b[95m14\u001b[0m\u001b[95m.7114\u001b[0m \u001b[3;94msps\u001b[0m=\u001b[95m7\u001b[0m\u001b[95m.4318\u001b[0m \u001b[3;94mmtps\u001b[0m=\u001b[95m0\u001b[0m\u001b[95m.1218\u001b[0m \u001b[3;94mmfu\u001b[0m=\u001b[95m2\u001b[0m\u001b[95m.6859\u001b[0m \u001b[3;94mtrain_loss\u001b[0m=\u001b[95m1\u001b[0m\u001b[95m.2709\u001b[0m \u001b[3;94mval_loss\u001b[0m=\u001b[95m1\u001b[0m\u001b[95m.5249\u001b[0m\n"
            ]
          },
          "metadata": {},
          "output_type": "display_data"
        },
        {
          "name": "stderr",
          "output_type": "stream",
          "text": [
            " 80%|███████▉  | 799/1000 [02:22<00:27,  7.36it/s]"
          ]
        },
        {
          "data": {
            "text/html": [
              "<pre style=\"white-space:pre;overflow-x:auto;line-height:normal;font-family:Menlo,'DejaVu Sans Mono',consolas,'Courier New',monospace\"><span style=\"color: #000000; text-decoration-color: #000000\">[</span><span style=\"color: #808080; text-decoration-color: #808080\">2024-02-12 19:19:28</span><span style=\"color: #000000; text-decoration-color: #000000\">][</span><span style=\"color: #008000; text-decoration-color: #008000; font-weight: bold\">INFO</span><span style=\"color: #000000; text-decoration-color: #000000\">][</span><span style=\"color: #008080; text-decoration-color: #008080; font-style: italic\">trainer</span><span style=\"color: #00ff00; text-decoration-color: #00ff00\">:</span><span style=\"color: #000000; text-decoration-color: #000000\">768</span><span style=\"color: #000000; text-decoration-color: #000000\">]</span><span style=\"color: #838383; text-decoration-color: #838383; font-weight: bold\"> - </span><span style=\"color: #0000ff; text-decoration-color: #0000ff; font-style: italic\">step</span>=<span style=\"color: #ff00ff; text-decoration-color: #ff00ff\">1300</span> <span style=\"color: #0000ff; text-decoration-color: #0000ff; font-style: italic\">loss</span>=<span style=\"color: #ff00ff; text-decoration-color: #ff00ff\">1.2632</span> <span style=\"color: #0000ff; text-decoration-color: #0000ff; font-style: italic\">dt</span>=<span style=\"color: #ff00ff; text-decoration-color: #ff00ff\">156.3324</span> <span style=\"color: #0000ff; text-decoration-color: #0000ff; font-style: italic\">dtf</span>=<span style=\"color: #ff00ff; text-decoration-color: #ff00ff\">20.2754</span> <span style=\"color: #0000ff; text-decoration-color: #0000ff; font-style: italic\">dtb</span>=<span style=\"color: #ff00ff; text-decoration-color: #ff00ff\">24.9083</span> <span style=\"color: #0000ff; text-decoration-color: #0000ff; font-style: italic\">sps</span>=<span style=\"color: #ff00ff; text-decoration-color: #ff00ff\">6.3966</span> <span style=\"color: #0000ff; text-decoration-color: #0000ff; font-style: italic\">mtps</span>=<span style=\"color: #ff00ff; text-decoration-color: #ff00ff\">0.1048</span> <span style=\"color: #0000ff; text-decoration-color: #0000ff; font-style: italic\">mfu</span>=<span style=\"color: #ff00ff; text-decoration-color: #ff00ff\">2.6556</span> <span style=\"color: #0000ff; text-decoration-color: #0000ff; font-style: italic\">train_loss</span>=<span style=\"color: #ff00ff; text-decoration-color: #ff00ff\">1.2709</span> <span style=\"color: #0000ff; text-decoration-color: #0000ff; font-style: italic\">val_loss</span>=<span style=\"color: #ff00ff; text-decoration-color: #ff00ff\">1.5249</span>\n",
              "</pre>\n"
            ],
            "text/plain": [
              "\u001b[30m[\u001b[0m\u001b[90m2024-02-12 \u001b[0m\u001b[90m19:19:28\u001b[0m\u001b[30m]\u001b[0m\u001b[30m[\u001b[0m\u001b[1;32mINFO\u001b[0m\u001b[30m]\u001b[0m\u001b[30m[\u001b[0m\u001b[3;36mtrainer\u001b[0m\u001b[92m:\u001b[0m\u001b[30m768\u001b[0m\u001b[30m]\u001b[0m\u001b[1;38;2;131;131;131m - \u001b[0m\u001b[3;94mstep\u001b[0m=\u001b[95m1300\u001b[0m \u001b[3;94mloss\u001b[0m=\u001b[95m1\u001b[0m\u001b[95m.2632\u001b[0m \u001b[3;94mdt\u001b[0m=\u001b[95m156\u001b[0m\u001b[95m.3324\u001b[0m \u001b[3;94mdtf\u001b[0m=\u001b[95m20\u001b[0m\u001b[95m.2754\u001b[0m \u001b[3;94mdtb\u001b[0m=\u001b[95m24\u001b[0m\u001b[95m.9083\u001b[0m \u001b[3;94msps\u001b[0m=\u001b[95m6\u001b[0m\u001b[95m.3966\u001b[0m \u001b[3;94mmtps\u001b[0m=\u001b[95m0\u001b[0m\u001b[95m.1048\u001b[0m \u001b[3;94mmfu\u001b[0m=\u001b[95m2\u001b[0m\u001b[95m.6556\u001b[0m \u001b[3;94mtrain_loss\u001b[0m=\u001b[95m1\u001b[0m\u001b[95m.2709\u001b[0m \u001b[3;94mval_loss\u001b[0m=\u001b[95m1\u001b[0m\u001b[95m.5249\u001b[0m\n"
            ]
          },
          "metadata": {},
          "output_type": "display_data"
        },
        {
          "name": "stderr",
          "output_type": "stream",
          "text": [
            " 85%|████████▍ | 849/1000 [02:29<00:20,  7.42it/s]"
          ]
        },
        {
          "data": {
            "text/html": [
              "<pre style=\"white-space:pre;overflow-x:auto;line-height:normal;font-family:Menlo,'DejaVu Sans Mono',consolas,'Courier New',monospace\"><span style=\"color: #000000; text-decoration-color: #000000\">[</span><span style=\"color: #808080; text-decoration-color: #808080\">2024-02-12 19:19:35</span><span style=\"color: #000000; text-decoration-color: #000000\">][</span><span style=\"color: #008000; text-decoration-color: #008000; font-weight: bold\">INFO</span><span style=\"color: #000000; text-decoration-color: #000000\">][</span><span style=\"color: #008080; text-decoration-color: #008080; font-style: italic\">trainer</span><span style=\"color: #00ff00; text-decoration-color: #00ff00\">:</span><span style=\"color: #000000; text-decoration-color: #000000\">768</span><span style=\"color: #000000; text-decoration-color: #000000\">]</span><span style=\"color: #838383; text-decoration-color: #838383; font-weight: bold\"> - </span><span style=\"color: #0000ff; text-decoration-color: #0000ff; font-style: italic\">step</span>=<span style=\"color: #ff00ff; text-decoration-color: #ff00ff\">1350</span> <span style=\"color: #0000ff; text-decoration-color: #0000ff; font-style: italic\">loss</span>=<span style=\"color: #ff00ff; text-decoration-color: #ff00ff\">1.2675</span> <span style=\"color: #0000ff; text-decoration-color: #0000ff; font-style: italic\">dt</span>=<span style=\"color: #ff00ff; text-decoration-color: #ff00ff\">131.7250</span> <span style=\"color: #0000ff; text-decoration-color: #0000ff; font-style: italic\">dtf</span>=<span style=\"color: #ff00ff; text-decoration-color: #ff00ff\">14.1395</span> <span style=\"color: #0000ff; text-decoration-color: #0000ff; font-style: italic\">dtb</span>=<span style=\"color: #ff00ff; text-decoration-color: #ff00ff\">15.3237</span> <span style=\"color: #0000ff; text-decoration-color: #0000ff; font-style: italic\">sps</span>=<span style=\"color: #ff00ff; text-decoration-color: #ff00ff\">7.5916</span> <span style=\"color: #0000ff; text-decoration-color: #0000ff; font-style: italic\">mtps</span>=<span style=\"color: #ff00ff; text-decoration-color: #ff00ff\">0.1244</span> <span style=\"color: #0000ff; text-decoration-color: #0000ff; font-style: italic\">mfu</span>=<span style=\"color: #ff00ff; text-decoration-color: #ff00ff\">2.6729</span> <span style=\"color: #0000ff; text-decoration-color: #0000ff; font-style: italic\">train_loss</span>=<span style=\"color: #ff00ff; text-decoration-color: #ff00ff\">1.2709</span> <span style=\"color: #0000ff; text-decoration-color: #0000ff; font-style: italic\">val_loss</span>=<span style=\"color: #ff00ff; text-decoration-color: #ff00ff\">1.5249</span>\n",
              "</pre>\n"
            ],
            "text/plain": [
              "\u001b[30m[\u001b[0m\u001b[90m2024-02-12 \u001b[0m\u001b[90m19:19:35\u001b[0m\u001b[30m]\u001b[0m\u001b[30m[\u001b[0m\u001b[1;32mINFO\u001b[0m\u001b[30m]\u001b[0m\u001b[30m[\u001b[0m\u001b[3;36mtrainer\u001b[0m\u001b[92m:\u001b[0m\u001b[30m768\u001b[0m\u001b[30m]\u001b[0m\u001b[1;38;2;131;131;131m - \u001b[0m\u001b[3;94mstep\u001b[0m=\u001b[95m1350\u001b[0m \u001b[3;94mloss\u001b[0m=\u001b[95m1\u001b[0m\u001b[95m.2675\u001b[0m \u001b[3;94mdt\u001b[0m=\u001b[95m131\u001b[0m\u001b[95m.7250\u001b[0m \u001b[3;94mdtf\u001b[0m=\u001b[95m14\u001b[0m\u001b[95m.1395\u001b[0m \u001b[3;94mdtb\u001b[0m=\u001b[95m15\u001b[0m\u001b[95m.3237\u001b[0m \u001b[3;94msps\u001b[0m=\u001b[95m7\u001b[0m\u001b[95m.5916\u001b[0m \u001b[3;94mmtps\u001b[0m=\u001b[95m0\u001b[0m\u001b[95m.1244\u001b[0m \u001b[3;94mmfu\u001b[0m=\u001b[95m2\u001b[0m\u001b[95m.6729\u001b[0m \u001b[3;94mtrain_loss\u001b[0m=\u001b[95m1\u001b[0m\u001b[95m.2709\u001b[0m \u001b[3;94mval_loss\u001b[0m=\u001b[95m1\u001b[0m\u001b[95m.5249\u001b[0m\n"
            ]
          },
          "metadata": {},
          "output_type": "display_data"
        },
        {
          "name": "stderr",
          "output_type": "stream",
          "text": [
            " 90%|████████▉ | 899/1000 [02:36<00:13,  7.29it/s]"
          ]
        },
        {
          "data": {
            "text/html": [
              "<pre style=\"white-space:pre;overflow-x:auto;line-height:normal;font-family:Menlo,'DejaVu Sans Mono',consolas,'Courier New',monospace\"><span style=\"color: #000000; text-decoration-color: #000000\">[</span><span style=\"color: #808080; text-decoration-color: #808080\">2024-02-12 19:19:42</span><span style=\"color: #000000; text-decoration-color: #000000\">][</span><span style=\"color: #008000; text-decoration-color: #008000; font-weight: bold\">INFO</span><span style=\"color: #000000; text-decoration-color: #000000\">][</span><span style=\"color: #008080; text-decoration-color: #008080; font-style: italic\">trainer</span><span style=\"color: #00ff00; text-decoration-color: #00ff00\">:</span><span style=\"color: #000000; text-decoration-color: #000000\">768</span><span style=\"color: #000000; text-decoration-color: #000000\">]</span><span style=\"color: #838383; text-decoration-color: #838383; font-weight: bold\"> - </span><span style=\"color: #0000ff; text-decoration-color: #0000ff; font-style: italic\">step</span>=<span style=\"color: #ff00ff; text-decoration-color: #ff00ff\">1400</span> <span style=\"color: #0000ff; text-decoration-color: #0000ff; font-style: italic\">loss</span>=<span style=\"color: #ff00ff; text-decoration-color: #ff00ff\">1.2536</span> <span style=\"color: #0000ff; text-decoration-color: #0000ff; font-style: italic\">dt</span>=<span style=\"color: #ff00ff; text-decoration-color: #ff00ff\">132.2613</span> <span style=\"color: #0000ff; text-decoration-color: #0000ff; font-style: italic\">dtf</span>=<span style=\"color: #ff00ff; text-decoration-color: #ff00ff\">15.6757</span> <span style=\"color: #0000ff; text-decoration-color: #0000ff; font-style: italic\">dtb</span>=<span style=\"color: #ff00ff; text-decoration-color: #ff00ff\">26.1537</span> <span style=\"color: #0000ff; text-decoration-color: #0000ff; font-style: italic\">sps</span>=<span style=\"color: #ff00ff; text-decoration-color: #ff00ff\">7.5608</span> <span style=\"color: #0000ff; text-decoration-color: #0000ff; font-style: italic\">mtps</span>=<span style=\"color: #ff00ff; text-decoration-color: #ff00ff\">0.1239</span> <span style=\"color: #0000ff; text-decoration-color: #0000ff; font-style: italic\">mfu</span>=<span style=\"color: #ff00ff; text-decoration-color: #ff00ff\">2.6874</span> <span style=\"color: #0000ff; text-decoration-color: #0000ff; font-style: italic\">train_loss</span>=<span style=\"color: #ff00ff; text-decoration-color: #ff00ff\">1.2709</span> <span style=\"color: #0000ff; text-decoration-color: #0000ff; font-style: italic\">val_loss</span>=<span style=\"color: #ff00ff; text-decoration-color: #ff00ff\">1.5249</span>\n",
              "</pre>\n"
            ],
            "text/plain": [
              "\u001b[30m[\u001b[0m\u001b[90m2024-02-12 \u001b[0m\u001b[90m19:19:42\u001b[0m\u001b[30m]\u001b[0m\u001b[30m[\u001b[0m\u001b[1;32mINFO\u001b[0m\u001b[30m]\u001b[0m\u001b[30m[\u001b[0m\u001b[3;36mtrainer\u001b[0m\u001b[92m:\u001b[0m\u001b[30m768\u001b[0m\u001b[30m]\u001b[0m\u001b[1;38;2;131;131;131m - \u001b[0m\u001b[3;94mstep\u001b[0m=\u001b[95m1400\u001b[0m \u001b[3;94mloss\u001b[0m=\u001b[95m1\u001b[0m\u001b[95m.2536\u001b[0m \u001b[3;94mdt\u001b[0m=\u001b[95m132\u001b[0m\u001b[95m.2613\u001b[0m \u001b[3;94mdtf\u001b[0m=\u001b[95m15\u001b[0m\u001b[95m.6757\u001b[0m \u001b[3;94mdtb\u001b[0m=\u001b[95m26\u001b[0m\u001b[95m.1537\u001b[0m \u001b[3;94msps\u001b[0m=\u001b[95m7\u001b[0m\u001b[95m.5608\u001b[0m \u001b[3;94mmtps\u001b[0m=\u001b[95m0\u001b[0m\u001b[95m.1239\u001b[0m \u001b[3;94mmfu\u001b[0m=\u001b[95m2\u001b[0m\u001b[95m.6874\u001b[0m \u001b[3;94mtrain_loss\u001b[0m=\u001b[95m1\u001b[0m\u001b[95m.2709\u001b[0m \u001b[3;94mval_loss\u001b[0m=\u001b[95m1\u001b[0m\u001b[95m.5249\u001b[0m\n"
            ]
          },
          "metadata": {},
          "output_type": "display_data"
        },
        {
          "name": "stderr",
          "output_type": "stream",
          "text": [
            " 95%|█████████▍| 949/1000 [02:43<00:06,  7.41it/s]"
          ]
        },
        {
          "data": {
            "text/html": [
              "<pre style=\"white-space:pre;overflow-x:auto;line-height:normal;font-family:Menlo,'DejaVu Sans Mono',consolas,'Courier New',monospace\"><span style=\"color: #000000; text-decoration-color: #000000\">[</span><span style=\"color: #808080; text-decoration-color: #808080\">2024-02-12 19:19:49</span><span style=\"color: #000000; text-decoration-color: #000000\">][</span><span style=\"color: #008000; text-decoration-color: #008000; font-weight: bold\">INFO</span><span style=\"color: #000000; text-decoration-color: #000000\">][</span><span style=\"color: #008080; text-decoration-color: #008080; font-style: italic\">trainer</span><span style=\"color: #00ff00; text-decoration-color: #00ff00\">:</span><span style=\"color: #000000; text-decoration-color: #000000\">768</span><span style=\"color: #000000; text-decoration-color: #000000\">]</span><span style=\"color: #838383; text-decoration-color: #838383; font-weight: bold\"> - </span><span style=\"color: #0000ff; text-decoration-color: #0000ff; font-style: italic\">step</span>=<span style=\"color: #ff00ff; text-decoration-color: #ff00ff\">1450</span> <span style=\"color: #0000ff; text-decoration-color: #0000ff; font-style: italic\">loss</span>=<span style=\"color: #ff00ff; text-decoration-color: #ff00ff\">1.2527</span> <span style=\"color: #0000ff; text-decoration-color: #0000ff; font-style: italic\">dt</span>=<span style=\"color: #ff00ff; text-decoration-color: #ff00ff\">137.0243</span> <span style=\"color: #0000ff; text-decoration-color: #0000ff; font-style: italic\">dtf</span>=<span style=\"color: #ff00ff; text-decoration-color: #ff00ff\">11.0932</span> <span style=\"color: #0000ff; text-decoration-color: #0000ff; font-style: italic\">dtb</span>=<span style=\"color: #ff00ff; text-decoration-color: #ff00ff\">17.9141</span> <span style=\"color: #0000ff; text-decoration-color: #0000ff; font-style: italic\">sps</span>=<span style=\"color: #ff00ff; text-decoration-color: #ff00ff\">7.2980</span> <span style=\"color: #0000ff; text-decoration-color: #0000ff; font-style: italic\">mtps</span>=<span style=\"color: #ff00ff; text-decoration-color: #ff00ff\">0.1196</span> <span style=\"color: #0000ff; text-decoration-color: #0000ff; font-style: italic\">mfu</span>=<span style=\"color: #ff00ff; text-decoration-color: #ff00ff\">2.6906</span> <span style=\"color: #0000ff; text-decoration-color: #0000ff; font-style: italic\">train_loss</span>=<span style=\"color: #ff00ff; text-decoration-color: #ff00ff\">1.2709</span> <span style=\"color: #0000ff; text-decoration-color: #0000ff; font-style: italic\">val_loss</span>=<span style=\"color: #ff00ff; text-decoration-color: #ff00ff\">1.5249</span>\n",
              "</pre>\n"
            ],
            "text/plain": [
              "\u001b[30m[\u001b[0m\u001b[90m2024-02-12 \u001b[0m\u001b[90m19:19:49\u001b[0m\u001b[30m]\u001b[0m\u001b[30m[\u001b[0m\u001b[1;32mINFO\u001b[0m\u001b[30m]\u001b[0m\u001b[30m[\u001b[0m\u001b[3;36mtrainer\u001b[0m\u001b[92m:\u001b[0m\u001b[30m768\u001b[0m\u001b[30m]\u001b[0m\u001b[1;38;2;131;131;131m - \u001b[0m\u001b[3;94mstep\u001b[0m=\u001b[95m1450\u001b[0m \u001b[3;94mloss\u001b[0m=\u001b[95m1\u001b[0m\u001b[95m.2527\u001b[0m \u001b[3;94mdt\u001b[0m=\u001b[95m137\u001b[0m\u001b[95m.0243\u001b[0m \u001b[3;94mdtf\u001b[0m=\u001b[95m11\u001b[0m\u001b[95m.0932\u001b[0m \u001b[3;94mdtb\u001b[0m=\u001b[95m17\u001b[0m\u001b[95m.9141\u001b[0m \u001b[3;94msps\u001b[0m=\u001b[95m7\u001b[0m\u001b[95m.2980\u001b[0m \u001b[3;94mmtps\u001b[0m=\u001b[95m0\u001b[0m\u001b[95m.1196\u001b[0m \u001b[3;94mmfu\u001b[0m=\u001b[95m2\u001b[0m\u001b[95m.6906\u001b[0m \u001b[3;94mtrain_loss\u001b[0m=\u001b[95m1\u001b[0m\u001b[95m.2709\u001b[0m \u001b[3;94mval_loss\u001b[0m=\u001b[95m1\u001b[0m\u001b[95m.5249\u001b[0m\n"
            ]
          },
          "metadata": {},
          "output_type": "display_data"
        },
        {
          "name": "stderr",
          "output_type": "stream",
          "text": [
            "100%|█████████▉| 999/1000 [02:50<00:00,  7.33it/s]"
          ]
        },
        {
          "data": {
            "text/html": [
              "<pre style=\"white-space:pre;overflow-x:auto;line-height:normal;font-family:Menlo,'DejaVu Sans Mono',consolas,'Courier New',monospace\"><span style=\"color: #000000; text-decoration-color: #000000\">[</span><span style=\"color: #808080; text-decoration-color: #808080\">2024-02-12 19:19:55</span><span style=\"color: #000000; text-decoration-color: #000000\">][</span><span style=\"color: #008000; text-decoration-color: #008000; font-weight: bold\">INFO</span><span style=\"color: #000000; text-decoration-color: #000000\">][</span><span style=\"color: #008080; text-decoration-color: #008080; font-style: italic\">trainer</span><span style=\"color: #00ff00; text-decoration-color: #00ff00\">:</span><span style=\"color: #000000; text-decoration-color: #000000\">768</span><span style=\"color: #000000; text-decoration-color: #000000\">]</span><span style=\"color: #838383; text-decoration-color: #838383; font-weight: bold\"> - </span><span style=\"color: #0000ff; text-decoration-color: #0000ff; font-style: italic\">step</span>=<span style=\"color: #ff00ff; text-decoration-color: #ff00ff\">1500</span> <span style=\"color: #0000ff; text-decoration-color: #0000ff; font-style: italic\">loss</span>=<span style=\"color: #ff00ff; text-decoration-color: #ff00ff\">1.2294</span> <span style=\"color: #0000ff; text-decoration-color: #0000ff; font-style: italic\">dt</span>=<span style=\"color: #ff00ff; text-decoration-color: #ff00ff\">134.9553</span> <span style=\"color: #0000ff; text-decoration-color: #0000ff; font-style: italic\">dtf</span>=<span style=\"color: #ff00ff; text-decoration-color: #ff00ff\">13.1609</span> <span style=\"color: #0000ff; text-decoration-color: #0000ff; font-style: italic\">dtb</span>=<span style=\"color: #ff00ff; text-decoration-color: #ff00ff\">15.5829</span> <span style=\"color: #0000ff; text-decoration-color: #0000ff; font-style: italic\">sps</span>=<span style=\"color: #ff00ff; text-decoration-color: #ff00ff\">7.4099</span> <span style=\"color: #0000ff; text-decoration-color: #0000ff; font-style: italic\">mtps</span>=<span style=\"color: #ff00ff; text-decoration-color: #ff00ff\">0.1214</span> <span style=\"color: #0000ff; text-decoration-color: #0000ff; font-style: italic\">mfu</span>=<span style=\"color: #ff00ff; text-decoration-color: #ff00ff\">2.6976</span> <span style=\"color: #0000ff; text-decoration-color: #0000ff; font-style: italic\">train_loss</span>=<span style=\"color: #ff00ff; text-decoration-color: #ff00ff\">1.2709</span> <span style=\"color: #0000ff; text-decoration-color: #0000ff; font-style: italic\">val_loss</span>=<span style=\"color: #ff00ff; text-decoration-color: #ff00ff\">1.5249</span>\n",
              "</pre>\n"
            ],
            "text/plain": [
              "\u001b[30m[\u001b[0m\u001b[90m2024-02-12 \u001b[0m\u001b[90m19:19:55\u001b[0m\u001b[30m]\u001b[0m\u001b[30m[\u001b[0m\u001b[1;32mINFO\u001b[0m\u001b[30m]\u001b[0m\u001b[30m[\u001b[0m\u001b[3;36mtrainer\u001b[0m\u001b[92m:\u001b[0m\u001b[30m768\u001b[0m\u001b[30m]\u001b[0m\u001b[1;38;2;131;131;131m - \u001b[0m\u001b[3;94mstep\u001b[0m=\u001b[95m1500\u001b[0m \u001b[3;94mloss\u001b[0m=\u001b[95m1\u001b[0m\u001b[95m.2294\u001b[0m \u001b[3;94mdt\u001b[0m=\u001b[95m134\u001b[0m\u001b[95m.9553\u001b[0m \u001b[3;94mdtf\u001b[0m=\u001b[95m13\u001b[0m\u001b[95m.1609\u001b[0m \u001b[3;94mdtb\u001b[0m=\u001b[95m15\u001b[0m\u001b[95m.5829\u001b[0m \u001b[3;94msps\u001b[0m=\u001b[95m7\u001b[0m\u001b[95m.4099\u001b[0m \u001b[3;94mmtps\u001b[0m=\u001b[95m0\u001b[0m\u001b[95m.1214\u001b[0m \u001b[3;94mmfu\u001b[0m=\u001b[95m2\u001b[0m\u001b[95m.6976\u001b[0m \u001b[3;94mtrain_loss\u001b[0m=\u001b[95m1\u001b[0m\u001b[95m.2709\u001b[0m \u001b[3;94mval_loss\u001b[0m=\u001b[95m1\u001b[0m\u001b[95m.5249\u001b[0m\n"
            ]
          },
          "metadata": {},
          "output_type": "display_data"
        },
        {
          "name": "stderr",
          "output_type": "stream",
          "text": [
            "100%|██████████| 1000/1000 [02:50<00:00,  5.87it/s]\n"
          ]
        }
      ],
      "source": [
        "trainer.train()"
      ]
    },
    {
      "cell_type": "markdown",
      "id": "aa5c0c5a-539a-462d-a9e3-0655e8e48d85",
      "metadata": {
        "id": "aa5c0c5a-539a-462d-a9e3-0655e8e48d85"
      },
      "source": [
        "## Evaluate Model"
      ]
    },
    {
      "cell_type": "code",
      "execution_count": null,
      "id": "b17c4414",
      "metadata": {
        "colab": {
          "base_uri": "https://localhost:8080/",
          "height": 209
        },
        "id": "b17c4414",
        "jupyter": {
          "outputs_hidden": false,
          "source_hidden": false
        },
        "outputId": "a76d1f65-b245-4b98-de42-f64f1e3d8d2a"
      },
      "outputs": [
        {
          "data": {
            "text/html": [
              "<pre style=\"white-space:pre;overflow-x:auto;line-height:normal;font-family:Menlo,'DejaVu Sans Mono',consolas,'Courier New',monospace\"><span style=\"color: #000000; text-decoration-color: #000000\">[</span><span style=\"color: #808080; text-decoration-color: #808080\">2024-02-12 19:20:12</span><span style=\"color: #000000; text-decoration-color: #000000\">][</span><span style=\"color: #008000; text-decoration-color: #008000; font-weight: bold\">INFO</span><span style=\"color: #000000; text-decoration-color: #000000\">][</span><span style=\"color: #008080; text-decoration-color: #008080; font-style: italic\">&lt;ipython-input-12-99b80f46fd99&gt;</span><span style=\"color: #00ff00; text-decoration-color: #00ff00\">:</span><span style=\"color: #000000; text-decoration-color: #000000\">12</span><span style=\"color: #000000; text-decoration-color: #000000\">]</span><span style=\"color: #838383; text-decoration-color: #838383; font-weight: bold\"> - </span>took: <span style=\"color: #ff00ff; text-decoration-color: #ff00ff\">1.</span>8187s\n",
              "</pre>\n"
            ],
            "text/plain": [
              "\u001b[30m[\u001b[0m\u001b[90m2024-02-12 \u001b[0m\u001b[90m19:20:12\u001b[0m\u001b[30m]\u001b[0m\u001b[30m[\u001b[0m\u001b[1;32mINFO\u001b[0m\u001b[30m]\u001b[0m\u001b[30m[\u001b[0m\u001b[3;36m<ipython-input-12-99b80f46fd99>\u001b[0m\u001b[92m:\u001b[0m\u001b[30m12\u001b[0m\u001b[30m]\u001b[0m\u001b[1;38;2;131;131;131m - \u001b[0mtook: \u001b[95m1.\u001b[0m8187s\n"
            ]
          },
          "metadata": {},
          "output_type": "display_data"
        },
        {
          "data": {
            "text/html": [
              "<pre style=\"white-space:pre;overflow-x:auto;line-height:normal;font-family:Menlo,'DejaVu Sans Mono',consolas,'Courier New',monospace\"><span style=\"color: #000000; text-decoration-color: #000000\">[</span><span style=\"color: #808080; text-decoration-color: #808080\">2024-02-12 19:20:12</span><span style=\"color: #000000; text-decoration-color: #000000\">][</span><span style=\"color: #008000; text-decoration-color: #008000; font-weight: bold\">INFO</span><span style=\"color: #000000; text-decoration-color: #000000\">][</span><span style=\"color: #008080; text-decoration-color: #008080; font-style: italic\">&lt;ipython-input-12-99b80f46fd99&gt;</span><span style=\"color: #00ff00; text-decoration-color: #00ff00\">:</span><span style=\"color: #000000; text-decoration-color: #000000\">13</span><span style=\"color: #000000; text-decoration-color: #000000\">]</span><span style=\"color: #838383; text-decoration-color: #838383; font-weight: bold\"> - </span><span style=\"color: #ffffff; text-decoration-color: #ffffff; font-weight: bold\">[</span><span style=\"color: #00ff00; text-decoration-color: #00ff00; font-style: italic\">'prompt'</span><span style=\"color: #ffffff; text-decoration-color: #ffffff; font-weight: bold\">]</span>: <span style=\"color: #00ff00; text-decoration-color: #00ff00; font-style: italic\">'What is an LLM?'</span>\n",
              "</pre>\n"
            ],
            "text/plain": [
              "\u001b[30m[\u001b[0m\u001b[90m2024-02-12 \u001b[0m\u001b[90m19:20:12\u001b[0m\u001b[30m]\u001b[0m\u001b[30m[\u001b[0m\u001b[1;32mINFO\u001b[0m\u001b[30m]\u001b[0m\u001b[30m[\u001b[0m\u001b[3;36m<ipython-input-12-99b80f46fd99>\u001b[0m\u001b[92m:\u001b[0m\u001b[30m13\u001b[0m\u001b[30m]\u001b[0m\u001b[1;38;2;131;131;131m - \u001b[0m\u001b[1;97m[\u001b[0m\u001b[3;92m'prompt'\u001b[0m\u001b[1;97m]\u001b[0m: \u001b[3;92m'What is an LLM?'\u001b[0m\n"
            ]
          },
          "metadata": {},
          "output_type": "display_data"
        },
        {
          "data": {
            "text/html": [
              "<pre style=\"white-space:pre;overflow-x:auto;line-height:normal;font-family:Menlo,'DejaVu Sans Mono',consolas,'Courier New',monospace\"><span style=\"color: #000000; text-decoration-color: #000000\">[</span><span style=\"color: #808080; text-decoration-color: #808080\">2024-02-12 19:20:12</span><span style=\"color: #000000; text-decoration-color: #000000\">][</span><span style=\"color: #008000; text-decoration-color: #008000; font-weight: bold\">INFO</span><span style=\"color: #000000; text-decoration-color: #000000\">][</span><span style=\"color: #008080; text-decoration-color: #008080; font-style: italic\">&lt;ipython-input-12-99b80f46fd99&gt;</span><span style=\"color: #00ff00; text-decoration-color: #00ff00\">:</span><span style=\"color: #000000; text-decoration-color: #000000\">14</span><span style=\"color: #000000; text-decoration-color: #000000\">]</span><span style=\"color: #838383; text-decoration-color: #838383; font-weight: bold\"> - </span><span style=\"color: #ffffff; text-decoration-color: #ffffff; font-weight: bold\">[</span><span style=\"color: #00ff00; text-decoration-color: #00ff00; font-style: italic\">'response'</span><span style=\"color: #ffffff; text-decoration-color: #ffffff; font-weight: bold\">]</span>:\n",
              "\n",
              "What is an LLM? what is there?\n",
              "Then the matter, the man that the would not shame,\n",
              "They shall not see him to be thus and will be there.\n",
              "\n",
              "KING RICHARD III:\n",
              "Then I'll not seek the charge of my son:\n",
              "But where it is, that I should be so much a man\n",
              "To be the bastard of the chi\n",
              "</pre>\n"
            ],
            "text/plain": [
              "\u001b[30m[\u001b[0m\u001b[90m2024-02-12 \u001b[0m\u001b[90m19:20:12\u001b[0m\u001b[30m]\u001b[0m\u001b[30m[\u001b[0m\u001b[1;32mINFO\u001b[0m\u001b[30m]\u001b[0m\u001b[30m[\u001b[0m\u001b[3;36m<ipython-input-12-99b80f46fd99>\u001b[0m\u001b[92m:\u001b[0m\u001b[30m14\u001b[0m\u001b[30m]\u001b[0m\u001b[1;38;2;131;131;131m - \u001b[0m\u001b[1;97m[\u001b[0m\u001b[3;92m'response'\u001b[0m\u001b[1;97m]\u001b[0m:\n",
              "\n",
              "What is an LLM? what is there?\n",
              "Then the matter, the man that the would not shame,\n",
              "They shall not see him to be thus and will be there.\n",
              "\n",
              "KING RICHARD III:\n",
              "Then I'll not seek the charge of my son:\n",
              "But where it is, that I should be so much a man\n",
              "To be the bastard of the chi\n"
            ]
          },
          "metadata": {},
          "output_type": "display_data"
        }
      ],
      "source": [
        "import time\n",
        "\n",
        "query = \"What is an LLM?\"\n",
        "t0 = time.perf_counter()\n",
        "outputs = trainer.evaluate(\n",
        "    query,\n",
        "    num_samples=1,\n",
        "    max_new_tokens=256,\n",
        "    top_k=2,\n",
        "    display=False\n",
        ")\n",
        "log.info(f'took: {time.perf_counter() - t0:.4f}s')\n",
        "log.info(f\"['prompt']: '{query}'\")\n",
        "log.info(\"['response']:\\n\\n\" + fr\"{outputs['0']['raw']}\")"
      ]
    },
    {
      "cell_type": "code",
      "execution_count": null,
      "id": "45437956",
      "metadata": {
        "id": "45437956"
      },
      "outputs": [],
      "source": []
    }
  ],
  "metadata": {
    "accelerator": "GPU",
    "colab": {
      "gpuType": "T4",
      "provenance": [],
      "include_colab_link": true
    },
    "kernelspec": {
      "display_name": "Python 3 (ipykernel)",
      "language": "python",
      "name": "python3"
    },
    "language_info": {
      "codemirror_mode": {
        "name": "ipython",
        "version": 3
      },
      "file_extension": ".py",
      "mimetype": "text/x-python",
      "name": "python",
      "nbconvert_exporter": "python",
      "pygments_lexer": "ipython3",
      "version": "3.11.6"
    }
  },
  "nbformat": 4,
  "nbformat_minor": 5
}